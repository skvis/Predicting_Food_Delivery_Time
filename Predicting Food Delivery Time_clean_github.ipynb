{
 "cells": [
  {
   "cell_type": "markdown",
   "metadata": {},
   "source": [
    "# starting the notebook"
   ]
  },
  {
   "cell_type": "markdown",
   "metadata": {
    "heading_collapsed": true
   },
   "source": [
    "## Imports"
   ]
  },
  {
   "cell_type": "code",
   "execution_count": 1,
   "metadata": {
    "ExecuteTime": {
     "end_time": "2019-12-09T07:44:32.802329Z",
     "start_time": "2019-12-09T07:44:32.586298Z"
    },
    "hidden": true
   },
   "outputs": [],
   "source": [
    "%matplotlib inline"
   ]
  },
  {
   "cell_type": "code",
   "execution_count": 2,
   "metadata": {
    "ExecuteTime": {
     "end_time": "2019-12-09T07:44:35.254792Z",
     "start_time": "2019-12-09T07:44:34.723462Z"
    },
    "hidden": true
   },
   "outputs": [],
   "source": [
    "import numpy as np\n",
    "import pandas as pd\n",
    "import matplotlib.pyplot as plt\n",
    "import seaborn as sns\n",
    "import copy\n",
    "import operator\n",
    "\n",
    "from sklearn.preprocessing import LabelEncoder,StandardScaler,OneHotEncoder\n",
    "from sklearn.model_selection import train_test_split\n",
    "from sklearn.ensemble import RandomForestClassifier, RandomForestRegressor\n",
    "from sklearn.metrics import accuracy_score"
   ]
  },
  {
   "cell_type": "code",
   "execution_count": 2,
   "metadata": {
    "hidden": true
   },
   "outputs": [],
   "source": [
    "# pd.set_option('display.max_rows', 999)\n",
    "# pd.set_option('display.max_columns', 999)"
   ]
  },
  {
   "cell_type": "code",
   "execution_count": 4,
   "metadata": {
    "hidden": true
   },
   "outputs": [],
   "source": [
    "?pd.option_context"
   ]
  },
  {
   "cell_type": "markdown",
   "metadata": {
    "heading_collapsed": true
   },
   "source": [
    "## Functions "
   ]
  },
  {
   "cell_type": "code",
   "execution_count": 3,
   "metadata": {
    "ExecuteTime": {
     "end_time": "2019-12-09T07:44:38.092793Z",
     "start_time": "2019-12-09T07:44:38.085985Z"
    },
    "hidden": true
   },
   "outputs": [],
   "source": [
    "def display_all(df):\n",
    "    with pd.option_context(\"display.max_rows\",1000, \"display.max_columns\",1000):\n",
    "        display(df)"
   ]
  },
  {
   "cell_type": "markdown",
   "metadata": {
    "heading_collapsed": true
   },
   "source": [
    "## Reading the data "
   ]
  },
  {
   "cell_type": "code",
   "execution_count": 9,
   "metadata": {
    "hidden": true
   },
   "outputs": [],
   "source": [
    "# # reading data through linux command\n",
    "# !head Data_Train.xlsx"
   ]
  },
  {
   "cell_type": "code",
   "execution_count": 4,
   "metadata": {
    "ExecuteTime": {
     "end_time": "2019-12-09T07:44:43.264596Z",
     "start_time": "2019-12-09T07:44:41.854891Z"
    },
    "hidden": true
   },
   "outputs": [],
   "source": [
    "df_train = pd.read_excel('Data_Train.xlsx')\n",
    "df_test = pd.read_excel(\"Data_Test.xlsx\")"
   ]
  },
  {
   "cell_type": "markdown",
   "metadata": {
    "heading_collapsed": true
   },
   "source": [
    "## Merging train and test data "
   ]
  },
  {
   "cell_type": "code",
   "execution_count": 6,
   "metadata": {
    "ExecuteTime": {
     "end_time": "2019-12-09T07:46:25.951051Z",
     "start_time": "2019-12-09T07:46:25.943450Z"
    },
    "hidden": true
   },
   "outputs": [
    {
     "data": {
      "text/plain": [
       "((11094, 9), (2774, 8))"
      ]
     },
     "execution_count": 6,
     "metadata": {},
     "output_type": "execute_result"
    }
   ],
   "source": [
    "df_train.shape, df_test.shape"
   ]
  },
  {
   "cell_type": "code",
   "execution_count": 7,
   "metadata": {
    "ExecuteTime": {
     "end_time": "2019-12-09T07:46:51.961803Z",
     "start_time": "2019-12-09T07:46:51.894133Z"
    },
    "hidden": true
   },
   "outputs": [],
   "source": [
    "full_df = pd.concat([df_train,df_test],axis=0,sort=False)"
   ]
  },
  {
   "cell_type": "code",
   "execution_count": 8,
   "metadata": {
    "ExecuteTime": {
     "end_time": "2019-12-09T07:46:54.351804Z",
     "start_time": "2019-12-09T07:46:54.348282Z"
    },
    "hidden": true
   },
   "outputs": [
    {
     "data": {
      "text/plain": [
       "(13868, 9)"
      ]
     },
     "execution_count": 8,
     "metadata": {},
     "output_type": "execute_result"
    }
   ],
   "source": [
    "full_df.shape"
   ]
  },
  {
   "cell_type": "code",
   "execution_count": 9,
   "metadata": {
    "ExecuteTime": {
     "end_time": "2019-12-09T07:46:57.351538Z",
     "start_time": "2019-12-09T07:46:57.322320Z"
    },
    "hidden": true
   },
   "outputs": [
    {
     "data": {
      "text/plain": [
       "Restaurant          0\n",
       "Location            0\n",
       "Cuisines            0\n",
       "Average_Cost        0\n",
       "Minimum_Order       0\n",
       "Rating              0\n",
       "Votes               0\n",
       "Reviews             0\n",
       "Delivery_Time    2774\n",
       "dtype: int64"
      ]
     },
     "execution_count": 9,
     "metadata": {},
     "output_type": "execute_result"
    }
   ],
   "source": [
    "full_df.isnull().sum()"
   ]
  },
  {
   "cell_type": "code",
   "execution_count": 11,
   "metadata": {
    "hidden": true
   },
   "outputs": [],
   "source": [
    "# full_df['Delivery_Time'].fillna(value = 0, axis = 0,inplace = True)"
   ]
  },
  {
   "cell_type": "code",
   "execution_count": 10,
   "metadata": {
    "ExecuteTime": {
     "end_time": "2019-12-09T07:47:04.761064Z",
     "start_time": "2019-12-09T07:47:04.756094Z"
    },
    "hidden": true
   },
   "outputs": [],
   "source": [
    "# full_df.isnull().sum()"
   ]
  },
  {
   "cell_type": "code",
   "execution_count": null,
   "metadata": {
    "hidden": true
   },
   "outputs": [],
   "source": [
    "# df_train.iloc[11093]"
   ]
  },
  {
   "cell_type": "code",
   "execution_count": null,
   "metadata": {
    "hidden": true
   },
   "outputs": [],
   "source": [
    "# df_test.iloc[0]"
   ]
  },
  {
   "cell_type": "code",
   "execution_count": null,
   "metadata": {
    "hidden": true
   },
   "outputs": [],
   "source": [
    "# full_df.iloc[11094]"
   ]
  },
  {
   "cell_type": "raw",
   "metadata": {
    "hidden": true
   },
   "source": [
    "after preprocessing split on 11094\n",
    "train- 0:11094\n",
    "test- 11094:13868"
   ]
  },
  {
   "cell_type": "markdown",
   "metadata": {
    "heading_collapsed": true
   },
   "source": [
    "## Analyzing the data"
   ]
  },
  {
   "cell_type": "code",
   "execution_count": 123,
   "metadata": {
    "hidden": true
   },
   "outputs": [
    {
     "data": {
      "text/plain": [
       "Restaurant  Delivery_Time\n",
       "ID_0        30 minutes       1\n",
       "ID_1        30 minutes       1\n",
       "ID_100      30 minutes       1\n",
       "ID_1000     30 minutes       1\n",
       "ID_1001     30 minutes       1\n",
       "                            ..\n",
       "ID_995      30 minutes       1\n",
       "ID_996      45 minutes       2\n",
       "ID_997      30 minutes       1\n",
       "ID_998      65 minutes       1\n",
       "ID_999      65 minutes       2\n",
       "Name: Delivery_Time, Length: 7815, dtype: int64"
      ]
     },
     "execution_count": 123,
     "metadata": {},
     "output_type": "execute_result"
    }
   ],
   "source": [
    "df_train.groupby('Restaurant')['Delivery_Time'].value_counts()"
   ]
  },
  {
   "cell_type": "code",
   "execution_count": 17,
   "metadata": {
    "hidden": true
   },
   "outputs": [
    {
     "data": {
      "text/plain": [
       "(2774, 8)"
      ]
     },
     "execution_count": 17,
     "metadata": {},
     "output_type": "execute_result"
    }
   ],
   "source": [
    "df_test.shape"
   ]
  },
  {
   "cell_type": "code",
   "execution_count": 104,
   "metadata": {
    "hidden": true
   },
   "outputs": [],
   "source": [
    "# rtrain = df_train[df_train['Restaurant'].isin(df_test['Restaurant'])]\n",
    "# rtest = df_test[df_test['Restaurant'].isin(df_train['Restaurant'])]\n",
    "# rtrain.to_csv('rtain.csv')\n",
    "# rtest.to_csv('rtest.csv')\n",
    "# del rtrain,rtest\n",
    "# set(list(df_test[df_test['Restaurant'].isin(df_train['Restaurant'])]['Restaurant'])) < set(list(df_train[df_train['Restaurant'].isin(df_test['Restaurant'])]['Restaurant']))"
   ]
  },
  {
   "cell_type": "code",
   "execution_count": 125,
   "metadata": {
    "hidden": true
   },
   "outputs": [
    {
     "data": {
      "text/html": [
       "<div>\n",
       "<style scoped>\n",
       "    .dataframe tbody tr th:only-of-type {\n",
       "        vertical-align: middle;\n",
       "    }\n",
       "\n",
       "    .dataframe tbody tr th {\n",
       "        vertical-align: top;\n",
       "    }\n",
       "\n",
       "    .dataframe thead th {\n",
       "        text-align: right;\n",
       "    }\n",
       "</style>\n",
       "<table border=\"1\" class=\"dataframe\">\n",
       "  <thead>\n",
       "    <tr style=\"text-align: right;\">\n",
       "      <th></th>\n",
       "      <th>Restaurant</th>\n",
       "      <th>Location</th>\n",
       "      <th>Cuisines</th>\n",
       "      <th>Average_Cost</th>\n",
       "      <th>Minimum_Order</th>\n",
       "      <th>Rating</th>\n",
       "      <th>Votes</th>\n",
       "      <th>Reviews</th>\n",
       "      <th>Delivery_Time</th>\n",
       "    </tr>\n",
       "  </thead>\n",
       "  <tbody>\n",
       "    <tr>\n",
       "      <th>0</th>\n",
       "      <td>ID_6321</td>\n",
       "      <td>FTI College, Law College Road, Pune</td>\n",
       "      <td>Fast Food, Rolls, Burger, Salad, Wraps</td>\n",
       "      <td>₹200</td>\n",
       "      <td>₹50</td>\n",
       "      <td>3.5</td>\n",
       "      <td>12</td>\n",
       "      <td>4</td>\n",
       "      <td>30 minutes</td>\n",
       "    </tr>\n",
       "    <tr>\n",
       "      <th>1</th>\n",
       "      <td>ID_2882</td>\n",
       "      <td>Sector 3, Marathalli</td>\n",
       "      <td>Ice Cream, Desserts</td>\n",
       "      <td>₹100</td>\n",
       "      <td>₹50</td>\n",
       "      <td>3.5</td>\n",
       "      <td>11</td>\n",
       "      <td>4</td>\n",
       "      <td>30 minutes</td>\n",
       "    </tr>\n",
       "    <tr>\n",
       "      <th>2</th>\n",
       "      <td>ID_1595</td>\n",
       "      <td>Mumbai Central</td>\n",
       "      <td>Italian, Street Food, Fast Food</td>\n",
       "      <td>₹150</td>\n",
       "      <td>₹50</td>\n",
       "      <td>3.6</td>\n",
       "      <td>99</td>\n",
       "      <td>30</td>\n",
       "      <td>65 minutes</td>\n",
       "    </tr>\n",
       "    <tr>\n",
       "      <th>3</th>\n",
       "      <td>ID_5929</td>\n",
       "      <td>Sector 1, Noida</td>\n",
       "      <td>Mughlai, North Indian, Chinese</td>\n",
       "      <td>₹250</td>\n",
       "      <td>₹99</td>\n",
       "      <td>3.7</td>\n",
       "      <td>176</td>\n",
       "      <td>95</td>\n",
       "      <td>30 minutes</td>\n",
       "    </tr>\n",
       "    <tr>\n",
       "      <th>4</th>\n",
       "      <td>ID_6123</td>\n",
       "      <td>Rmz Centennial, I Gate, Whitefield</td>\n",
       "      <td>Cafe, Beverages</td>\n",
       "      <td>₹200</td>\n",
       "      <td>₹99</td>\n",
       "      <td>3.2</td>\n",
       "      <td>521</td>\n",
       "      <td>235</td>\n",
       "      <td>65 minutes</td>\n",
       "    </tr>\n",
       "  </tbody>\n",
       "</table>\n",
       "</div>"
      ],
      "text/plain": [
       "  Restaurant                             Location  \\\n",
       "0    ID_6321  FTI College, Law College Road, Pune   \n",
       "1    ID_2882                 Sector 3, Marathalli   \n",
       "2    ID_1595                       Mumbai Central   \n",
       "3    ID_5929                      Sector 1, Noida   \n",
       "4    ID_6123   Rmz Centennial, I Gate, Whitefield   \n",
       "\n",
       "                                 Cuisines Average_Cost Minimum_Order Rating  \\\n",
       "0  Fast Food, Rolls, Burger, Salad, Wraps         ₹200           ₹50    3.5   \n",
       "1                     Ice Cream, Desserts         ₹100           ₹50    3.5   \n",
       "2         Italian, Street Food, Fast Food         ₹150           ₹50    3.6   \n",
       "3          Mughlai, North Indian, Chinese         ₹250           ₹99    3.7   \n",
       "4                         Cafe, Beverages         ₹200           ₹99    3.2   \n",
       "\n",
       "  Votes Reviews Delivery_Time  \n",
       "0    12       4    30 minutes  \n",
       "1    11       4    30 minutes  \n",
       "2    99      30    65 minutes  \n",
       "3   176      95    30 minutes  \n",
       "4   521     235    65 minutes  "
      ]
     },
     "execution_count": 125,
     "metadata": {},
     "output_type": "execute_result"
    }
   ],
   "source": [
    "full_df.head()"
   ]
  },
  {
   "cell_type": "code",
   "execution_count": 126,
   "metadata": {
    "hidden": true
   },
   "outputs": [
    {
     "data": {
      "text/plain": [
       "(13868, 9)"
      ]
     },
     "execution_count": 126,
     "metadata": {},
     "output_type": "execute_result"
    }
   ],
   "source": [
    "full_df.shape"
   ]
  },
  {
   "cell_type": "code",
   "execution_count": 127,
   "metadata": {
    "hidden": true
   },
   "outputs": [
    {
     "name": "stdout",
     "output_type": "stream",
     "text": [
      "<class 'pandas.core.frame.DataFrame'>\n",
      "Int64Index: 13868 entries, 0 to 2773\n",
      "Data columns (total 9 columns):\n",
      "Restaurant       13868 non-null object\n",
      "Location         13868 non-null object\n",
      "Cuisines         13868 non-null object\n",
      "Average_Cost     13868 non-null object\n",
      "Minimum_Order    13868 non-null object\n",
      "Rating           13868 non-null object\n",
      "Votes            13868 non-null object\n",
      "Reviews          13868 non-null object\n",
      "Delivery_Time    11094 non-null object\n",
      "dtypes: object(9)\n",
      "memory usage: 1.1+ MB\n"
     ]
    }
   ],
   "source": [
    "full_df.info()"
   ]
  },
  {
   "cell_type": "code",
   "execution_count": 129,
   "metadata": {
    "hidden": true
   },
   "outputs": [
    {
     "data": {
      "text/html": [
       "<div>\n",
       "<style scoped>\n",
       "    .dataframe tbody tr th:only-of-type {\n",
       "        vertical-align: middle;\n",
       "    }\n",
       "\n",
       "    .dataframe tbody tr th {\n",
       "        vertical-align: top;\n",
       "    }\n",
       "\n",
       "    .dataframe thead th {\n",
       "        text-align: right;\n",
       "    }\n",
       "</style>\n",
       "<table border=\"1\" class=\"dataframe\">\n",
       "  <thead>\n",
       "    <tr style=\"text-align: right;\">\n",
       "      <th></th>\n",
       "      <th>Restaurant</th>\n",
       "      <th>Location</th>\n",
       "      <th>Cuisines</th>\n",
       "      <th>Average_Cost</th>\n",
       "      <th>Minimum_Order</th>\n",
       "      <th>Rating</th>\n",
       "      <th>Votes</th>\n",
       "      <th>Reviews</th>\n",
       "      <th>Delivery_Time</th>\n",
       "    </tr>\n",
       "  </thead>\n",
       "  <tbody>\n",
       "    <tr>\n",
       "      <th>count</th>\n",
       "      <td>13868</td>\n",
       "      <td>13868</td>\n",
       "      <td>13868</td>\n",
       "      <td>13868</td>\n",
       "      <td>13868</td>\n",
       "      <td>13868</td>\n",
       "      <td>13868</td>\n",
       "      <td>13868</td>\n",
       "      <td>11094</td>\n",
       "    </tr>\n",
       "    <tr>\n",
       "      <th>unique</th>\n",
       "      <td>8661</td>\n",
       "      <td>35</td>\n",
       "      <td>2392</td>\n",
       "      <td>26</td>\n",
       "      <td>20</td>\n",
       "      <td>33</td>\n",
       "      <td>1181</td>\n",
       "      <td>811</td>\n",
       "      <td>7</td>\n",
       "    </tr>\n",
       "    <tr>\n",
       "      <th>top</th>\n",
       "      <td>ID_5538</td>\n",
       "      <td>Mico Layout, Stage 2, BTM Layout,Bangalore</td>\n",
       "      <td>North Indian</td>\n",
       "      <td>₹200</td>\n",
       "      <td>₹50</td>\n",
       "      <td>-</td>\n",
       "      <td>-</td>\n",
       "      <td>-</td>\n",
       "      <td>30 minutes</td>\n",
       "    </tr>\n",
       "    <tr>\n",
       "      <th>freq</th>\n",
       "      <td>26</td>\n",
       "      <td>1158</td>\n",
       "      <td>1076</td>\n",
       "      <td>4061</td>\n",
       "      <td>12674</td>\n",
       "      <td>1496</td>\n",
       "      <td>2616</td>\n",
       "      <td>2905</td>\n",
       "      <td>7406</td>\n",
       "    </tr>\n",
       "  </tbody>\n",
       "</table>\n",
       "</div>"
      ],
      "text/plain": [
       "       Restaurant                                    Location      Cuisines  \\\n",
       "count       13868                                       13868         13868   \n",
       "unique       8661                                          35          2392   \n",
       "top       ID_5538  Mico Layout, Stage 2, BTM Layout,Bangalore  North Indian   \n",
       "freq           26                                        1158          1076   \n",
       "\n",
       "       Average_Cost Minimum_Order Rating  Votes Reviews Delivery_Time  \n",
       "count         13868         13868  13868  13868   13868         11094  \n",
       "unique           26            20     33   1181     811             7  \n",
       "top            ₹200           ₹50      -      -       -    30 minutes  \n",
       "freq           4061         12674   1496   2616    2905          7406  "
      ]
     },
     "execution_count": 129,
     "metadata": {},
     "output_type": "execute_result"
    }
   ],
   "source": [
    "full_df.describe(include = 'all')"
   ]
  },
  {
   "cell_type": "code",
   "execution_count": 6,
   "metadata": {
    "hidden": true
   },
   "outputs": [
    {
     "data": {
      "text/plain": [
       "Restaurant          0\n",
       "Location            0\n",
       "Cuisines            0\n",
       "Average_Cost        0\n",
       "Minimum_Order       0\n",
       "Rating              0\n",
       "Votes               0\n",
       "Reviews             0\n",
       "Delivery_Time    2774\n",
       "dtype: int64"
      ]
     },
     "execution_count": 6,
     "metadata": {},
     "output_type": "execute_result"
    }
   ],
   "source": [
    "full_df.isnull().sum()"
   ]
  },
  {
   "cell_type": "code",
   "execution_count": 131,
   "metadata": {
    "hidden": true
   },
   "outputs": [
    {
     "data": {
      "text/plain": [
       "30 minutes     7406\n",
       "45 minutes     2665\n",
       "65 minutes      923\n",
       "120 minutes      62\n",
       "20 minutes       20\n",
       "80 minutes       14\n",
       "10 minutes        4\n",
       "Name: Delivery_Time, dtype: int64"
      ]
     },
     "execution_count": 131,
     "metadata": {},
     "output_type": "execute_result"
    }
   ],
   "source": [
    "full_df['Delivery_Time'].value_counts()"
   ]
  },
  {
   "cell_type": "code",
   "execution_count": 140,
   "metadata": {
    "hidden": true
   },
   "outputs": [
    {
     "data": {
      "text/plain": [
       "ID_5538    26\n",
       "ID_7184    25\n",
       "ID_2483    24\n",
       "ID_7295    23\n",
       "ID_1209    23\n",
       "           ..\n",
       "ID_6720     1\n",
       "ID_7172     1\n",
       "ID_250      1\n",
       "ID_7522     1\n",
       "ID_7268     1\n",
       "Name: Restaurant, Length: 8661, dtype: int64"
      ]
     },
     "execution_count": 140,
     "metadata": {},
     "output_type": "execute_result"
    }
   ],
   "source": [
    "full_df['Restaurant'].value_counts()"
   ]
  },
  {
   "cell_type": "code",
   "execution_count": 144,
   "metadata": {
    "hidden": true,
    "scrolled": true
   },
   "outputs": [
    {
     "data": {
      "text/html": [
       "<div>\n",
       "<style scoped>\n",
       "    .dataframe tbody tr th:only-of-type {\n",
       "        vertical-align: middle;\n",
       "    }\n",
       "\n",
       "    .dataframe tbody tr th {\n",
       "        vertical-align: top;\n",
       "    }\n",
       "\n",
       "    .dataframe thead th {\n",
       "        text-align: right;\n",
       "    }\n",
       "</style>\n",
       "<table border=\"1\" class=\"dataframe\">\n",
       "  <thead>\n",
       "    <tr style=\"text-align: right;\">\n",
       "      <th></th>\n",
       "      <th>Restaurant</th>\n",
       "      <th>Location</th>\n",
       "      <th>Cuisines</th>\n",
       "      <th>Average_Cost</th>\n",
       "      <th>Minimum_Order</th>\n",
       "      <th>Rating</th>\n",
       "      <th>Votes</th>\n",
       "      <th>Reviews</th>\n",
       "      <th>Delivery_Time</th>\n",
       "    </tr>\n",
       "  </thead>\n",
       "  <tbody>\n",
       "    <tr>\n",
       "      <th>349</th>\n",
       "      <td>ID_7295</td>\n",
       "      <td>Noorkhan Bazaar, Malakpet, Hyderabad</td>\n",
       "      <td>Bakery, Desserts, Ice Cream</td>\n",
       "      <td>₹150</td>\n",
       "      <td>₹50</td>\n",
       "      <td>3.9</td>\n",
       "      <td>76</td>\n",
       "      <td>22</td>\n",
       "      <td>45 minutes</td>\n",
       "    </tr>\n",
       "    <tr>\n",
       "      <th>722</th>\n",
       "      <td>ID_7295</td>\n",
       "      <td>Musi Nagar, Malakpet, Hyderabad</td>\n",
       "      <td>Bakery, Desserts, Ice Cream</td>\n",
       "      <td>₹150</td>\n",
       "      <td>₹50</td>\n",
       "      <td>3.9</td>\n",
       "      <td>76</td>\n",
       "      <td>22</td>\n",
       "      <td>45 minutes</td>\n",
       "    </tr>\n",
       "    <tr>\n",
       "      <th>1619</th>\n",
       "      <td>ID_7295</td>\n",
       "      <td>Sector 63A,Gurgaon</td>\n",
       "      <td>Bakery, Desserts</td>\n",
       "      <td>₹150</td>\n",
       "      <td>₹50</td>\n",
       "      <td>3.7</td>\n",
       "      <td>45</td>\n",
       "      <td>30</td>\n",
       "      <td>45 minutes</td>\n",
       "    </tr>\n",
       "    <tr>\n",
       "      <th>2000</th>\n",
       "      <td>ID_7295</td>\n",
       "      <td>Hyderabad Public School, Begumpet</td>\n",
       "      <td>Bakery, Desserts, Ice Cream</td>\n",
       "      <td>₹150</td>\n",
       "      <td>₹50</td>\n",
       "      <td>3.9</td>\n",
       "      <td>58</td>\n",
       "      <td>30</td>\n",
       "      <td>45 minutes</td>\n",
       "    </tr>\n",
       "    <tr>\n",
       "      <th>4286</th>\n",
       "      <td>ID_7295</td>\n",
       "      <td>Delhi High Court, India Gate</td>\n",
       "      <td>Bakery, Desserts</td>\n",
       "      <td>₹150</td>\n",
       "      <td>₹50</td>\n",
       "      <td>4.0</td>\n",
       "      <td>90</td>\n",
       "      <td>60</td>\n",
       "      <td>45 minutes</td>\n",
       "    </tr>\n",
       "    <tr>\n",
       "      <th>4360</th>\n",
       "      <td>ID_7295</td>\n",
       "      <td>Nathan Road, Mangaldas Road, Pune</td>\n",
       "      <td>Bakery, Desserts, Ice Cream</td>\n",
       "      <td>₹150</td>\n",
       "      <td>₹50</td>\n",
       "      <td>4.1</td>\n",
       "      <td>58</td>\n",
       "      <td>39</td>\n",
       "      <td>45 minutes</td>\n",
       "    </tr>\n",
       "    <tr>\n",
       "      <th>4482</th>\n",
       "      <td>ID_7295</td>\n",
       "      <td>D-Block, Sector 63, Noida</td>\n",
       "      <td>Bakery, Desserts</td>\n",
       "      <td>₹150</td>\n",
       "      <td>₹50</td>\n",
       "      <td>3.8</td>\n",
       "      <td>51</td>\n",
       "      <td>27</td>\n",
       "      <td>45 minutes</td>\n",
       "    </tr>\n",
       "    <tr>\n",
       "      <th>5151</th>\n",
       "      <td>ID_7295</td>\n",
       "      <td>Sector 14, Noida</td>\n",
       "      <td>Bakery, Desserts</td>\n",
       "      <td>₹150</td>\n",
       "      <td>₹50</td>\n",
       "      <td>3.9</td>\n",
       "      <td>90</td>\n",
       "      <td>53</td>\n",
       "      <td>45 minutes</td>\n",
       "    </tr>\n",
       "    <tr>\n",
       "      <th>5321</th>\n",
       "      <td>ID_7295</td>\n",
       "      <td>Jaya Nagar, Saidabad, Hyderabad</td>\n",
       "      <td>Bakery, Desserts, Ice Cream</td>\n",
       "      <td>₹150</td>\n",
       "      <td>₹50</td>\n",
       "      <td>-</td>\n",
       "      <td>-</td>\n",
       "      <td>-</td>\n",
       "      <td>30 minutes</td>\n",
       "    </tr>\n",
       "    <tr>\n",
       "      <th>5682</th>\n",
       "      <td>ID_7295</td>\n",
       "      <td>Panjetan Colony, Malakpet, Hyderabad</td>\n",
       "      <td>Bakery, Desserts, Ice Cream</td>\n",
       "      <td>₹150</td>\n",
       "      <td>₹50</td>\n",
       "      <td>3.9</td>\n",
       "      <td>76</td>\n",
       "      <td>22</td>\n",
       "      <td>45 minutes</td>\n",
       "    </tr>\n",
       "    <tr>\n",
       "      <th>6383</th>\n",
       "      <td>ID_7295</td>\n",
       "      <td>Rmz Centennial, I Gate, Whitefield</td>\n",
       "      <td>Bakery, Desserts</td>\n",
       "      <td>₹150</td>\n",
       "      <td>₹50</td>\n",
       "      <td>3.8</td>\n",
       "      <td>51</td>\n",
       "      <td>27</td>\n",
       "      <td>45 minutes</td>\n",
       "    </tr>\n",
       "    <tr>\n",
       "      <th>7852</th>\n",
       "      <td>ID_7295</td>\n",
       "      <td>Chatta Bazaar, Malakpet, Hyderabad</td>\n",
       "      <td>Bakery, Desserts, Ice Cream</td>\n",
       "      <td>₹150</td>\n",
       "      <td>₹50</td>\n",
       "      <td>3.9</td>\n",
       "      <td>76</td>\n",
       "      <td>22</td>\n",
       "      <td>45 minutes</td>\n",
       "    </tr>\n",
       "    <tr>\n",
       "      <th>8432</th>\n",
       "      <td>ID_7295</td>\n",
       "      <td>MG Road, Pune</td>\n",
       "      <td>Bakery, Desserts, Ice Cream</td>\n",
       "      <td>₹150</td>\n",
       "      <td>₹50</td>\n",
       "      <td>4.1</td>\n",
       "      <td>40</td>\n",
       "      <td>31</td>\n",
       "      <td>45 minutes</td>\n",
       "    </tr>\n",
       "    <tr>\n",
       "      <th>8568</th>\n",
       "      <td>ID_7295</td>\n",
       "      <td>Mico Layout, Stage 2, BTM Layout,Bangalore</td>\n",
       "      <td>Bakery, Desserts</td>\n",
       "      <td>₹150</td>\n",
       "      <td>₹50</td>\n",
       "      <td>3.9</td>\n",
       "      <td>56</td>\n",
       "      <td>37</td>\n",
       "      <td>45 minutes</td>\n",
       "    </tr>\n",
       "    <tr>\n",
       "      <th>9034</th>\n",
       "      <td>ID_7295</td>\n",
       "      <td>Sector 3, Marathalli</td>\n",
       "      <td>Bakery, Desserts</td>\n",
       "      <td>₹150</td>\n",
       "      <td>₹50</td>\n",
       "      <td>3.8</td>\n",
       "      <td>68</td>\n",
       "      <td>47</td>\n",
       "      <td>45 minutes</td>\n",
       "    </tr>\n",
       "    <tr>\n",
       "      <th>9699</th>\n",
       "      <td>ID_7295</td>\n",
       "      <td>Sector 1, Noida</td>\n",
       "      <td>Bakery, Desserts</td>\n",
       "      <td>₹150</td>\n",
       "      <td>₹50</td>\n",
       "      <td>3.9</td>\n",
       "      <td>90</td>\n",
       "      <td>53</td>\n",
       "      <td>45 minutes</td>\n",
       "    </tr>\n",
       "    <tr>\n",
       "      <th>10248</th>\n",
       "      <td>ID_7295</td>\n",
       "      <td>Pune University</td>\n",
       "      <td>Bakery, Desserts, Ice Cream</td>\n",
       "      <td>₹150</td>\n",
       "      <td>₹50</td>\n",
       "      <td>4.1</td>\n",
       "      <td>67</td>\n",
       "      <td>53</td>\n",
       "      <td>45 minutes</td>\n",
       "    </tr>\n",
       "    <tr>\n",
       "      <th>10690</th>\n",
       "      <td>ID_7295</td>\n",
       "      <td>FTI College, Law College Road, Pune</td>\n",
       "      <td>Bakery, Desserts, Ice Cream</td>\n",
       "      <td>₹150</td>\n",
       "      <td>₹50</td>\n",
       "      <td>4.1</td>\n",
       "      <td>77</td>\n",
       "      <td>45</td>\n",
       "      <td>45 minutes</td>\n",
       "    </tr>\n",
       "    <tr>\n",
       "      <th>10824</th>\n",
       "      <td>ID_7295</td>\n",
       "      <td>Yerawada, Pune, Maharashtra</td>\n",
       "      <td>Bakery, Desserts, Ice Cream</td>\n",
       "      <td>₹150</td>\n",
       "      <td>₹50</td>\n",
       "      <td>4.1</td>\n",
       "      <td>53</td>\n",
       "      <td>42</td>\n",
       "      <td>45 minutes</td>\n",
       "    </tr>\n",
       "    <tr>\n",
       "      <th>10960</th>\n",
       "      <td>ID_7295</td>\n",
       "      <td>Majestic</td>\n",
       "      <td>Bakery, Desserts</td>\n",
       "      <td>₹150</td>\n",
       "      <td>₹50</td>\n",
       "      <td>3.8</td>\n",
       "      <td>50</td>\n",
       "      <td>29</td>\n",
       "      <td>45 minutes</td>\n",
       "    </tr>\n",
       "    <tr>\n",
       "      <th>66</th>\n",
       "      <td>ID_7295</td>\n",
       "      <td>Laxman Vihar Industrial Area, Sector 3A, Gurgoan</td>\n",
       "      <td>Bakery, Desserts</td>\n",
       "      <td>₹150</td>\n",
       "      <td>₹50</td>\n",
       "      <td>3.6</td>\n",
       "      <td>27</td>\n",
       "      <td>12</td>\n",
       "      <td>NaN</td>\n",
       "    </tr>\n",
       "    <tr>\n",
       "      <th>145</th>\n",
       "      <td>ID_7295</td>\n",
       "      <td>Delhi University-GTB Nagar</td>\n",
       "      <td>Bakery, Desserts</td>\n",
       "      <td>₹150</td>\n",
       "      <td>₹50</td>\n",
       "      <td>3.9</td>\n",
       "      <td>106</td>\n",
       "      <td>63</td>\n",
       "      <td>NaN</td>\n",
       "    </tr>\n",
       "    <tr>\n",
       "      <th>2381</th>\n",
       "      <td>ID_7295</td>\n",
       "      <td>Delhi Administration Flats, Timarpur</td>\n",
       "      <td>Bakery, Desserts</td>\n",
       "      <td>₹150</td>\n",
       "      <td>₹50</td>\n",
       "      <td>3.9</td>\n",
       "      <td>106</td>\n",
       "      <td>63</td>\n",
       "      <td>NaN</td>\n",
       "    </tr>\n",
       "  </tbody>\n",
       "</table>\n",
       "</div>"
      ],
      "text/plain": [
       "      Restaurant                                          Location  \\\n",
       "349      ID_7295              Noorkhan Bazaar, Malakpet, Hyderabad   \n",
       "722      ID_7295                   Musi Nagar, Malakpet, Hyderabad   \n",
       "1619     ID_7295                                Sector 63A,Gurgaon   \n",
       "2000     ID_7295                 Hyderabad Public School, Begumpet   \n",
       "4286     ID_7295                      Delhi High Court, India Gate   \n",
       "4360     ID_7295                 Nathan Road, Mangaldas Road, Pune   \n",
       "4482     ID_7295                         D-Block, Sector 63, Noida   \n",
       "5151     ID_7295                                  Sector 14, Noida   \n",
       "5321     ID_7295                   Jaya Nagar, Saidabad, Hyderabad   \n",
       "5682     ID_7295              Panjetan Colony, Malakpet, Hyderabad   \n",
       "6383     ID_7295                Rmz Centennial, I Gate, Whitefield   \n",
       "7852     ID_7295                Chatta Bazaar, Malakpet, Hyderabad   \n",
       "8432     ID_7295                                     MG Road, Pune   \n",
       "8568     ID_7295        Mico Layout, Stage 2, BTM Layout,Bangalore   \n",
       "9034     ID_7295                              Sector 3, Marathalli   \n",
       "9699     ID_7295                                   Sector 1, Noida   \n",
       "10248    ID_7295                                   Pune University   \n",
       "10690    ID_7295               FTI College, Law College Road, Pune   \n",
       "10824    ID_7295                       Yerawada, Pune, Maharashtra   \n",
       "10960    ID_7295                                          Majestic   \n",
       "66       ID_7295  Laxman Vihar Industrial Area, Sector 3A, Gurgoan   \n",
       "145      ID_7295                        Delhi University-GTB Nagar   \n",
       "2381     ID_7295              Delhi Administration Flats, Timarpur   \n",
       "\n",
       "                          Cuisines Average_Cost Minimum_Order Rating Votes  \\\n",
       "349    Bakery, Desserts, Ice Cream         ₹150           ₹50    3.9    76   \n",
       "722    Bakery, Desserts, Ice Cream         ₹150           ₹50    3.9    76   \n",
       "1619              Bakery, Desserts         ₹150           ₹50    3.7    45   \n",
       "2000   Bakery, Desserts, Ice Cream         ₹150           ₹50    3.9    58   \n",
       "4286              Bakery, Desserts         ₹150           ₹50    4.0    90   \n",
       "4360   Bakery, Desserts, Ice Cream         ₹150           ₹50    4.1    58   \n",
       "4482              Bakery, Desserts         ₹150           ₹50    3.8    51   \n",
       "5151              Bakery, Desserts         ₹150           ₹50    3.9    90   \n",
       "5321   Bakery, Desserts, Ice Cream         ₹150           ₹50      -     -   \n",
       "5682   Bakery, Desserts, Ice Cream         ₹150           ₹50    3.9    76   \n",
       "6383              Bakery, Desserts         ₹150           ₹50    3.8    51   \n",
       "7852   Bakery, Desserts, Ice Cream         ₹150           ₹50    3.9    76   \n",
       "8432   Bakery, Desserts, Ice Cream         ₹150           ₹50    4.1    40   \n",
       "8568              Bakery, Desserts         ₹150           ₹50    3.9    56   \n",
       "9034              Bakery, Desserts         ₹150           ₹50    3.8    68   \n",
       "9699              Bakery, Desserts         ₹150           ₹50    3.9    90   \n",
       "10248  Bakery, Desserts, Ice Cream         ₹150           ₹50    4.1    67   \n",
       "10690  Bakery, Desserts, Ice Cream         ₹150           ₹50    4.1    77   \n",
       "10824  Bakery, Desserts, Ice Cream         ₹150           ₹50    4.1    53   \n",
       "10960             Bakery, Desserts         ₹150           ₹50    3.8    50   \n",
       "66                Bakery, Desserts         ₹150           ₹50    3.6    27   \n",
       "145               Bakery, Desserts         ₹150           ₹50    3.9   106   \n",
       "2381              Bakery, Desserts         ₹150           ₹50    3.9   106   \n",
       "\n",
       "      Reviews Delivery_Time  \n",
       "349        22    45 minutes  \n",
       "722        22    45 minutes  \n",
       "1619       30    45 minutes  \n",
       "2000       30    45 minutes  \n",
       "4286       60    45 minutes  \n",
       "4360       39    45 minutes  \n",
       "4482       27    45 minutes  \n",
       "5151       53    45 minutes  \n",
       "5321        -    30 minutes  \n",
       "5682       22    45 minutes  \n",
       "6383       27    45 minutes  \n",
       "7852       22    45 minutes  \n",
       "8432       31    45 minutes  \n",
       "8568       37    45 minutes  \n",
       "9034       47    45 minutes  \n",
       "9699       53    45 minutes  \n",
       "10248      53    45 minutes  \n",
       "10690      45    45 minutes  \n",
       "10824      42    45 minutes  \n",
       "10960      29    45 minutes  \n",
       "66         12           NaN  \n",
       "145        63           NaN  \n",
       "2381       63           NaN  "
      ]
     },
     "execution_count": 144,
     "metadata": {},
     "output_type": "execute_result"
    }
   ],
   "source": [
    "full_df[full_df['Restaurant'] == 'ID_7295']"
   ]
  },
  {
   "cell_type": "markdown",
   "metadata": {
    "heading_collapsed": true
   },
   "source": [
    "## copying data"
   ]
  },
  {
   "cell_type": "code",
   "execution_count": 7,
   "metadata": {
    "ExecuteTime": {
     "end_time": "2019-12-09T06:20:39.821073Z",
     "start_time": "2019-12-09T06:20:39.808993Z"
    },
    "hidden": true
   },
   "outputs": [],
   "source": [
    "# to copy both train and test data\n",
    "dfc = copy.copy(full_df)"
   ]
  },
  {
   "cell_type": "code",
   "execution_count": null,
   "metadata": {
    "hidden": true
   },
   "outputs": [],
   "source": [
    "# to copy only train data\n",
    "# dfc = copy.copy(df_train)"
   ]
  },
  {
   "cell_type": "markdown",
   "metadata": {
    "heading_collapsed": true
   },
   "source": [
    "## feature preprocessing"
   ]
  },
  {
   "cell_type": "code",
   "execution_count": 8,
   "metadata": {
    "hidden": true
   },
   "outputs": [
    {
     "data": {
      "text/html": [
       "<div>\n",
       "<style scoped>\n",
       "    .dataframe tbody tr th:only-of-type {\n",
       "        vertical-align: middle;\n",
       "    }\n",
       "\n",
       "    .dataframe tbody tr th {\n",
       "        vertical-align: top;\n",
       "    }\n",
       "\n",
       "    .dataframe thead th {\n",
       "        text-align: right;\n",
       "    }\n",
       "</style>\n",
       "<table border=\"1\" class=\"dataframe\">\n",
       "  <thead>\n",
       "    <tr style=\"text-align: right;\">\n",
       "      <th></th>\n",
       "      <th>Restaurant</th>\n",
       "      <th>Location</th>\n",
       "      <th>Cuisines</th>\n",
       "      <th>Average_Cost</th>\n",
       "      <th>Minimum_Order</th>\n",
       "      <th>Rating</th>\n",
       "      <th>Votes</th>\n",
       "      <th>Reviews</th>\n",
       "      <th>Delivery_Time</th>\n",
       "    </tr>\n",
       "  </thead>\n",
       "  <tbody>\n",
       "    <tr>\n",
       "      <th>0</th>\n",
       "      <td>ID_6321</td>\n",
       "      <td>FTI College, Law College Road, Pune</td>\n",
       "      <td>Fast Food, Rolls, Burger, Salad, Wraps</td>\n",
       "      <td>₹200</td>\n",
       "      <td>₹50</td>\n",
       "      <td>3.5</td>\n",
       "      <td>12</td>\n",
       "      <td>4</td>\n",
       "      <td>30 minutes</td>\n",
       "    </tr>\n",
       "    <tr>\n",
       "      <th>1</th>\n",
       "      <td>ID_2882</td>\n",
       "      <td>Sector 3, Marathalli</td>\n",
       "      <td>Ice Cream, Desserts</td>\n",
       "      <td>₹100</td>\n",
       "      <td>₹50</td>\n",
       "      <td>3.5</td>\n",
       "      <td>11</td>\n",
       "      <td>4</td>\n",
       "      <td>30 minutes</td>\n",
       "    </tr>\n",
       "    <tr>\n",
       "      <th>2</th>\n",
       "      <td>ID_1595</td>\n",
       "      <td>Mumbai Central</td>\n",
       "      <td>Italian, Street Food, Fast Food</td>\n",
       "      <td>₹150</td>\n",
       "      <td>₹50</td>\n",
       "      <td>3.6</td>\n",
       "      <td>99</td>\n",
       "      <td>30</td>\n",
       "      <td>65 minutes</td>\n",
       "    </tr>\n",
       "    <tr>\n",
       "      <th>3</th>\n",
       "      <td>ID_5929</td>\n",
       "      <td>Sector 1, Noida</td>\n",
       "      <td>Mughlai, North Indian, Chinese</td>\n",
       "      <td>₹250</td>\n",
       "      <td>₹99</td>\n",
       "      <td>3.7</td>\n",
       "      <td>176</td>\n",
       "      <td>95</td>\n",
       "      <td>30 minutes</td>\n",
       "    </tr>\n",
       "    <tr>\n",
       "      <th>4</th>\n",
       "      <td>ID_6123</td>\n",
       "      <td>Rmz Centennial, I Gate, Whitefield</td>\n",
       "      <td>Cafe, Beverages</td>\n",
       "      <td>₹200</td>\n",
       "      <td>₹99</td>\n",
       "      <td>3.2</td>\n",
       "      <td>521</td>\n",
       "      <td>235</td>\n",
       "      <td>65 minutes</td>\n",
       "    </tr>\n",
       "  </tbody>\n",
       "</table>\n",
       "</div>"
      ],
      "text/plain": [
       "  Restaurant                             Location  \\\n",
       "0    ID_6321  FTI College, Law College Road, Pune   \n",
       "1    ID_2882                 Sector 3, Marathalli   \n",
       "2    ID_1595                       Mumbai Central   \n",
       "3    ID_5929                      Sector 1, Noida   \n",
       "4    ID_6123   Rmz Centennial, I Gate, Whitefield   \n",
       "\n",
       "                                 Cuisines Average_Cost Minimum_Order Rating  \\\n",
       "0  Fast Food, Rolls, Burger, Salad, Wraps         ₹200           ₹50    3.5   \n",
       "1                     Ice Cream, Desserts         ₹100           ₹50    3.5   \n",
       "2         Italian, Street Food, Fast Food         ₹150           ₹50    3.6   \n",
       "3          Mughlai, North Indian, Chinese         ₹250           ₹99    3.7   \n",
       "4                         Cafe, Beverages         ₹200           ₹99    3.2   \n",
       "\n",
       "  Votes Reviews Delivery_Time  \n",
       "0    12       4    30 minutes  \n",
       "1    11       4    30 minutes  \n",
       "2    99      30    65 minutes  \n",
       "3   176      95    30 minutes  \n",
       "4   521     235    65 minutes  "
      ]
     },
     "execution_count": 8,
     "metadata": {},
     "output_type": "execute_result"
    }
   ],
   "source": [
    "dfc.head()"
   ]
  },
  {
   "cell_type": "code",
   "execution_count": 8,
   "metadata": {
    "ExecuteTime": {
     "end_time": "2019-12-09T06:20:49.680341Z",
     "start_time": "2019-12-09T06:20:49.615090Z"
    },
    "hidden": true
   },
   "outputs": [],
   "source": [
    "city_name_dict = {'Pune':'Pune',\n",
    "                  'Marathalli':'Bangalore',\n",
    "                  'Mumbai Central':'Mumbai',\n",
    "                  'Noida':'Noida',\n",
    "                  'Whitefield':'Bangalore',\n",
    "                  'Delhi University-GTB Nagar':'Delhi',\n",
    "                  'Maharashtra':'Pune',\n",
    "                  'Timarpur':'Delhi',\n",
    "                  'Kolkata':'Kolkata',\n",
    "                  'Mumbai CST Area':'Mumbai',\n",
    "                  'Pune University':'Pune',\n",
    "                  'Bangalore':'Bangalore',\n",
    "                  'Gurgoan':'Gurgoan',\n",
    "                  'Gurgaon':'Gurgoan',\n",
    "                  'Begumpet':'Hyderabad',\n",
    "                  'Majestic':'Bangalore',\n",
    "                  'India Gate':'Delhi',\n",
    "                  'Hyderabad':'Hyderabad',\n",
    "                  'Delhi Cantt.':'Delhi',\n",
    "                  'Mumbai':'Mumbai',\n",
    "                  'Delhi':'Delhi',\n",
    "                  'Electronic City':'Bangalore' \n",
    "                  }"
   ]
  },
  {
   "cell_type": "code",
   "execution_count": null,
   "metadata": {
    "hidden": true
   },
   "outputs": [],
   "source": [
    "# len(city_name_dict)"
   ]
  },
  {
   "cell_type": "code",
   "execution_count": 188,
   "metadata": {
    "hidden": true
   },
   "outputs": [],
   "source": [
    "# dfc['Location'].str.split(',').str[-1].nunique()"
   ]
  },
  {
   "cell_type": "code",
   "execution_count": null,
   "metadata": {
    "hidden": true
   },
   "outputs": [],
   "source": [
    "# to see first n elements of a dictionary\n",
    "# for k,v in sorted(city_name_dict.items(), key = operator.itemgetter(1))[:5]:\n",
    "#     print(k,v)"
   ]
  },
  {
   "cell_type": "code",
   "execution_count": 176,
   "metadata": {
    "hidden": true
   },
   "outputs": [
    {
     "name": "stdout",
     "output_type": "stream",
     "text": [
      " "
     ]
    }
   ],
   "source": [
    "# # NoN Vectorizer method for creating city_name columns\n",
    "# # for creating city_name columns in dataframe\n",
    "# # %prun\n",
    "# for index,elem in enumerate(dfc['Location'].str.split(',').str[-1]):\n",
    "#     elem = elem.strip()\n",
    "#     if elem in city_name_dict.keys():\n",
    "#         dfc['City_Name'].iloc[index] = city_name_dict[elem]"
   ]
  },
  {
   "cell_type": "code",
   "execution_count": 190,
   "metadata": {
    "hidden": true
   },
   "outputs": [],
   "source": [
    "# # vectoriz method for creating City_Name columns\n",
    "# dfc['Location'].str.split(',').str[-1].apply(lambda x: city_name_dict[x.strip()])"
   ]
  },
  {
   "cell_type": "code",
   "execution_count": 9,
   "metadata": {
    "ExecuteTime": {
     "end_time": "2019-12-09T06:20:53.666530Z",
     "start_time": "2019-12-09T06:20:53.591546Z"
    },
    "hidden": true
   },
   "outputs": [
    {
     "data": {
      "text/plain": [
       "Index(['Restaurant', 'Location', 'City_Name', 'Cuisines', 'Average_Cost',\n",
       "       'Minimum_Order', 'Rating', 'Votes', 'Reviews', 'Delivery_Time'],\n",
       "      dtype='object')"
      ]
     },
     "execution_count": 9,
     "metadata": {},
     "output_type": "execute_result"
    }
   ],
   "source": [
    "dfc.insert(loc = 2,column = 'City_Name', value = dfc['Location'].str.split(',').str[-1].apply(lambda x: city_name_dict[x.strip()]))\n",
    "dfc.columns"
   ]
  },
  {
   "cell_type": "code",
   "execution_count": 11,
   "metadata": {
    "hidden": true
   },
   "outputs": [
    {
     "data": {
      "text/html": [
       "<div>\n",
       "<style scoped>\n",
       "    .dataframe tbody tr th:only-of-type {\n",
       "        vertical-align: middle;\n",
       "    }\n",
       "\n",
       "    .dataframe tbody tr th {\n",
       "        vertical-align: top;\n",
       "    }\n",
       "\n",
       "    .dataframe thead th {\n",
       "        text-align: right;\n",
       "    }\n",
       "</style>\n",
       "<table border=\"1\" class=\"dataframe\">\n",
       "  <thead>\n",
       "    <tr style=\"text-align: right;\">\n",
       "      <th></th>\n",
       "      <th>Restaurant</th>\n",
       "      <th>Location</th>\n",
       "      <th>City_Name</th>\n",
       "      <th>Cuisines</th>\n",
       "      <th>Average_Cost</th>\n",
       "      <th>Minimum_Order</th>\n",
       "      <th>Rating</th>\n",
       "      <th>Votes</th>\n",
       "      <th>Reviews</th>\n",
       "      <th>Delivery_Time</th>\n",
       "    </tr>\n",
       "  </thead>\n",
       "  <tbody>\n",
       "    <tr>\n",
       "      <th>0</th>\n",
       "      <td>ID_6321</td>\n",
       "      <td>FTI College, Law College Road, Pune</td>\n",
       "      <td>Pune</td>\n",
       "      <td>Fast Food, Rolls, Burger, Salad, Wraps</td>\n",
       "      <td>₹200</td>\n",
       "      <td>₹50</td>\n",
       "      <td>3.5</td>\n",
       "      <td>12</td>\n",
       "      <td>4</td>\n",
       "      <td>30 minutes</td>\n",
       "    </tr>\n",
       "    <tr>\n",
       "      <th>1</th>\n",
       "      <td>ID_2882</td>\n",
       "      <td>Sector 3, Marathalli</td>\n",
       "      <td>Bangalore</td>\n",
       "      <td>Ice Cream, Desserts</td>\n",
       "      <td>₹100</td>\n",
       "      <td>₹50</td>\n",
       "      <td>3.5</td>\n",
       "      <td>11</td>\n",
       "      <td>4</td>\n",
       "      <td>30 minutes</td>\n",
       "    </tr>\n",
       "    <tr>\n",
       "      <th>2</th>\n",
       "      <td>ID_1595</td>\n",
       "      <td>Mumbai Central</td>\n",
       "      <td>Mumbai</td>\n",
       "      <td>Italian, Street Food, Fast Food</td>\n",
       "      <td>₹150</td>\n",
       "      <td>₹50</td>\n",
       "      <td>3.6</td>\n",
       "      <td>99</td>\n",
       "      <td>30</td>\n",
       "      <td>65 minutes</td>\n",
       "    </tr>\n",
       "    <tr>\n",
       "      <th>3</th>\n",
       "      <td>ID_5929</td>\n",
       "      <td>Sector 1, Noida</td>\n",
       "      <td>Noida</td>\n",
       "      <td>Mughlai, North Indian, Chinese</td>\n",
       "      <td>₹250</td>\n",
       "      <td>₹99</td>\n",
       "      <td>3.7</td>\n",
       "      <td>176</td>\n",
       "      <td>95</td>\n",
       "      <td>30 minutes</td>\n",
       "    </tr>\n",
       "    <tr>\n",
       "      <th>4</th>\n",
       "      <td>ID_6123</td>\n",
       "      <td>Rmz Centennial, I Gate, Whitefield</td>\n",
       "      <td>Bangalore</td>\n",
       "      <td>Cafe, Beverages</td>\n",
       "      <td>₹200</td>\n",
       "      <td>₹99</td>\n",
       "      <td>3.2</td>\n",
       "      <td>521</td>\n",
       "      <td>235</td>\n",
       "      <td>65 minutes</td>\n",
       "    </tr>\n",
       "  </tbody>\n",
       "</table>\n",
       "</div>"
      ],
      "text/plain": [
       "  Restaurant                             Location  City_Name  \\\n",
       "0    ID_6321  FTI College, Law College Road, Pune       Pune   \n",
       "1    ID_2882                 Sector 3, Marathalli  Bangalore   \n",
       "2    ID_1595                       Mumbai Central     Mumbai   \n",
       "3    ID_5929                      Sector 1, Noida      Noida   \n",
       "4    ID_6123   Rmz Centennial, I Gate, Whitefield  Bangalore   \n",
       "\n",
       "                                 Cuisines Average_Cost Minimum_Order Rating  \\\n",
       "0  Fast Food, Rolls, Burger, Salad, Wraps         ₹200           ₹50    3.5   \n",
       "1                     Ice Cream, Desserts         ₹100           ₹50    3.5   \n",
       "2         Italian, Street Food, Fast Food         ₹150           ₹50    3.6   \n",
       "3          Mughlai, North Indian, Chinese         ₹250           ₹99    3.7   \n",
       "4                         Cafe, Beverages         ₹200           ₹99    3.2   \n",
       "\n",
       "  Votes Reviews Delivery_Time  \n",
       "0    12       4    30 minutes  \n",
       "1    11       4    30 minutes  \n",
       "2    99      30    65 minutes  \n",
       "3   176      95    30 minutes  \n",
       "4   521     235    65 minutes  "
      ]
     },
     "execution_count": 11,
     "metadata": {},
     "output_type": "execute_result"
    }
   ],
   "source": [
    "dfc.head()"
   ]
  },
  {
   "cell_type": "code",
   "execution_count": 12,
   "metadata": {
    "hidden": true
   },
   "outputs": [
    {
     "data": {
      "text/plain": [
       "array(['Pune', 'Bangalore', 'Mumbai', 'Noida', 'Delhi', 'Kolkata',\n",
       "       'Gurgoan', 'Hyderabad'], dtype=object)"
      ]
     },
     "execution_count": 12,
     "metadata": {},
     "output_type": "execute_result"
    }
   ],
   "source": [
    "dfc['City_Name'].unique()"
   ]
  },
  {
   "cell_type": "code",
   "execution_count": 10,
   "metadata": {
    "ExecuteTime": {
     "end_time": "2019-12-09T06:20:58.321168Z",
     "start_time": "2019-12-09T06:20:58.317627Z"
    },
    "hidden": true
   },
   "outputs": [],
   "source": [
    "def zone_dic(value):\n",
    "    if value in ['Pune', 'Bangalore', 'Mumbai','Hyderabad']:\n",
    "        return 'South'\n",
    "    elif value in ['Noida', 'Delhi', 'Kolkata','Gurgoan']:\n",
    "        return 'North'\n",
    "    else:\n",
    "        return 'Other'"
   ]
  },
  {
   "cell_type": "code",
   "execution_count": 11,
   "metadata": {
    "ExecuteTime": {
     "end_time": "2019-12-09T06:20:58.830734Z",
     "start_time": "2019-12-09T06:20:58.812028Z"
    },
    "hidden": true
   },
   "outputs": [
    {
     "data": {
      "text/html": [
       "<div>\n",
       "<style scoped>\n",
       "    .dataframe tbody tr th:only-of-type {\n",
       "        vertical-align: middle;\n",
       "    }\n",
       "\n",
       "    .dataframe tbody tr th {\n",
       "        vertical-align: top;\n",
       "    }\n",
       "\n",
       "    .dataframe thead th {\n",
       "        text-align: right;\n",
       "    }\n",
       "</style>\n",
       "<table border=\"1\" class=\"dataframe\">\n",
       "  <thead>\n",
       "    <tr style=\"text-align: right;\">\n",
       "      <th></th>\n",
       "      <th>Restaurant</th>\n",
       "      <th>Location</th>\n",
       "      <th>City_Name</th>\n",
       "      <th>Zone</th>\n",
       "      <th>Cuisines</th>\n",
       "      <th>Average_Cost</th>\n",
       "      <th>Minimum_Order</th>\n",
       "      <th>Rating</th>\n",
       "      <th>Votes</th>\n",
       "      <th>Reviews</th>\n",
       "      <th>Delivery_Time</th>\n",
       "    </tr>\n",
       "  </thead>\n",
       "  <tbody>\n",
       "    <tr>\n",
       "      <th>0</th>\n",
       "      <td>ID_6321</td>\n",
       "      <td>FTI College, Law College Road, Pune</td>\n",
       "      <td>Pune</td>\n",
       "      <td>South</td>\n",
       "      <td>Fast Food, Rolls, Burger, Salad, Wraps</td>\n",
       "      <td>₹200</td>\n",
       "      <td>₹50</td>\n",
       "      <td>3.5</td>\n",
       "      <td>12</td>\n",
       "      <td>4</td>\n",
       "      <td>30 minutes</td>\n",
       "    </tr>\n",
       "    <tr>\n",
       "      <th>1</th>\n",
       "      <td>ID_2882</td>\n",
       "      <td>Sector 3, Marathalli</td>\n",
       "      <td>Bangalore</td>\n",
       "      <td>South</td>\n",
       "      <td>Ice Cream, Desserts</td>\n",
       "      <td>₹100</td>\n",
       "      <td>₹50</td>\n",
       "      <td>3.5</td>\n",
       "      <td>11</td>\n",
       "      <td>4</td>\n",
       "      <td>30 minutes</td>\n",
       "    </tr>\n",
       "  </tbody>\n",
       "</table>\n",
       "</div>"
      ],
      "text/plain": [
       "  Restaurant                             Location  City_Name   Zone  \\\n",
       "0    ID_6321  FTI College, Law College Road, Pune       Pune  South   \n",
       "1    ID_2882                 Sector 3, Marathalli  Bangalore  South   \n",
       "\n",
       "                                 Cuisines Average_Cost Minimum_Order Rating  \\\n",
       "0  Fast Food, Rolls, Burger, Salad, Wraps         ₹200           ₹50    3.5   \n",
       "1                     Ice Cream, Desserts         ₹100           ₹50    3.5   \n",
       "\n",
       "  Votes Reviews Delivery_Time  \n",
       "0    12       4    30 minutes  \n",
       "1    11       4    30 minutes  "
      ]
     },
     "execution_count": 11,
     "metadata": {},
     "output_type": "execute_result"
    }
   ],
   "source": [
    "dfc.insert(loc = 3, column = 'Zone',value = dfc['City_Name'].apply(lambda row: zone_dic(row)))\n",
    "dfc.head(2)"
   ]
  },
  {
   "cell_type": "code",
   "execution_count": 12,
   "metadata": {
    "ExecuteTime": {
     "end_time": "2019-12-09T06:21:03.475562Z",
     "start_time": "2019-12-09T06:21:03.444641Z"
    },
    "hidden": true
   },
   "outputs": [],
   "source": [
    "# creating no.of cuisiness columns\n",
    "dfc.insert(loc = 5,column = 'No.of Cuisines',value = dfc['Cuisines'].str.split(',').map(len))\n",
    "# dfc['No.of Cuisines'] = dfc['Cuisines'].str.split(',').map(len)"
   ]
  },
  {
   "cell_type": "code",
   "execution_count": 200,
   "metadata": {
    "hidden": true
   },
   "outputs": [
    {
     "data": {
      "text/html": [
       "<div>\n",
       "<style scoped>\n",
       "    .dataframe tbody tr th:only-of-type {\n",
       "        vertical-align: middle;\n",
       "    }\n",
       "\n",
       "    .dataframe tbody tr th {\n",
       "        vertical-align: top;\n",
       "    }\n",
       "\n",
       "    .dataframe thead th {\n",
       "        text-align: right;\n",
       "    }\n",
       "</style>\n",
       "<table border=\"1\" class=\"dataframe\">\n",
       "  <thead>\n",
       "    <tr style=\"text-align: right;\">\n",
       "      <th></th>\n",
       "      <th>Restaurant</th>\n",
       "      <th>Location</th>\n",
       "      <th>City_Name</th>\n",
       "      <th>Zone</th>\n",
       "      <th>No.of Cuisines</th>\n",
       "      <th>Cuisines</th>\n",
       "      <th>Average_Cost</th>\n",
       "      <th>Minimum_Order</th>\n",
       "      <th>Rating</th>\n",
       "      <th>Votes</th>\n",
       "      <th>Reviews</th>\n",
       "      <th>Delivery_Time</th>\n",
       "    </tr>\n",
       "  </thead>\n",
       "  <tbody>\n",
       "    <tr>\n",
       "      <th>0</th>\n",
       "      <td>ID_6321</td>\n",
       "      <td>FTI College, Law College Road, Pune</td>\n",
       "      <td>Pune</td>\n",
       "      <td>South</td>\n",
       "      <td>5</td>\n",
       "      <td>Fast Food, Rolls, Burger, Salad, Wraps</td>\n",
       "      <td>₹200</td>\n",
       "      <td>₹50</td>\n",
       "      <td>3.5</td>\n",
       "      <td>12</td>\n",
       "      <td>4</td>\n",
       "      <td>30 minutes</td>\n",
       "    </tr>\n",
       "  </tbody>\n",
       "</table>\n",
       "</div>"
      ],
      "text/plain": [
       "  Restaurant                             Location City_Name   Zone  \\\n",
       "0    ID_6321  FTI College, Law College Road, Pune      Pune  South   \n",
       "\n",
       "   No.of Cuisines                                Cuisines Average_Cost  \\\n",
       "0               5  Fast Food, Rolls, Burger, Salad, Wraps         ₹200   \n",
       "\n",
       "  Minimum_Order Rating Votes Reviews Delivery_Time  \n",
       "0           ₹50    3.5    12       4    30 minutes  "
      ]
     },
     "execution_count": 200,
     "metadata": {},
     "output_type": "execute_result"
    }
   ],
   "source": [
    "dfc.head(1)"
   ]
  },
  {
   "cell_type": "code",
   "execution_count": 204,
   "metadata": {
    "hidden": true
   },
   "outputs": [
    {
     "data": {
      "text/plain": [
       "['Restaurant',\n",
       " 'Location',\n",
       " 'City_Name',\n",
       " 'Zone',\n",
       " 'No.of Cuisines',\n",
       " 'Cuisines',\n",
       " 'Average_Cost',\n",
       " 'Minimum_Order',\n",
       " 'Rating',\n",
       " 'Votes',\n",
       " 'Reviews',\n",
       " 'Delivery_Time']"
      ]
     },
     "execution_count": 204,
     "metadata": {},
     "output_type": "execute_result"
    }
   ],
   "source": [
    "# reindexing the columns\n",
    "list(dfc.columns.values)\n",
    "# changing the order of prefereces\n",
    "['Restaurant',\n",
    " 'Location',\n",
    " 'City_Name',\n",
    " 'Zone',\n",
    " 'Cuisines',\n",
    " 'No.of Cuisines',\n",
    " 'Average_Cost',\n",
    " 'Minimum_Order',\n",
    " 'Rating',\n",
    " 'Votes',\n",
    " 'Reviews',\n",
    " 'Delivery_Time']\n",
    "# assigning to the dataframe\n",
    "dfc = dfc[['Restaurant',\n",
    " 'Location',\n",
    " 'City_Name',\n",
    " 'Zone',\n",
    " 'Cuisines',\n",
    " 'No.of Cuisines',\n",
    " 'Average_Cost',\n",
    " 'Minimum_Order',\n",
    " 'Rating',\n",
    " 'Votes',\n",
    " 'Reviews',\n",
    " 'Delivery_Time']]"
   ]
  },
  {
   "cell_type": "code",
   "execution_count": 207,
   "metadata": {
    "hidden": true
   },
   "outputs": [
    {
     "data": {
      "text/html": [
       "<div>\n",
       "<style scoped>\n",
       "    .dataframe tbody tr th:only-of-type {\n",
       "        vertical-align: middle;\n",
       "    }\n",
       "\n",
       "    .dataframe tbody tr th {\n",
       "        vertical-align: top;\n",
       "    }\n",
       "\n",
       "    .dataframe thead th {\n",
       "        text-align: right;\n",
       "    }\n",
       "</style>\n",
       "<table border=\"1\" class=\"dataframe\">\n",
       "  <thead>\n",
       "    <tr style=\"text-align: right;\">\n",
       "      <th></th>\n",
       "      <th>Restaurant</th>\n",
       "      <th>Location</th>\n",
       "      <th>City_Name</th>\n",
       "      <th>Zone</th>\n",
       "      <th>Cuisines</th>\n",
       "      <th>No.of Cuisines</th>\n",
       "      <th>Average_Cost</th>\n",
       "      <th>Minimum_Order</th>\n",
       "      <th>Rating</th>\n",
       "      <th>Votes</th>\n",
       "      <th>Reviews</th>\n",
       "      <th>Delivery_Time</th>\n",
       "    </tr>\n",
       "  </thead>\n",
       "  <tbody>\n",
       "    <tr>\n",
       "      <th>0</th>\n",
       "      <td>ID_6321</td>\n",
       "      <td>FTI College, Law College Road, Pune</td>\n",
       "      <td>Pune</td>\n",
       "      <td>South</td>\n",
       "      <td>Fast Food, Rolls, Burger, Salad, Wraps</td>\n",
       "      <td>5</td>\n",
       "      <td>₹200</td>\n",
       "      <td>₹50</td>\n",
       "      <td>3.5</td>\n",
       "      <td>12</td>\n",
       "      <td>4</td>\n",
       "      <td>30 minutes</td>\n",
       "    </tr>\n",
       "  </tbody>\n",
       "</table>\n",
       "</div>"
      ],
      "text/plain": [
       "  Restaurant                             Location City_Name   Zone  \\\n",
       "0    ID_6321  FTI College, Law College Road, Pune      Pune  South   \n",
       "\n",
       "                                 Cuisines  No.of Cuisines Average_Cost  \\\n",
       "0  Fast Food, Rolls, Burger, Salad, Wraps               5         ₹200   \n",
       "\n",
       "  Minimum_Order Rating Votes Reviews Delivery_Time  \n",
       "0           ₹50    3.5    12       4    30 minutes  "
      ]
     },
     "execution_count": 207,
     "metadata": {},
     "output_type": "execute_result"
    }
   ],
   "source": [
    "dfc.head(1)"
   ]
  },
  {
   "cell_type": "code",
   "execution_count": 210,
   "metadata": {
    "hidden": true
   },
   "outputs": [],
   "source": [
    "# dfc.isnull().sum()"
   ]
  },
  {
   "cell_type": "markdown",
   "metadata": {
    "heading_collapsed": true
   },
   "source": [
    "## target encoding"
   ]
  },
  {
   "cell_type": "code",
   "execution_count": 211,
   "metadata": {
    "hidden": true
   },
   "outputs": [
    {
     "data": {
      "text/html": [
       "<div>\n",
       "<style scoped>\n",
       "    .dataframe tbody tr th:only-of-type {\n",
       "        vertical-align: middle;\n",
       "    }\n",
       "\n",
       "    .dataframe tbody tr th {\n",
       "        vertical-align: top;\n",
       "    }\n",
       "\n",
       "    .dataframe thead th {\n",
       "        text-align: right;\n",
       "    }\n",
       "</style>\n",
       "<table border=\"1\" class=\"dataframe\">\n",
       "  <thead>\n",
       "    <tr style=\"text-align: right;\">\n",
       "      <th></th>\n",
       "      <th>Restaurant</th>\n",
       "      <th>Location</th>\n",
       "      <th>City_Name</th>\n",
       "      <th>Zone</th>\n",
       "      <th>Cuisines</th>\n",
       "      <th>No.of Cuisines</th>\n",
       "      <th>Average_Cost</th>\n",
       "      <th>Minimum_Order</th>\n",
       "      <th>Rating</th>\n",
       "      <th>Votes</th>\n",
       "      <th>Reviews</th>\n",
       "      <th>Delivery_Time</th>\n",
       "    </tr>\n",
       "  </thead>\n",
       "  <tbody>\n",
       "    <tr>\n",
       "      <th>0</th>\n",
       "      <td>ID_6321</td>\n",
       "      <td>FTI College, Law College Road, Pune</td>\n",
       "      <td>Pune</td>\n",
       "      <td>South</td>\n",
       "      <td>Fast Food, Rolls, Burger, Salad, Wraps</td>\n",
       "      <td>5</td>\n",
       "      <td>₹200</td>\n",
       "      <td>₹50</td>\n",
       "      <td>3.5</td>\n",
       "      <td>12</td>\n",
       "      <td>4</td>\n",
       "      <td>30 minutes</td>\n",
       "    </tr>\n",
       "    <tr>\n",
       "      <th>1</th>\n",
       "      <td>ID_2882</td>\n",
       "      <td>Sector 3, Marathalli</td>\n",
       "      <td>Bangalore</td>\n",
       "      <td>South</td>\n",
       "      <td>Ice Cream, Desserts</td>\n",
       "      <td>2</td>\n",
       "      <td>₹100</td>\n",
       "      <td>₹50</td>\n",
       "      <td>3.5</td>\n",
       "      <td>11</td>\n",
       "      <td>4</td>\n",
       "      <td>30 minutes</td>\n",
       "    </tr>\n",
       "    <tr>\n",
       "      <th>2</th>\n",
       "      <td>ID_1595</td>\n",
       "      <td>Mumbai Central</td>\n",
       "      <td>Mumbai</td>\n",
       "      <td>South</td>\n",
       "      <td>Italian, Street Food, Fast Food</td>\n",
       "      <td>3</td>\n",
       "      <td>₹150</td>\n",
       "      <td>₹50</td>\n",
       "      <td>3.6</td>\n",
       "      <td>99</td>\n",
       "      <td>30</td>\n",
       "      <td>65 minutes</td>\n",
       "    </tr>\n",
       "    <tr>\n",
       "      <th>3</th>\n",
       "      <td>ID_5929</td>\n",
       "      <td>Sector 1, Noida</td>\n",
       "      <td>Noida</td>\n",
       "      <td>North</td>\n",
       "      <td>Mughlai, North Indian, Chinese</td>\n",
       "      <td>3</td>\n",
       "      <td>₹250</td>\n",
       "      <td>₹99</td>\n",
       "      <td>3.7</td>\n",
       "      <td>176</td>\n",
       "      <td>95</td>\n",
       "      <td>30 minutes</td>\n",
       "    </tr>\n",
       "    <tr>\n",
       "      <th>4</th>\n",
       "      <td>ID_6123</td>\n",
       "      <td>Rmz Centennial, I Gate, Whitefield</td>\n",
       "      <td>Bangalore</td>\n",
       "      <td>South</td>\n",
       "      <td>Cafe, Beverages</td>\n",
       "      <td>2</td>\n",
       "      <td>₹200</td>\n",
       "      <td>₹99</td>\n",
       "      <td>3.2</td>\n",
       "      <td>521</td>\n",
       "      <td>235</td>\n",
       "      <td>65 minutes</td>\n",
       "    </tr>\n",
       "  </tbody>\n",
       "</table>\n",
       "</div>"
      ],
      "text/plain": [
       "  Restaurant                             Location  City_Name   Zone  \\\n",
       "0    ID_6321  FTI College, Law College Road, Pune       Pune  South   \n",
       "1    ID_2882                 Sector 3, Marathalli  Bangalore  South   \n",
       "2    ID_1595                       Mumbai Central     Mumbai  South   \n",
       "3    ID_5929                      Sector 1, Noida      Noida  North   \n",
       "4    ID_6123   Rmz Centennial, I Gate, Whitefield  Bangalore  South   \n",
       "\n",
       "                                 Cuisines  No.of Cuisines Average_Cost  \\\n",
       "0  Fast Food, Rolls, Burger, Salad, Wraps               5         ₹200   \n",
       "1                     Ice Cream, Desserts               2         ₹100   \n",
       "2         Italian, Street Food, Fast Food               3         ₹150   \n",
       "3          Mughlai, North Indian, Chinese               3         ₹250   \n",
       "4                         Cafe, Beverages               2         ₹200   \n",
       "\n",
       "  Minimum_Order Rating Votes Reviews Delivery_Time  \n",
       "0           ₹50    3.5    12       4    30 minutes  \n",
       "1           ₹50    3.5    11       4    30 minutes  \n",
       "2           ₹50    3.6    99      30    65 minutes  \n",
       "3           ₹99    3.7   176      95    30 minutes  \n",
       "4           ₹99    3.2   521     235    65 minutes  "
      ]
     },
     "execution_count": 211,
     "metadata": {},
     "output_type": "execute_result"
    }
   ],
   "source": [
    "dfc.head()"
   ]
  },
  {
   "cell_type": "code",
   "execution_count": 53,
   "metadata": {
    "hidden": true
   },
   "outputs": [
    {
     "data": {
      "text/plain": [
       "{'30 minutes': 1,\n",
       " '65 minutes': 2,\n",
       " '45 minutes': 3,\n",
       " '10 minutes': 4,\n",
       " '20 minutes': 5,\n",
       " '120 minutes': 6,\n",
       " '80 minutes': 7}"
      ]
     },
     "execution_count": 53,
     "metadata": {},
     "output_type": "execute_result"
    }
   ],
   "source": [
    "# dict(zip(list(dfc['Delivery_Time'].unique())[:-1],list(range(1,dfc['Delivery_Time'].nunique()+1))))"
   ]
  },
  {
   "cell_type": "code",
   "execution_count": 13,
   "metadata": {
    "ExecuteTime": {
     "end_time": "2019-12-09T06:21:30.831040Z",
     "start_time": "2019-12-09T06:21:12.717456Z"
    },
    "hidden": true
   },
   "outputs": [
    {
     "name": "stdout",
     "output_type": "stream",
     "text": [
      "CPU times: user 3 µs, sys: 0 ns, total: 3 µs\n",
      "Wall time: 6.2 µs\n"
     ]
    },
    {
     "name": "stderr",
     "output_type": "stream",
     "text": [
      "/home/vishal.s@idexcel.internal/anaconda3/envs/hack/lib/python3.7/site-packages/pandas/core/indexing.py:205: SettingWithCopyWarning: \n",
      "A value is trying to be set on a copy of a slice from a DataFrame\n",
      "\n",
      "See the caveats in the documentation: http://pandas.pydata.org/pandas-docs/stable/user_guide/indexing.html#returning-a-view-versus-a-copy\n",
      "  self._setitem_with_indexer(indexer, value)\n"
     ]
    }
   ],
   "source": [
    "%time\n",
    "dfc['target_encoding'] = ''\n",
    "\n",
    "# tl = list(dict(dfc['Delivery_Time'].value_counts()).keys())\n",
    "# tar_dic = {'10 minutes':1,\n",
    "#            '20 minutes':2,\n",
    "#            '30 minutes':3,\n",
    "#            '45 minutes':4,\n",
    "#            '65 minutes':5,\n",
    "#            '80 minutes':6,\n",
    "#            '120 minutes':7}\n",
    "tar_dic = dict(zip(list(dfc['Delivery_Time'].unique())[:-1],list(range(1,dfc['Delivery_Time'].nunique()+1))))\n",
    "for index,value in enumerate(dfc['Delivery_Time']):\n",
    "    if value in list(dfc['Delivery_Time'].unique())[:-1]:\n",
    "        dfc['target_encoding'].iloc[index] = tar_dic[value]\n",
    "dfc['target_encoding'] = pd.to_numeric(dfc['target_encoding'])"
   ]
  },
  {
   "cell_type": "code",
   "execution_count": 17,
   "metadata": {
    "hidden": true
   },
   "outputs": [
    {
     "data": {
      "text/html": [
       "<div>\n",
       "<style scoped>\n",
       "    .dataframe tbody tr th:only-of-type {\n",
       "        vertical-align: middle;\n",
       "    }\n",
       "\n",
       "    .dataframe tbody tr th {\n",
       "        vertical-align: top;\n",
       "    }\n",
       "\n",
       "    .dataframe thead th {\n",
       "        text-align: right;\n",
       "    }\n",
       "</style>\n",
       "<table border=\"1\" class=\"dataframe\">\n",
       "  <thead>\n",
       "    <tr style=\"text-align: right;\">\n",
       "      <th></th>\n",
       "      <th>Restaurant</th>\n",
       "      <th>Location</th>\n",
       "      <th>City_Name</th>\n",
       "      <th>Zone</th>\n",
       "      <th>Cuisines</th>\n",
       "      <th>No.of Cuisines</th>\n",
       "      <th>Average_Cost</th>\n",
       "      <th>Minimum_Order</th>\n",
       "      <th>Rating</th>\n",
       "      <th>Votes</th>\n",
       "      <th>Reviews</th>\n",
       "      <th>Delivery_Time</th>\n",
       "      <th>target_encoding</th>\n",
       "    </tr>\n",
       "  </thead>\n",
       "  <tbody>\n",
       "    <tr>\n",
       "      <th>0</th>\n",
       "      <td>ID_6321</td>\n",
       "      <td>FTI College, Law College Road, Pune</td>\n",
       "      <td>Pune</td>\n",
       "      <td>South</td>\n",
       "      <td>Fast Food, Rolls, Burger, Salad, Wraps</td>\n",
       "      <td>5</td>\n",
       "      <td>₹200</td>\n",
       "      <td>₹50</td>\n",
       "      <td>3.5</td>\n",
       "      <td>12</td>\n",
       "      <td>4</td>\n",
       "      <td>30 minutes</td>\n",
       "      <td>1.0</td>\n",
       "    </tr>\n",
       "    <tr>\n",
       "      <th>1</th>\n",
       "      <td>ID_2882</td>\n",
       "      <td>Sector 3, Marathalli</td>\n",
       "      <td>Bangalore</td>\n",
       "      <td>South</td>\n",
       "      <td>Ice Cream, Desserts</td>\n",
       "      <td>2</td>\n",
       "      <td>₹100</td>\n",
       "      <td>₹50</td>\n",
       "      <td>3.5</td>\n",
       "      <td>11</td>\n",
       "      <td>4</td>\n",
       "      <td>30 minutes</td>\n",
       "      <td>1.0</td>\n",
       "    </tr>\n",
       "  </tbody>\n",
       "</table>\n",
       "</div>"
      ],
      "text/plain": [
       "  Restaurant                             Location  City_Name   Zone  \\\n",
       "0    ID_6321  FTI College, Law College Road, Pune       Pune  South   \n",
       "1    ID_2882                 Sector 3, Marathalli  Bangalore  South   \n",
       "\n",
       "                                 Cuisines  No.of Cuisines Average_Cost  \\\n",
       "0  Fast Food, Rolls, Burger, Salad, Wraps               5         ₹200   \n",
       "1                     Ice Cream, Desserts               2         ₹100   \n",
       "\n",
       "  Minimum_Order Rating Votes Reviews Delivery_Time  target_encoding  \n",
       "0           ₹50    3.5    12       4    30 minutes              1.0  \n",
       "1           ₹50    3.5    11       4    30 minutes              1.0  "
      ]
     },
     "execution_count": 17,
     "metadata": {},
     "output_type": "execute_result"
    }
   ],
   "source": [
    "dfc.head(2)"
   ]
  },
  {
   "cell_type": "code",
   "execution_count": 105,
   "metadata": {
    "hidden": true
   },
   "outputs": [],
   "source": [
    "# # groupby using condition on columns value\n",
    "# dfc['target_encoding'].groupby(dfc['City_Name'] =='Pune').value_counts()"
   ]
  },
  {
   "cell_type": "code",
   "execution_count": 108,
   "metadata": {
    "hidden": true
   },
   "outputs": [],
   "source": [
    "# dfc[dfc['City_Name'] == 'Pune']['target_encoding'].sum()"
   ]
  },
  {
   "cell_type": "code",
   "execution_count": 14,
   "metadata": {
    "ExecuteTime": {
     "end_time": "2019-12-09T06:23:04.940213Z",
     "start_time": "2019-12-09T06:21:50.849374Z"
    },
    "hidden": true
   },
   "outputs": [
    {
     "name": "stdout",
     "output_type": "stream",
     "text": [
      "CPU times: user 3 µs, sys: 0 ns, total: 3 µs\n",
      "Wall time: 5.01 µs\n"
     ]
    }
   ],
   "source": [
    "%time\n",
    "dfc.insert(loc = 11,column = 'mean',value = '')\n",
    "dfc.insert(loc = 12,column = 'median',value = '')\n",
    "dfc.insert(loc = 13,column = 'std',value = '')\n",
    "dfc.insert(loc = 14,column = 'min',value = '')\n",
    "dfc.insert(loc = 15,column = 'max',value = '')\n",
    "# dfc['mean'],dfc['median'],dfc['std'],dfc['min'],dfc['max'] = '','','','',''\n",
    "tmean = dict(dfc.groupby('City_Name')['target_encoding'].mean())\n",
    "tmedian = dict(dfc.groupby('City_Name')['target_encoding'].median())\n",
    "tstd = dict(dfc.groupby('City_Name')['target_encoding'].std())\n",
    "tmin = dict(dfc.groupby('City_Name')['target_encoding'].min())\n",
    "tmax = dict(dfc.groupby('City_Name')['target_encoding'].max())\n",
    "# tsum = dfc.groupby('City_Name')['target_encoding'].sum()\n",
    "\n",
    "for index,value in enumerate(dfc['City_Name']):\n",
    "    dfc['mean'].iloc[index] = tmean[value]\n",
    "    dfc['median'].iloc[index] = tmedian[value]\n",
    "    dfc['std'].iloc[index] = tstd[value]\n",
    "    dfc['min'].iloc[index] = tmin[value]\n",
    "    dfc['max'].iloc[index] = tmax[value]\n",
    "dfc['mean'] = pd.to_numeric(dfc['mean'])\n",
    "dfc['std'] = pd.to_numeric(dfc['std'])"
   ]
  },
  {
   "cell_type": "code",
   "execution_count": 19,
   "metadata": {
    "hidden": true
   },
   "outputs": [
    {
     "data": {
      "text/plain": [
       "Restaurant          object\n",
       "Location            object\n",
       "City_Name           object\n",
       "Zone                object\n",
       "Cuisines            object\n",
       "No.of Cuisines       int64\n",
       "Average_Cost        object\n",
       "Minimum_Order       object\n",
       "Rating              object\n",
       "Votes               object\n",
       "Reviews             object\n",
       "mean               float64\n",
       "median               int64\n",
       "std                float64\n",
       "min                  int64\n",
       "max                  int64\n",
       "Delivery_Time       object\n",
       "target_encoding    float64\n",
       "dtype: object"
      ]
     },
     "execution_count": 19,
     "metadata": {},
     "output_type": "execute_result"
    }
   ],
   "source": [
    "dfc.dtypes"
   ]
  },
  {
   "cell_type": "code",
   "execution_count": 29,
   "metadata": {
    "hidden": true
   },
   "outputs": [],
   "source": [
    "# dfc"
   ]
  },
  {
   "cell_type": "code",
   "execution_count": 13,
   "metadata": {
    "hidden": true
   },
   "outputs": [],
   "source": [
    "dfc_copy1 = copy.deepcopy(dfc)"
   ]
  },
  {
   "cell_type": "code",
   "execution_count": null,
   "metadata": {
    "hidden": true
   },
   "outputs": [],
   "source": [
    "# l = dfc['City_Name'].unique()\n",
    "# for index,rows in enumerate(dfc['City_Name']):\n",
    "# #     print(index,rows)\n",
    "#     if rows in l:\n",
    "#         dfc['mean'].iloc[index] = pd.to_numeric(dfc[dfc['City_Name'] == rows]['target_encoding']).mean()\n",
    "#         dfc['median'].iloc[index] = pd.to_numeric(dfc[dfc['City_Name'] == rows]['target_encoding']).median()\n",
    "#         dfc['std'].iloc[index] = pd.to_numeric(dfc[dfc['City_Name'] == rows]['target_encoding']).std()\n",
    "#         dfc['min'].iloc[index] = pd.to_numeric(dfc[dfc['City_Name'] == rows]['target_encoding']).min()\n",
    "#         dfc['max'].iloc[index] = pd.to_numeric(dfc[dfc['City_Name'] == rows]['target_encoding']).max()\n",
    "# #     dfc.iloc[index]\n",
    "    \n",
    "# #     break\n",
    "# # pd.to_numeric(dfc[dfc['City_Name'] == 'Pune']['target_encoding']).mean()"
   ]
  },
  {
   "cell_type": "code",
   "execution_count": null,
   "metadata": {
    "hidden": true
   },
   "outputs": [],
   "source": [
    "# dfc.groupby('City_Name')['target_encoding'].max()\n",
    "\n",
    "# dfc[dfc['City_Name'] == 'Bangalore']['sum'] =dfc[dfc['City_Name'] == 'Bangalore']['target_encoding'].sum()\n",
    "\n",
    "# dfc.loc[dfc['City_Name']=='Bangalore','std'] = dfc[dfc['City_Name'] == 'Bangalore']['target_encoding'].std()\n",
    "# dfc.loc[dfc['City_Name']=='Delhi','std'] = dfc[dfc['City_Name'] == 'Delhi']['target_encoding'].std()\n",
    "# dfc.loc[dfc['City_Name']=='Gurgoan','std'] = dfc[dfc['City_Name'] == 'Gurgoan']['target_encoding'].std()\n",
    "# dfc.loc[dfc['City_Name']=='Hyderabad','std'] = dfc[dfc['City_Name'] == 'Hyderabad']['target_encoding'].std()\n",
    "# dfc.loc[dfc['City_Name']=='Kolkata','std'] = dfc[dfc['City_Name'] == 'Kolkata']['target_encoding'].std()\n",
    "# dfc.loc[dfc['City_Name']=='Mumbai','std'] = dfc[dfc['City_Name'] == 'Mumbai']['target_encoding'].std()\n",
    "# dfc.loc[dfc['City_Name']=='Noida','std'] = dfc[dfc['City_Name'] == 'Noida']['target_encoding'].std()\n",
    "# dfc.loc[dfc['City_Name']=='Pune','std'] = dfc[dfc['City_Name'] == 'Pune']['target_encoding'].std()\n",
    "\n",
    "# # dfc.to_csv('min.csv')\n",
    "\n",
    "# dfc[dfc['City_Name'] == 'Bangalore']['target_encoding'].sum()"
   ]
  },
  {
   "cell_type": "code",
   "execution_count": 25,
   "metadata": {
    "hidden": true
   },
   "outputs": [],
   "source": [
    "dfc.to_csv('till_target.csv',index = True)"
   ]
  },
  {
   "cell_type": "code",
   "execution_count": 61,
   "metadata": {
    "hidden": true
   },
   "outputs": [],
   "source": [
    "dfc = pd.read_csv('till_target.csv',index_col =0)"
   ]
  },
  {
   "cell_type": "code",
   "execution_count": 62,
   "metadata": {
    "hidden": true
   },
   "outputs": [
    {
     "data": {
      "text/html": [
       "<div>\n",
       "<style scoped>\n",
       "    .dataframe tbody tr th:only-of-type {\n",
       "        vertical-align: middle;\n",
       "    }\n",
       "\n",
       "    .dataframe tbody tr th {\n",
       "        vertical-align: top;\n",
       "    }\n",
       "\n",
       "    .dataframe thead th {\n",
       "        text-align: right;\n",
       "    }\n",
       "</style>\n",
       "<table border=\"1\" class=\"dataframe\">\n",
       "  <thead>\n",
       "    <tr style=\"text-align: right;\">\n",
       "      <th></th>\n",
       "      <th>Restaurant</th>\n",
       "      <th>Location</th>\n",
       "      <th>City_Name</th>\n",
       "      <th>Zone</th>\n",
       "      <th>Cuisines</th>\n",
       "      <th>No.of Cuisines</th>\n",
       "      <th>Average_Cost</th>\n",
       "      <th>Minimum_Order</th>\n",
       "      <th>Rating</th>\n",
       "      <th>Votes</th>\n",
       "      <th>Reviews</th>\n",
       "      <th>mean</th>\n",
       "      <th>median</th>\n",
       "      <th>std</th>\n",
       "      <th>min</th>\n",
       "      <th>max</th>\n",
       "      <th>Delivery_Time</th>\n",
       "      <th>target_encoding</th>\n",
       "    </tr>\n",
       "  </thead>\n",
       "  <tbody>\n",
       "    <tr>\n",
       "      <th>0</th>\n",
       "      <td>ID_6321</td>\n",
       "      <td>FTI College, Law College Road, Pune</td>\n",
       "      <td>Pune</td>\n",
       "      <td>South</td>\n",
       "      <td>Fast Food, Rolls, Burger, Salad, Wraps</td>\n",
       "      <td>5</td>\n",
       "      <td>₹200</td>\n",
       "      <td>₹50</td>\n",
       "      <td>3.5</td>\n",
       "      <td>12</td>\n",
       "      <td>4</td>\n",
       "      <td>1.576428</td>\n",
       "      <td>1</td>\n",
       "      <td>0.927440</td>\n",
       "      <td>1</td>\n",
       "      <td>7</td>\n",
       "      <td>30 minutes</td>\n",
       "      <td>1.0</td>\n",
       "    </tr>\n",
       "    <tr>\n",
       "      <th>1</th>\n",
       "      <td>ID_2882</td>\n",
       "      <td>Sector 3, Marathalli</td>\n",
       "      <td>Bangalore</td>\n",
       "      <td>South</td>\n",
       "      <td>Ice Cream, Desserts</td>\n",
       "      <td>2</td>\n",
       "      <td>₹100</td>\n",
       "      <td>₹50</td>\n",
       "      <td>3.5</td>\n",
       "      <td>11</td>\n",
       "      <td>4</td>\n",
       "      <td>1.619003</td>\n",
       "      <td>1</td>\n",
       "      <td>0.934412</td>\n",
       "      <td>1</td>\n",
       "      <td>6</td>\n",
       "      <td>30 minutes</td>\n",
       "      <td>1.0</td>\n",
       "    </tr>\n",
       "    <tr>\n",
       "      <th>2</th>\n",
       "      <td>ID_1595</td>\n",
       "      <td>Mumbai Central</td>\n",
       "      <td>Mumbai</td>\n",
       "      <td>South</td>\n",
       "      <td>Italian, Street Food, Fast Food</td>\n",
       "      <td>3</td>\n",
       "      <td>₹150</td>\n",
       "      <td>₹50</td>\n",
       "      <td>3.6</td>\n",
       "      <td>99</td>\n",
       "      <td>30</td>\n",
       "      <td>1.728234</td>\n",
       "      <td>1</td>\n",
       "      <td>1.036480</td>\n",
       "      <td>1</td>\n",
       "      <td>7</td>\n",
       "      <td>65 minutes</td>\n",
       "      <td>2.0</td>\n",
       "    </tr>\n",
       "    <tr>\n",
       "      <th>3</th>\n",
       "      <td>ID_5929</td>\n",
       "      <td>Sector 1, Noida</td>\n",
       "      <td>Noida</td>\n",
       "      <td>North</td>\n",
       "      <td>Mughlai, North Indian, Chinese</td>\n",
       "      <td>3</td>\n",
       "      <td>₹250</td>\n",
       "      <td>₹99</td>\n",
       "      <td>3.7</td>\n",
       "      <td>176</td>\n",
       "      <td>95</td>\n",
       "      <td>1.626558</td>\n",
       "      <td>1</td>\n",
       "      <td>0.968593</td>\n",
       "      <td>1</td>\n",
       "      <td>7</td>\n",
       "      <td>30 minutes</td>\n",
       "      <td>1.0</td>\n",
       "    </tr>\n",
       "    <tr>\n",
       "      <th>4</th>\n",
       "      <td>ID_6123</td>\n",
       "      <td>Rmz Centennial, I Gate, Whitefield</td>\n",
       "      <td>Bangalore</td>\n",
       "      <td>South</td>\n",
       "      <td>Cafe, Beverages</td>\n",
       "      <td>2</td>\n",
       "      <td>₹200</td>\n",
       "      <td>₹99</td>\n",
       "      <td>3.2</td>\n",
       "      <td>521</td>\n",
       "      <td>235</td>\n",
       "      <td>1.619003</td>\n",
       "      <td>1</td>\n",
       "      <td>0.934412</td>\n",
       "      <td>1</td>\n",
       "      <td>6</td>\n",
       "      <td>65 minutes</td>\n",
       "      <td>2.0</td>\n",
       "    </tr>\n",
       "  </tbody>\n",
       "</table>\n",
       "</div>"
      ],
      "text/plain": [
       "  Restaurant                             Location  City_Name   Zone  \\\n",
       "0    ID_6321  FTI College, Law College Road, Pune       Pune  South   \n",
       "1    ID_2882                 Sector 3, Marathalli  Bangalore  South   \n",
       "2    ID_1595                       Mumbai Central     Mumbai  South   \n",
       "3    ID_5929                      Sector 1, Noida      Noida  North   \n",
       "4    ID_6123   Rmz Centennial, I Gate, Whitefield  Bangalore  South   \n",
       "\n",
       "                                 Cuisines  No.of Cuisines Average_Cost  \\\n",
       "0  Fast Food, Rolls, Burger, Salad, Wraps               5         ₹200   \n",
       "1                     Ice Cream, Desserts               2         ₹100   \n",
       "2         Italian, Street Food, Fast Food               3         ₹150   \n",
       "3          Mughlai, North Indian, Chinese               3         ₹250   \n",
       "4                         Cafe, Beverages               2         ₹200   \n",
       "\n",
       "  Minimum_Order Rating Votes Reviews      mean  median       std  min  max  \\\n",
       "0           ₹50    3.5    12       4  1.576428       1  0.927440    1    7   \n",
       "1           ₹50    3.5    11       4  1.619003       1  0.934412    1    6   \n",
       "2           ₹50    3.6    99      30  1.728234       1  1.036480    1    7   \n",
       "3           ₹99    3.7   176      95  1.626558       1  0.968593    1    7   \n",
       "4           ₹99    3.2   521     235  1.619003       1  0.934412    1    6   \n",
       "\n",
       "  Delivery_Time  target_encoding  \n",
       "0    30 minutes              1.0  \n",
       "1    30 minutes              1.0  \n",
       "2    65 minutes              2.0  \n",
       "3    30 minutes              1.0  \n",
       "4    65 minutes              2.0  "
      ]
     },
     "execution_count": 62,
     "metadata": {},
     "output_type": "execute_result"
    }
   ],
   "source": [
    "dfc.head()"
   ]
  },
  {
   "cell_type": "markdown",
   "metadata": {
    "heading_collapsed": true
   },
   "source": [
    "## cleaning the data"
   ]
  },
  {
   "cell_type": "code",
   "execution_count": 63,
   "metadata": {
    "hidden": true
   },
   "outputs": [],
   "source": [
    "# replacing rupee symbol\n",
    "dfc['Average_Cost'] = dfc['Average_Cost'].str.replace(r'\\u20B9','')\n",
    "dfc['Minimum_Order'] = dfc['Minimum_Order'].str.replace(r'\\u20B9','')"
   ]
  },
  {
   "cell_type": "code",
   "execution_count": 36,
   "metadata": {
    "hidden": true
   },
   "outputs": [
    {
     "data": {
      "text/plain": [
       "array(['200', '100', '150', '250', '650', '350', '800', '50', '400',\n",
       "       '600', '300', '750', '450', '550', '1,000', '500', '900', '1,200',\n",
       "       '950', '850', '700', '1,150', 'for', '1,100', '1,400', '2,050'],\n",
       "      dtype=object)"
      ]
     },
     "execution_count": 36,
     "metadata": {},
     "output_type": "execute_result"
    }
   ],
   "source": [
    "dfc['Average_Cost'].unique()"
   ]
  },
  {
   "cell_type": "code",
   "execution_count": 37,
   "metadata": {
    "hidden": true
   },
   "outputs": [
    {
     "data": {
      "text/html": [
       "<div>\n",
       "<style scoped>\n",
       "    .dataframe tbody tr th:only-of-type {\n",
       "        vertical-align: middle;\n",
       "    }\n",
       "\n",
       "    .dataframe tbody tr th {\n",
       "        vertical-align: top;\n",
       "    }\n",
       "\n",
       "    .dataframe thead th {\n",
       "        text-align: right;\n",
       "    }\n",
       "</style>\n",
       "<table border=\"1\" class=\"dataframe\">\n",
       "  <thead>\n",
       "    <tr style=\"text-align: right;\">\n",
       "      <th></th>\n",
       "      <th>Restaurant</th>\n",
       "      <th>Location</th>\n",
       "      <th>City_Name</th>\n",
       "      <th>Zone</th>\n",
       "      <th>Cuisines</th>\n",
       "      <th>No.of Cuisines</th>\n",
       "      <th>Average_Cost</th>\n",
       "      <th>Minimum_Order</th>\n",
       "      <th>Rating</th>\n",
       "      <th>Votes</th>\n",
       "      <th>Reviews</th>\n",
       "      <th>mean</th>\n",
       "      <th>median</th>\n",
       "      <th>std</th>\n",
       "      <th>min</th>\n",
       "      <th>max</th>\n",
       "      <th>Delivery_Time</th>\n",
       "      <th>target_encoding</th>\n",
       "    </tr>\n",
       "  </thead>\n",
       "  <tbody>\n",
       "    <tr>\n",
       "      <th>6297</th>\n",
       "      <td>ID_6472</td>\n",
       "      <td>Pune University</td>\n",
       "      <td>Pune</td>\n",
       "      <td>South</td>\n",
       "      <td>Fast Food</td>\n",
       "      <td>1</td>\n",
       "      <td>for</td>\n",
       "      <td>50</td>\n",
       "      <td>NEW</td>\n",
       "      <td>-</td>\n",
       "      <td>-</td>\n",
       "      <td>1.576428</td>\n",
       "      <td>1</td>\n",
       "      <td>0.92744</td>\n",
       "      <td>1</td>\n",
       "      <td>7</td>\n",
       "      <td>30 minutes</td>\n",
       "      <td>1.0</td>\n",
       "    </tr>\n",
       "  </tbody>\n",
       "</table>\n",
       "</div>"
      ],
      "text/plain": [
       "     Restaurant         Location City_Name   Zone   Cuisines  No.of Cuisines  \\\n",
       "6297    ID_6472  Pune University      Pune  South  Fast Food               1   \n",
       "\n",
       "     Average_Cost Minimum_Order Rating Votes Reviews      mean  median  \\\n",
       "6297          for            50    NEW     -       -  1.576428       1   \n",
       "\n",
       "          std  min  max Delivery_Time  target_encoding  \n",
       "6297  0.92744    1    7    30 minutes              1.0  "
      ]
     },
     "execution_count": 37,
     "metadata": {},
     "output_type": "execute_result"
    }
   ],
   "source": [
    "dfc[dfc['Average_Cost'] =='for']"
   ]
  },
  {
   "cell_type": "code",
   "execution_count": 38,
   "metadata": {
    "hidden": true
   },
   "outputs": [
    {
     "data": {
      "text/html": [
       "<div>\n",
       "<style scoped>\n",
       "    .dataframe tbody tr th:only-of-type {\n",
       "        vertical-align: middle;\n",
       "    }\n",
       "\n",
       "    .dataframe tbody tr th {\n",
       "        vertical-align: top;\n",
       "    }\n",
       "\n",
       "    .dataframe thead th {\n",
       "        text-align: right;\n",
       "    }\n",
       "</style>\n",
       "<table border=\"1\" class=\"dataframe\">\n",
       "  <thead>\n",
       "    <tr style=\"text-align: right;\">\n",
       "      <th></th>\n",
       "      <th>Restaurant</th>\n",
       "      <th>Location</th>\n",
       "      <th>City_Name</th>\n",
       "      <th>Zone</th>\n",
       "      <th>Cuisines</th>\n",
       "      <th>No.of Cuisines</th>\n",
       "      <th>Average_Cost</th>\n",
       "      <th>Minimum_Order</th>\n",
       "      <th>Rating</th>\n",
       "      <th>Votes</th>\n",
       "      <th>Reviews</th>\n",
       "      <th>mean</th>\n",
       "      <th>median</th>\n",
       "      <th>std</th>\n",
       "      <th>min</th>\n",
       "      <th>max</th>\n",
       "      <th>Delivery_Time</th>\n",
       "      <th>target_encoding</th>\n",
       "    </tr>\n",
       "  </thead>\n",
       "  <tbody>\n",
       "    <tr>\n",
       "      <th>5988</th>\n",
       "      <td>ID_6472</td>\n",
       "      <td>D-Block, Sector 63, Noida</td>\n",
       "      <td>Noida</td>\n",
       "      <td>North</td>\n",
       "      <td>Fast Food</td>\n",
       "      <td>1</td>\n",
       "      <td>200</td>\n",
       "      <td>99</td>\n",
       "      <td>3.7</td>\n",
       "      <td>1056</td>\n",
       "      <td>329</td>\n",
       "      <td>1.626558</td>\n",
       "      <td>1</td>\n",
       "      <td>0.968593</td>\n",
       "      <td>1</td>\n",
       "      <td>7</td>\n",
       "      <td>65 minutes</td>\n",
       "      <td>2.0</td>\n",
       "    </tr>\n",
       "    <tr>\n",
       "      <th>6297</th>\n",
       "      <td>ID_6472</td>\n",
       "      <td>Pune University</td>\n",
       "      <td>Pune</td>\n",
       "      <td>South</td>\n",
       "      <td>Fast Food</td>\n",
       "      <td>1</td>\n",
       "      <td>for</td>\n",
       "      <td>50</td>\n",
       "      <td>NEW</td>\n",
       "      <td>-</td>\n",
       "      <td>-</td>\n",
       "      <td>1.576428</td>\n",
       "      <td>1</td>\n",
       "      <td>0.927440</td>\n",
       "      <td>1</td>\n",
       "      <td>7</td>\n",
       "      <td>30 minutes</td>\n",
       "      <td>1.0</td>\n",
       "    </tr>\n",
       "  </tbody>\n",
       "</table>\n",
       "</div>"
      ],
      "text/plain": [
       "     Restaurant                   Location City_Name   Zone   Cuisines  \\\n",
       "5988    ID_6472  D-Block, Sector 63, Noida     Noida  North  Fast Food   \n",
       "6297    ID_6472            Pune University      Pune  South  Fast Food   \n",
       "\n",
       "      No.of Cuisines Average_Cost Minimum_Order Rating Votes Reviews  \\\n",
       "5988               1          200            99    3.7  1056     329   \n",
       "6297               1          for            50    NEW     -       -   \n",
       "\n",
       "          mean  median       std  min  max Delivery_Time  target_encoding  \n",
       "5988  1.626558       1  0.968593    1    7    65 minutes              2.0  \n",
       "6297  1.576428       1  0.927440    1    7    30 minutes              1.0  "
      ]
     },
     "execution_count": 38,
     "metadata": {},
     "output_type": "execute_result"
    }
   ],
   "source": [
    "dfc[dfc['Restaurant'] == 'ID_6472']"
   ]
  },
  {
   "cell_type": "code",
   "execution_count": 39,
   "metadata": {
    "hidden": true
   },
   "outputs": [
    {
     "data": {
      "text/html": [
       "<div>\n",
       "<style scoped>\n",
       "    .dataframe tbody tr th:only-of-type {\n",
       "        vertical-align: middle;\n",
       "    }\n",
       "\n",
       "    .dataframe tbody tr th {\n",
       "        vertical-align: top;\n",
       "    }\n",
       "\n",
       "    .dataframe thead th {\n",
       "        text-align: right;\n",
       "    }\n",
       "</style>\n",
       "<table border=\"1\" class=\"dataframe\">\n",
       "  <thead>\n",
       "    <tr style=\"text-align: right;\">\n",
       "      <th></th>\n",
       "      <th>Restaurant</th>\n",
       "      <th>Location</th>\n",
       "      <th>City_Name</th>\n",
       "      <th>Zone</th>\n",
       "      <th>Cuisines</th>\n",
       "      <th>No.of Cuisines</th>\n",
       "      <th>Average_Cost</th>\n",
       "      <th>Minimum_Order</th>\n",
       "      <th>Rating</th>\n",
       "      <th>Votes</th>\n",
       "      <th>Reviews</th>\n",
       "      <th>mean</th>\n",
       "      <th>median</th>\n",
       "      <th>std</th>\n",
       "      <th>min</th>\n",
       "      <th>max</th>\n",
       "      <th>Delivery_Time</th>\n",
       "      <th>target_encoding</th>\n",
       "    </tr>\n",
       "  </thead>\n",
       "  <tbody>\n",
       "    <tr>\n",
       "      <th>47</th>\n",
       "      <td>ID_2809</td>\n",
       "      <td>Mico Layout, Stage 2, BTM Layout,Bangalore</td>\n",
       "      <td>Bangalore</td>\n",
       "      <td>South</td>\n",
       "      <td>Chinese</td>\n",
       "      <td>1</td>\n",
       "      <td>200</td>\n",
       "      <td>50</td>\n",
       "      <td>NEW</td>\n",
       "      <td>-</td>\n",
       "      <td>-</td>\n",
       "      <td>1.619003</td>\n",
       "      <td>1</td>\n",
       "      <td>0.934412</td>\n",
       "      <td>1</td>\n",
       "      <td>6</td>\n",
       "      <td>30 minutes</td>\n",
       "      <td>1.0</td>\n",
       "    </tr>\n",
       "    <tr>\n",
       "      <th>85</th>\n",
       "      <td>ID_7520</td>\n",
       "      <td>Sector 1, Noida</td>\n",
       "      <td>Noida</td>\n",
       "      <td>North</td>\n",
       "      <td>North Indian, Chinese</td>\n",
       "      <td>2</td>\n",
       "      <td>200</td>\n",
       "      <td>50</td>\n",
       "      <td>NEW</td>\n",
       "      <td>-</td>\n",
       "      <td>-</td>\n",
       "      <td>1.626558</td>\n",
       "      <td>1</td>\n",
       "      <td>0.968593</td>\n",
       "      <td>1</td>\n",
       "      <td>7</td>\n",
       "      <td>45 minutes</td>\n",
       "      <td>3.0</td>\n",
       "    </tr>\n",
       "    <tr>\n",
       "      <th>93</th>\n",
       "      <td>ID_7738</td>\n",
       "      <td>Rmz Centennial, I Gate, Whitefield</td>\n",
       "      <td>Bangalore</td>\n",
       "      <td>South</td>\n",
       "      <td>Continental, Beverages, Desserts</td>\n",
       "      <td>3</td>\n",
       "      <td>200</td>\n",
       "      <td>50</td>\n",
       "      <td>NEW</td>\n",
       "      <td>-</td>\n",
       "      <td>-</td>\n",
       "      <td>1.619003</td>\n",
       "      <td>1</td>\n",
       "      <td>0.934412</td>\n",
       "      <td>1</td>\n",
       "      <td>6</td>\n",
       "      <td>30 minutes</td>\n",
       "      <td>1.0</td>\n",
       "    </tr>\n",
       "    <tr>\n",
       "      <th>106</th>\n",
       "      <td>ID_1858</td>\n",
       "      <td>Tejas Nagar Colony, Wadala West, Mumbai</td>\n",
       "      <td>Mumbai</td>\n",
       "      <td>South</td>\n",
       "      <td>North Indian, South Indian, Assamese, Maharash...</td>\n",
       "      <td>5</td>\n",
       "      <td>200</td>\n",
       "      <td>50</td>\n",
       "      <td>NEW</td>\n",
       "      <td>-</td>\n",
       "      <td>-</td>\n",
       "      <td>1.728234</td>\n",
       "      <td>1</td>\n",
       "      <td>1.036480</td>\n",
       "      <td>1</td>\n",
       "      <td>7</td>\n",
       "      <td>30 minutes</td>\n",
       "      <td>1.0</td>\n",
       "    </tr>\n",
       "    <tr>\n",
       "      <th>159</th>\n",
       "      <td>ID_8391</td>\n",
       "      <td>Sector 1, Noida</td>\n",
       "      <td>Noida</td>\n",
       "      <td>North</td>\n",
       "      <td>Cafe, Desserts</td>\n",
       "      <td>2</td>\n",
       "      <td>200</td>\n",
       "      <td>50</td>\n",
       "      <td>NEW</td>\n",
       "      <td>-</td>\n",
       "      <td>-</td>\n",
       "      <td>1.626558</td>\n",
       "      <td>1</td>\n",
       "      <td>0.968593</td>\n",
       "      <td>1</td>\n",
       "      <td>7</td>\n",
       "      <td>30 minutes</td>\n",
       "      <td>1.0</td>\n",
       "    </tr>\n",
       "    <tr>\n",
       "      <th>210</th>\n",
       "      <td>ID_7594</td>\n",
       "      <td>Mumbai Central</td>\n",
       "      <td>Mumbai</td>\n",
       "      <td>South</td>\n",
       "      <td>Burger</td>\n",
       "      <td>1</td>\n",
       "      <td>200</td>\n",
       "      <td>50</td>\n",
       "      <td>NEW</td>\n",
       "      <td>-</td>\n",
       "      <td>-</td>\n",
       "      <td>1.728234</td>\n",
       "      <td>1</td>\n",
       "      <td>1.036480</td>\n",
       "      <td>1</td>\n",
       "      <td>7</td>\n",
       "      <td>30 minutes</td>\n",
       "      <td>1.0</td>\n",
       "    </tr>\n",
       "    <tr>\n",
       "      <th>248</th>\n",
       "      <td>ID_7266</td>\n",
       "      <td>Laxman Vihar Industrial Area, Sector 3A, Gurgoan</td>\n",
       "      <td>Gurgoan</td>\n",
       "      <td>North</td>\n",
       "      <td>North Indian, Fast Food, Chinese</td>\n",
       "      <td>3</td>\n",
       "      <td>200</td>\n",
       "      <td>50</td>\n",
       "      <td>NEW</td>\n",
       "      <td>-</td>\n",
       "      <td>-</td>\n",
       "      <td>1.589641</td>\n",
       "      <td>1</td>\n",
       "      <td>0.990781</td>\n",
       "      <td>1</td>\n",
       "      <td>7</td>\n",
       "      <td>30 minutes</td>\n",
       "      <td>1.0</td>\n",
       "    </tr>\n",
       "    <tr>\n",
       "      <th>345</th>\n",
       "      <td>ID_911</td>\n",
       "      <td>Laxman Vihar Industrial Area, Sector 3A, Gurgoan</td>\n",
       "      <td>Gurgoan</td>\n",
       "      <td>North</td>\n",
       "      <td>Biryani</td>\n",
       "      <td>1</td>\n",
       "      <td>200</td>\n",
       "      <td>50</td>\n",
       "      <td>NEW</td>\n",
       "      <td>-</td>\n",
       "      <td>-</td>\n",
       "      <td>1.589641</td>\n",
       "      <td>1</td>\n",
       "      <td>0.990781</td>\n",
       "      <td>1</td>\n",
       "      <td>7</td>\n",
       "      <td>30 minutes</td>\n",
       "      <td>1.0</td>\n",
       "    </tr>\n",
       "    <tr>\n",
       "      <th>456</th>\n",
       "      <td>ID_7170</td>\n",
       "      <td>FTI College, Law College Road, Pune</td>\n",
       "      <td>Pune</td>\n",
       "      <td>South</td>\n",
       "      <td>European, Italian, Pizza, Fast Food</td>\n",
       "      <td>4</td>\n",
       "      <td>200</td>\n",
       "      <td>50</td>\n",
       "      <td>NEW</td>\n",
       "      <td>-</td>\n",
       "      <td>-</td>\n",
       "      <td>1.576428</td>\n",
       "      <td>1</td>\n",
       "      <td>0.927440</td>\n",
       "      <td>1</td>\n",
       "      <td>7</td>\n",
       "      <td>30 minutes</td>\n",
       "      <td>1.0</td>\n",
       "    </tr>\n",
       "    <tr>\n",
       "      <th>483</th>\n",
       "      <td>ID_4691</td>\n",
       "      <td>Sector 14, Noida</td>\n",
       "      <td>Noida</td>\n",
       "      <td>North</td>\n",
       "      <td>North Indian, Chinese</td>\n",
       "      <td>2</td>\n",
       "      <td>200</td>\n",
       "      <td>50</td>\n",
       "      <td>NEW</td>\n",
       "      <td>-</td>\n",
       "      <td>-</td>\n",
       "      <td>1.626558</td>\n",
       "      <td>1</td>\n",
       "      <td>0.968593</td>\n",
       "      <td>1</td>\n",
       "      <td>7</td>\n",
       "      <td>30 minutes</td>\n",
       "      <td>1.0</td>\n",
       "    </tr>\n",
       "    <tr>\n",
       "      <th>570</th>\n",
       "      <td>ID_2065</td>\n",
       "      <td>Mico Layout, Stage 2, BTM Layout,Bangalore</td>\n",
       "      <td>Bangalore</td>\n",
       "      <td>South</td>\n",
       "      <td>North Indian, Chinese, Arabian, Mughlai</td>\n",
       "      <td>4</td>\n",
       "      <td>200</td>\n",
       "      <td>50</td>\n",
       "      <td>NEW</td>\n",
       "      <td>-</td>\n",
       "      <td>-</td>\n",
       "      <td>1.619003</td>\n",
       "      <td>1</td>\n",
       "      <td>0.934412</td>\n",
       "      <td>1</td>\n",
       "      <td>6</td>\n",
       "      <td>30 minutes</td>\n",
       "      <td>1.0</td>\n",
       "    </tr>\n",
       "    <tr>\n",
       "      <th>590</th>\n",
       "      <td>ID_1023</td>\n",
       "      <td>Sector 14, Noida</td>\n",
       "      <td>Noida</td>\n",
       "      <td>North</td>\n",
       "      <td>Bengali</td>\n",
       "      <td>1</td>\n",
       "      <td>200</td>\n",
       "      <td>50</td>\n",
       "      <td>NEW</td>\n",
       "      <td>-</td>\n",
       "      <td>-</td>\n",
       "      <td>1.626558</td>\n",
       "      <td>1</td>\n",
       "      <td>0.968593</td>\n",
       "      <td>1</td>\n",
       "      <td>7</td>\n",
       "      <td>30 minutes</td>\n",
       "      <td>1.0</td>\n",
       "    </tr>\n",
       "    <tr>\n",
       "      <th>607</th>\n",
       "      <td>ID_7633</td>\n",
       "      <td>Sector 1, Noida</td>\n",
       "      <td>Noida</td>\n",
       "      <td>North</td>\n",
       "      <td>Chinese</td>\n",
       "      <td>1</td>\n",
       "      <td>200</td>\n",
       "      <td>50</td>\n",
       "      <td>NEW</td>\n",
       "      <td>-</td>\n",
       "      <td>-</td>\n",
       "      <td>1.626558</td>\n",
       "      <td>1</td>\n",
       "      <td>0.968593</td>\n",
       "      <td>1</td>\n",
       "      <td>7</td>\n",
       "      <td>30 minutes</td>\n",
       "      <td>1.0</td>\n",
       "    </tr>\n",
       "    <tr>\n",
       "      <th>806</th>\n",
       "      <td>ID_4847</td>\n",
       "      <td>Sector 1, Noida</td>\n",
       "      <td>Noida</td>\n",
       "      <td>North</td>\n",
       "      <td>Biryani, Mughlai, Kebab, Rolls, Roast Chicken</td>\n",
       "      <td>5</td>\n",
       "      <td>200</td>\n",
       "      <td>50</td>\n",
       "      <td>NEW</td>\n",
       "      <td>-</td>\n",
       "      <td>-</td>\n",
       "      <td>1.626558</td>\n",
       "      <td>1</td>\n",
       "      <td>0.968593</td>\n",
       "      <td>1</td>\n",
       "      <td>7</td>\n",
       "      <td>30 minutes</td>\n",
       "      <td>1.0</td>\n",
       "    </tr>\n",
       "    <tr>\n",
       "      <th>867</th>\n",
       "      <td>ID_986</td>\n",
       "      <td>Majestic</td>\n",
       "      <td>Bangalore</td>\n",
       "      <td>South</td>\n",
       "      <td>Coffee, Beverages, Sandwich</td>\n",
       "      <td>3</td>\n",
       "      <td>200</td>\n",
       "      <td>50</td>\n",
       "      <td>NEW</td>\n",
       "      <td>-</td>\n",
       "      <td>-</td>\n",
       "      <td>1.619003</td>\n",
       "      <td>1</td>\n",
       "      <td>0.934412</td>\n",
       "      <td>1</td>\n",
       "      <td>6</td>\n",
       "      <td>30 minutes</td>\n",
       "      <td>1.0</td>\n",
       "    </tr>\n",
       "    <tr>\n",
       "      <th>941</th>\n",
       "      <td>ID_6899</td>\n",
       "      <td>Laxman Vihar Industrial Area, Sector 3A, Gurgoan</td>\n",
       "      <td>Gurgoan</td>\n",
       "      <td>North</td>\n",
       "      <td>Coffee, Fast Food, Beverages</td>\n",
       "      <td>3</td>\n",
       "      <td>200</td>\n",
       "      <td>50</td>\n",
       "      <td>NEW</td>\n",
       "      <td>-</td>\n",
       "      <td>-</td>\n",
       "      <td>1.589641</td>\n",
       "      <td>1</td>\n",
       "      <td>0.990781</td>\n",
       "      <td>1</td>\n",
       "      <td>7</td>\n",
       "      <td>45 minutes</td>\n",
       "      <td>3.0</td>\n",
       "    </tr>\n",
       "    <tr>\n",
       "      <th>1163</th>\n",
       "      <td>ID_480</td>\n",
       "      <td>Sandhurst Road, Mumbai CST Area</td>\n",
       "      <td>Mumbai</td>\n",
       "      <td>South</td>\n",
       "      <td>North Indian, Chinese, South Indian</td>\n",
       "      <td>3</td>\n",
       "      <td>200</td>\n",
       "      <td>50</td>\n",
       "      <td>NEW</td>\n",
       "      <td>-</td>\n",
       "      <td>-</td>\n",
       "      <td>1.728234</td>\n",
       "      <td>1</td>\n",
       "      <td>1.036480</td>\n",
       "      <td>1</td>\n",
       "      <td>7</td>\n",
       "      <td>30 minutes</td>\n",
       "      <td>1.0</td>\n",
       "    </tr>\n",
       "    <tr>\n",
       "      <th>1197</th>\n",
       "      <td>ID_2238</td>\n",
       "      <td>Laxman Vihar Industrial Area, Sector 3A, Gurgoan</td>\n",
       "      <td>Gurgoan</td>\n",
       "      <td>North</td>\n",
       "      <td>Healthy Food, Fast Food, Beverages</td>\n",
       "      <td>3</td>\n",
       "      <td>200</td>\n",
       "      <td>50</td>\n",
       "      <td>NEW</td>\n",
       "      <td>-</td>\n",
       "      <td>-</td>\n",
       "      <td>1.589641</td>\n",
       "      <td>1</td>\n",
       "      <td>0.990781</td>\n",
       "      <td>1</td>\n",
       "      <td>7</td>\n",
       "      <td>45 minutes</td>\n",
       "      <td>3.0</td>\n",
       "    </tr>\n",
       "    <tr>\n",
       "      <th>1350</th>\n",
       "      <td>ID_3667</td>\n",
       "      <td>D-Block, Sector 63, Noida</td>\n",
       "      <td>Noida</td>\n",
       "      <td>North</td>\n",
       "      <td>Chinese</td>\n",
       "      <td>1</td>\n",
       "      <td>200</td>\n",
       "      <td>50</td>\n",
       "      <td>NEW</td>\n",
       "      <td>-</td>\n",
       "      <td>-</td>\n",
       "      <td>1.626558</td>\n",
       "      <td>1</td>\n",
       "      <td>0.968593</td>\n",
       "      <td>1</td>\n",
       "      <td>7</td>\n",
       "      <td>30 minutes</td>\n",
       "      <td>1.0</td>\n",
       "    </tr>\n",
       "    <tr>\n",
       "      <th>1375</th>\n",
       "      <td>ID_3060</td>\n",
       "      <td>Delhi High Court, India Gate</td>\n",
       "      <td>Delhi</td>\n",
       "      <td>North</td>\n",
       "      <td>North Indian, Chinese</td>\n",
       "      <td>2</td>\n",
       "      <td>200</td>\n",
       "      <td>50</td>\n",
       "      <td>NEW</td>\n",
       "      <td>-</td>\n",
       "      <td>-</td>\n",
       "      <td>1.546169</td>\n",
       "      <td>1</td>\n",
       "      <td>0.877975</td>\n",
       "      <td>1</td>\n",
       "      <td>6</td>\n",
       "      <td>30 minutes</td>\n",
       "      <td>1.0</td>\n",
       "    </tr>\n",
       "    <tr>\n",
       "      <th>1414</th>\n",
       "      <td>ID_4993</td>\n",
       "      <td>Laxman Vihar Industrial Area, Sector 3A, Gurgoan</td>\n",
       "      <td>Gurgoan</td>\n",
       "      <td>North</td>\n",
       "      <td>North Indian, Fast Food</td>\n",
       "      <td>2</td>\n",
       "      <td>200</td>\n",
       "      <td>50</td>\n",
       "      <td>NEW</td>\n",
       "      <td>-</td>\n",
       "      <td>-</td>\n",
       "      <td>1.589641</td>\n",
       "      <td>1</td>\n",
       "      <td>0.990781</td>\n",
       "      <td>1</td>\n",
       "      <td>7</td>\n",
       "      <td>30 minutes</td>\n",
       "      <td>1.0</td>\n",
       "    </tr>\n",
       "    <tr>\n",
       "      <th>1415</th>\n",
       "      <td>ID_1083</td>\n",
       "      <td>Sector 14, Noida</td>\n",
       "      <td>Noida</td>\n",
       "      <td>North</td>\n",
       "      <td>North Indian, Chinese</td>\n",
       "      <td>2</td>\n",
       "      <td>200</td>\n",
       "      <td>50</td>\n",
       "      <td>NEW</td>\n",
       "      <td>-</td>\n",
       "      <td>-</td>\n",
       "      <td>1.626558</td>\n",
       "      <td>1</td>\n",
       "      <td>0.968593</td>\n",
       "      <td>1</td>\n",
       "      <td>7</td>\n",
       "      <td>30 minutes</td>\n",
       "      <td>1.0</td>\n",
       "    </tr>\n",
       "    <tr>\n",
       "      <th>1423</th>\n",
       "      <td>ID_84</td>\n",
       "      <td>Sector 63A,Gurgaon</td>\n",
       "      <td>Gurgoan</td>\n",
       "      <td>North</td>\n",
       "      <td>Fast Food, Chinese, North Indian</td>\n",
       "      <td>3</td>\n",
       "      <td>200</td>\n",
       "      <td>50</td>\n",
       "      <td>NEW</td>\n",
       "      <td>-</td>\n",
       "      <td>-</td>\n",
       "      <td>1.589641</td>\n",
       "      <td>1</td>\n",
       "      <td>0.990781</td>\n",
       "      <td>1</td>\n",
       "      <td>7</td>\n",
       "      <td>30 minutes</td>\n",
       "      <td>1.0</td>\n",
       "    </tr>\n",
       "    <tr>\n",
       "      <th>1599</th>\n",
       "      <td>ID_684</td>\n",
       "      <td>Majestic</td>\n",
       "      <td>Bangalore</td>\n",
       "      <td>South</td>\n",
       "      <td>Arabian, Chinese, Continental</td>\n",
       "      <td>3</td>\n",
       "      <td>200</td>\n",
       "      <td>50</td>\n",
       "      <td>NEW</td>\n",
       "      <td>-</td>\n",
       "      <td>-</td>\n",
       "      <td>1.619003</td>\n",
       "      <td>1</td>\n",
       "      <td>0.934412</td>\n",
       "      <td>1</td>\n",
       "      <td>6</td>\n",
       "      <td>30 minutes</td>\n",
       "      <td>1.0</td>\n",
       "    </tr>\n",
       "    <tr>\n",
       "      <th>1725</th>\n",
       "      <td>ID_7785</td>\n",
       "      <td>Delhi Administration Flats, Timarpur</td>\n",
       "      <td>Delhi</td>\n",
       "      <td>North</td>\n",
       "      <td>Fast Food, Chinese</td>\n",
       "      <td>2</td>\n",
       "      <td>200</td>\n",
       "      <td>50</td>\n",
       "      <td>NEW</td>\n",
       "      <td>-</td>\n",
       "      <td>-</td>\n",
       "      <td>1.546169</td>\n",
       "      <td>1</td>\n",
       "      <td>0.877975</td>\n",
       "      <td>1</td>\n",
       "      <td>6</td>\n",
       "      <td>30 minutes</td>\n",
       "      <td>1.0</td>\n",
       "    </tr>\n",
       "    <tr>\n",
       "      <th>1811</th>\n",
       "      <td>ID_4051</td>\n",
       "      <td>Delhi Cantt.</td>\n",
       "      <td>Delhi</td>\n",
       "      <td>North</td>\n",
       "      <td>North Indian, Rolls</td>\n",
       "      <td>2</td>\n",
       "      <td>200</td>\n",
       "      <td>50</td>\n",
       "      <td>NEW</td>\n",
       "      <td>-</td>\n",
       "      <td>-</td>\n",
       "      <td>1.546169</td>\n",
       "      <td>1</td>\n",
       "      <td>0.877975</td>\n",
       "      <td>1</td>\n",
       "      <td>6</td>\n",
       "      <td>30 minutes</td>\n",
       "      <td>1.0</td>\n",
       "    </tr>\n",
       "    <tr>\n",
       "      <th>1837</th>\n",
       "      <td>ID_4847</td>\n",
       "      <td>Sector 14, Noida</td>\n",
       "      <td>Noida</td>\n",
       "      <td>North</td>\n",
       "      <td>Biryani, Mughlai, Kebab, Rolls, Roast Chicken</td>\n",
       "      <td>5</td>\n",
       "      <td>200</td>\n",
       "      <td>50</td>\n",
       "      <td>NEW</td>\n",
       "      <td>-</td>\n",
       "      <td>-</td>\n",
       "      <td>1.626558</td>\n",
       "      <td>1</td>\n",
       "      <td>0.968593</td>\n",
       "      <td>1</td>\n",
       "      <td>7</td>\n",
       "      <td>30 minutes</td>\n",
       "      <td>1.0</td>\n",
       "    </tr>\n",
       "    <tr>\n",
       "      <th>1868</th>\n",
       "      <td>ID_5939</td>\n",
       "      <td>Rmz Centennial, I Gate, Whitefield</td>\n",
       "      <td>Bangalore</td>\n",
       "      <td>South</td>\n",
       "      <td>Fast Food, Desserts, Beverages</td>\n",
       "      <td>3</td>\n",
       "      <td>200</td>\n",
       "      <td>50</td>\n",
       "      <td>NEW</td>\n",
       "      <td>-</td>\n",
       "      <td>-</td>\n",
       "      <td>1.619003</td>\n",
       "      <td>1</td>\n",
       "      <td>0.934412</td>\n",
       "      <td>1</td>\n",
       "      <td>6</td>\n",
       "      <td>30 minutes</td>\n",
       "      <td>1.0</td>\n",
       "    </tr>\n",
       "    <tr>\n",
       "      <th>1990</th>\n",
       "      <td>ID_6625</td>\n",
       "      <td>Delhi University-GTB Nagar</td>\n",
       "      <td>Delhi</td>\n",
       "      <td>North</td>\n",
       "      <td>Fast Food, Chinese, Italian, Seafood, Beverages</td>\n",
       "      <td>5</td>\n",
       "      <td>200</td>\n",
       "      <td>50</td>\n",
       "      <td>NEW</td>\n",
       "      <td>-</td>\n",
       "      <td>-</td>\n",
       "      <td>1.546169</td>\n",
       "      <td>1</td>\n",
       "      <td>0.877975</td>\n",
       "      <td>1</td>\n",
       "      <td>6</td>\n",
       "      <td>30 minutes</td>\n",
       "      <td>1.0</td>\n",
       "    </tr>\n",
       "    <tr>\n",
       "      <th>2077</th>\n",
       "      <td>ID_8480</td>\n",
       "      <td>Tejas Nagar Colony, Wadala West, Mumbai</td>\n",
       "      <td>Mumbai</td>\n",
       "      <td>South</td>\n",
       "      <td>Chinese</td>\n",
       "      <td>1</td>\n",
       "      <td>200</td>\n",
       "      <td>50</td>\n",
       "      <td>NEW</td>\n",
       "      <td>-</td>\n",
       "      <td>-</td>\n",
       "      <td>1.728234</td>\n",
       "      <td>1</td>\n",
       "      <td>1.036480</td>\n",
       "      <td>1</td>\n",
       "      <td>7</td>\n",
       "      <td>30 minutes</td>\n",
       "      <td>1.0</td>\n",
       "    </tr>\n",
       "    <tr>\n",
       "      <th>2138</th>\n",
       "      <td>ID_8502</td>\n",
       "      <td>Delhi Cantt.</td>\n",
       "      <td>Delhi</td>\n",
       "      <td>North</td>\n",
       "      <td>North Indian, Rolls</td>\n",
       "      <td>2</td>\n",
       "      <td>200</td>\n",
       "      <td>50</td>\n",
       "      <td>NEW</td>\n",
       "      <td>-</td>\n",
       "      <td>-</td>\n",
       "      <td>1.546169</td>\n",
       "      <td>1</td>\n",
       "      <td>0.877975</td>\n",
       "      <td>1</td>\n",
       "      <td>6</td>\n",
       "      <td>30 minutes</td>\n",
       "      <td>1.0</td>\n",
       "    </tr>\n",
       "    <tr>\n",
       "      <th>2492</th>\n",
       "      <td>ID_6223</td>\n",
       "      <td>Mico Layout, Stage 2, BTM Layout,Bangalore</td>\n",
       "      <td>Bangalore</td>\n",
       "      <td>South</td>\n",
       "      <td>Rolls, North Indian</td>\n",
       "      <td>2</td>\n",
       "      <td>200</td>\n",
       "      <td>50</td>\n",
       "      <td>NEW</td>\n",
       "      <td>-</td>\n",
       "      <td>-</td>\n",
       "      <td>1.619003</td>\n",
       "      <td>1</td>\n",
       "      <td>0.934412</td>\n",
       "      <td>1</td>\n",
       "      <td>6</td>\n",
       "      <td>30 minutes</td>\n",
       "      <td>1.0</td>\n",
       "    </tr>\n",
       "    <tr>\n",
       "      <th>2497</th>\n",
       "      <td>ID_5071</td>\n",
       "      <td>Mumbai Central</td>\n",
       "      <td>Mumbai</td>\n",
       "      <td>South</td>\n",
       "      <td>North Indian, Chinese, Lebanese</td>\n",
       "      <td>3</td>\n",
       "      <td>200</td>\n",
       "      <td>50</td>\n",
       "      <td>NEW</td>\n",
       "      <td>-</td>\n",
       "      <td>-</td>\n",
       "      <td>1.728234</td>\n",
       "      <td>1</td>\n",
       "      <td>1.036480</td>\n",
       "      <td>1</td>\n",
       "      <td>7</td>\n",
       "      <td>30 minutes</td>\n",
       "      <td>1.0</td>\n",
       "    </tr>\n",
       "    <tr>\n",
       "      <th>2503</th>\n",
       "      <td>ID_1913</td>\n",
       "      <td>FTI College, Law College Road, Pune</td>\n",
       "      <td>Pune</td>\n",
       "      <td>South</td>\n",
       "      <td>Bakery</td>\n",
       "      <td>1</td>\n",
       "      <td>200</td>\n",
       "      <td>50</td>\n",
       "      <td>NEW</td>\n",
       "      <td>-</td>\n",
       "      <td>-</td>\n",
       "      <td>1.576428</td>\n",
       "      <td>1</td>\n",
       "      <td>0.927440</td>\n",
       "      <td>1</td>\n",
       "      <td>7</td>\n",
       "      <td>30 minutes</td>\n",
       "      <td>1.0</td>\n",
       "    </tr>\n",
       "    <tr>\n",
       "      <th>2591</th>\n",
       "      <td>ID_5903</td>\n",
       "      <td>Sector 1, Noida</td>\n",
       "      <td>Noida</td>\n",
       "      <td>North</td>\n",
       "      <td>North Indian</td>\n",
       "      <td>1</td>\n",
       "      <td>200</td>\n",
       "      <td>50</td>\n",
       "      <td>NEW</td>\n",
       "      <td>-</td>\n",
       "      <td>-</td>\n",
       "      <td>1.626558</td>\n",
       "      <td>1</td>\n",
       "      <td>0.968593</td>\n",
       "      <td>1</td>\n",
       "      <td>7</td>\n",
       "      <td>30 minutes</td>\n",
       "      <td>1.0</td>\n",
       "    </tr>\n",
       "    <tr>\n",
       "      <th>2669</th>\n",
       "      <td>ID_4675</td>\n",
       "      <td>D-Block, Sector 63, Noida</td>\n",
       "      <td>Noida</td>\n",
       "      <td>North</td>\n",
       "      <td>Mughlai, North Indian, Biryani</td>\n",
       "      <td>3</td>\n",
       "      <td>200</td>\n",
       "      <td>50</td>\n",
       "      <td>NEW</td>\n",
       "      <td>-</td>\n",
       "      <td>-</td>\n",
       "      <td>1.626558</td>\n",
       "      <td>1</td>\n",
       "      <td>0.968593</td>\n",
       "      <td>1</td>\n",
       "      <td>7</td>\n",
       "      <td>30 minutes</td>\n",
       "      <td>1.0</td>\n",
       "    </tr>\n",
       "    <tr>\n",
       "      <th>2739</th>\n",
       "      <td>ID_2843</td>\n",
       "      <td>Delhi Administration Flats, Timarpur</td>\n",
       "      <td>Delhi</td>\n",
       "      <td>North</td>\n",
       "      <td>North Indian</td>\n",
       "      <td>1</td>\n",
       "      <td>200</td>\n",
       "      <td>50</td>\n",
       "      <td>NEW</td>\n",
       "      <td>-</td>\n",
       "      <td>-</td>\n",
       "      <td>1.546169</td>\n",
       "      <td>1</td>\n",
       "      <td>0.877975</td>\n",
       "      <td>1</td>\n",
       "      <td>6</td>\n",
       "      <td>45 minutes</td>\n",
       "      <td>3.0</td>\n",
       "    </tr>\n",
       "    <tr>\n",
       "      <th>2865</th>\n",
       "      <td>ID_2283</td>\n",
       "      <td>Mico Layout, Stage 2, BTM Layout,Bangalore</td>\n",
       "      <td>Bangalore</td>\n",
       "      <td>South</td>\n",
       "      <td>North Indian, Chinese, Seafood</td>\n",
       "      <td>3</td>\n",
       "      <td>200</td>\n",
       "      <td>50</td>\n",
       "      <td>NEW</td>\n",
       "      <td>-</td>\n",
       "      <td>-</td>\n",
       "      <td>1.619003</td>\n",
       "      <td>1</td>\n",
       "      <td>0.934412</td>\n",
       "      <td>1</td>\n",
       "      <td>6</td>\n",
       "      <td>30 minutes</td>\n",
       "      <td>1.0</td>\n",
       "    </tr>\n",
       "    <tr>\n",
       "      <th>2904</th>\n",
       "      <td>ID_3984</td>\n",
       "      <td>Sector 1, Noida</td>\n",
       "      <td>Noida</td>\n",
       "      <td>North</td>\n",
       "      <td>Mughlai</td>\n",
       "      <td>1</td>\n",
       "      <td>200</td>\n",
       "      <td>50</td>\n",
       "      <td>NEW</td>\n",
       "      <td>-</td>\n",
       "      <td>-</td>\n",
       "      <td>1.626558</td>\n",
       "      <td>1</td>\n",
       "      <td>0.968593</td>\n",
       "      <td>1</td>\n",
       "      <td>7</td>\n",
       "      <td>30 minutes</td>\n",
       "      <td>1.0</td>\n",
       "    </tr>\n",
       "    <tr>\n",
       "      <th>2931</th>\n",
       "      <td>ID_3515</td>\n",
       "      <td>Sector 14, Noida</td>\n",
       "      <td>Noida</td>\n",
       "      <td>North</td>\n",
       "      <td>Biryani, Mughlai</td>\n",
       "      <td>2</td>\n",
       "      <td>200</td>\n",
       "      <td>50</td>\n",
       "      <td>NEW</td>\n",
       "      <td>-</td>\n",
       "      <td>-</td>\n",
       "      <td>1.626558</td>\n",
       "      <td>1</td>\n",
       "      <td>0.968593</td>\n",
       "      <td>1</td>\n",
       "      <td>7</td>\n",
       "      <td>30 minutes</td>\n",
       "      <td>1.0</td>\n",
       "    </tr>\n",
       "    <tr>\n",
       "      <th>2988</th>\n",
       "      <td>ID_3588</td>\n",
       "      <td>Laxman Vihar Industrial Area, Sector 3A, Gurgoan</td>\n",
       "      <td>Gurgoan</td>\n",
       "      <td>North</td>\n",
       "      <td>North Indian</td>\n",
       "      <td>1</td>\n",
       "      <td>200</td>\n",
       "      <td>50</td>\n",
       "      <td>NEW</td>\n",
       "      <td>-</td>\n",
       "      <td>-</td>\n",
       "      <td>1.589641</td>\n",
       "      <td>1</td>\n",
       "      <td>0.990781</td>\n",
       "      <td>1</td>\n",
       "      <td>7</td>\n",
       "      <td>30 minutes</td>\n",
       "      <td>1.0</td>\n",
       "    </tr>\n",
       "    <tr>\n",
       "      <th>3095</th>\n",
       "      <td>ID_2700</td>\n",
       "      <td>Babarpur, New Delhi, Delhi</td>\n",
       "      <td>Delhi</td>\n",
       "      <td>North</td>\n",
       "      <td>Pizza, Chinese</td>\n",
       "      <td>2</td>\n",
       "      <td>200</td>\n",
       "      <td>50</td>\n",
       "      <td>NEW</td>\n",
       "      <td>-</td>\n",
       "      <td>-</td>\n",
       "      <td>1.546169</td>\n",
       "      <td>1</td>\n",
       "      <td>0.877975</td>\n",
       "      <td>1</td>\n",
       "      <td>6</td>\n",
       "      <td>30 minutes</td>\n",
       "      <td>1.0</td>\n",
       "    </tr>\n",
       "    <tr>\n",
       "      <th>3119</th>\n",
       "      <td>ID_6940</td>\n",
       "      <td>D-Block, Sector 63, Noida</td>\n",
       "      <td>Noida</td>\n",
       "      <td>North</td>\n",
       "      <td>North Indian</td>\n",
       "      <td>1</td>\n",
       "      <td>200</td>\n",
       "      <td>50</td>\n",
       "      <td>NEW</td>\n",
       "      <td>-</td>\n",
       "      <td>-</td>\n",
       "      <td>1.626558</td>\n",
       "      <td>1</td>\n",
       "      <td>0.968593</td>\n",
       "      <td>1</td>\n",
       "      <td>7</td>\n",
       "      <td>30 minutes</td>\n",
       "      <td>1.0</td>\n",
       "    </tr>\n",
       "    <tr>\n",
       "      <th>3130</th>\n",
       "      <td>ID_7411</td>\n",
       "      <td>Delhi University-GTB Nagar</td>\n",
       "      <td>Delhi</td>\n",
       "      <td>North</td>\n",
       "      <td>North Indian, Chinese, Rolls</td>\n",
       "      <td>3</td>\n",
       "      <td>200</td>\n",
       "      <td>50</td>\n",
       "      <td>NEW</td>\n",
       "      <td>-</td>\n",
       "      <td>-</td>\n",
       "      <td>1.546169</td>\n",
       "      <td>1</td>\n",
       "      <td>0.877975</td>\n",
       "      <td>1</td>\n",
       "      <td>6</td>\n",
       "      <td>30 minutes</td>\n",
       "      <td>1.0</td>\n",
       "    </tr>\n",
       "    <tr>\n",
       "      <th>3136</th>\n",
       "      <td>ID_659</td>\n",
       "      <td>Gora Bazar, Rajbari, North Dumdum, Kolkata</td>\n",
       "      <td>Kolkata</td>\n",
       "      <td>North</td>\n",
       "      <td>Bengali</td>\n",
       "      <td>1</td>\n",
       "      <td>200</td>\n",
       "      <td>50</td>\n",
       "      <td>NEW</td>\n",
       "      <td>-</td>\n",
       "      <td>-</td>\n",
       "      <td>1.653846</td>\n",
       "      <td>1</td>\n",
       "      <td>0.949724</td>\n",
       "      <td>1</td>\n",
       "      <td>6</td>\n",
       "      <td>30 minutes</td>\n",
       "      <td>1.0</td>\n",
       "    </tr>\n",
       "    <tr>\n",
       "      <th>3231</th>\n",
       "      <td>ID_7723</td>\n",
       "      <td>D-Block, Sector 63, Noida</td>\n",
       "      <td>Noida</td>\n",
       "      <td>North</td>\n",
       "      <td>North Indian, Mughlai, Chinese</td>\n",
       "      <td>3</td>\n",
       "      <td>200</td>\n",
       "      <td>50</td>\n",
       "      <td>NEW</td>\n",
       "      <td>-</td>\n",
       "      <td>-</td>\n",
       "      <td>1.626558</td>\n",
       "      <td>1</td>\n",
       "      <td>0.968593</td>\n",
       "      <td>1</td>\n",
       "      <td>7</td>\n",
       "      <td>30 minutes</td>\n",
       "      <td>1.0</td>\n",
       "    </tr>\n",
       "    <tr>\n",
       "      <th>3255</th>\n",
       "      <td>ID_7520</td>\n",
       "      <td>Sector 14, Noida</td>\n",
       "      <td>Noida</td>\n",
       "      <td>North</td>\n",
       "      <td>North Indian, Chinese</td>\n",
       "      <td>2</td>\n",
       "      <td>200</td>\n",
       "      <td>50</td>\n",
       "      <td>NEW</td>\n",
       "      <td>-</td>\n",
       "      <td>-</td>\n",
       "      <td>1.626558</td>\n",
       "      <td>1</td>\n",
       "      <td>0.968593</td>\n",
       "      <td>1</td>\n",
       "      <td>7</td>\n",
       "      <td>45 minutes</td>\n",
       "      <td>3.0</td>\n",
       "    </tr>\n",
       "    <tr>\n",
       "      <th>3268</th>\n",
       "      <td>ID_5688</td>\n",
       "      <td>Delhi Cantt.</td>\n",
       "      <td>Delhi</td>\n",
       "      <td>North</td>\n",
       "      <td>Italian, Fast Food</td>\n",
       "      <td>2</td>\n",
       "      <td>200</td>\n",
       "      <td>50</td>\n",
       "      <td>NEW</td>\n",
       "      <td>-</td>\n",
       "      <td>-</td>\n",
       "      <td>1.546169</td>\n",
       "      <td>1</td>\n",
       "      <td>0.877975</td>\n",
       "      <td>1</td>\n",
       "      <td>6</td>\n",
       "      <td>30 minutes</td>\n",
       "      <td>1.0</td>\n",
       "    </tr>\n",
       "    <tr>\n",
       "      <th>3364</th>\n",
       "      <td>ID_8032</td>\n",
       "      <td>Majestic</td>\n",
       "      <td>Bangalore</td>\n",
       "      <td>South</td>\n",
       "      <td>Desserts, Beverages</td>\n",
       "      <td>2</td>\n",
       "      <td>200</td>\n",
       "      <td>50</td>\n",
       "      <td>NEW</td>\n",
       "      <td>-</td>\n",
       "      <td>-</td>\n",
       "      <td>1.619003</td>\n",
       "      <td>1</td>\n",
       "      <td>0.934412</td>\n",
       "      <td>1</td>\n",
       "      <td>6</td>\n",
       "      <td>30 minutes</td>\n",
       "      <td>1.0</td>\n",
       "    </tr>\n",
       "    <tr>\n",
       "      <th>3445</th>\n",
       "      <td>ID_3242</td>\n",
       "      <td>Delhi University-GTB Nagar</td>\n",
       "      <td>Delhi</td>\n",
       "      <td>North</td>\n",
       "      <td>North Indian, Chinese</td>\n",
       "      <td>2</td>\n",
       "      <td>200</td>\n",
       "      <td>50</td>\n",
       "      <td>NEW</td>\n",
       "      <td>-</td>\n",
       "      <td>-</td>\n",
       "      <td>1.546169</td>\n",
       "      <td>1</td>\n",
       "      <td>0.877975</td>\n",
       "      <td>1</td>\n",
       "      <td>6</td>\n",
       "      <td>30 minutes</td>\n",
       "      <td>1.0</td>\n",
       "    </tr>\n",
       "  </tbody>\n",
       "</table>\n",
       "</div>"
      ],
      "text/plain": [
       "     Restaurant                                          Location  City_Name  \\\n",
       "47      ID_2809        Mico Layout, Stage 2, BTM Layout,Bangalore  Bangalore   \n",
       "85      ID_7520                                   Sector 1, Noida      Noida   \n",
       "93      ID_7738                Rmz Centennial, I Gate, Whitefield  Bangalore   \n",
       "106     ID_1858           Tejas Nagar Colony, Wadala West, Mumbai     Mumbai   \n",
       "159     ID_8391                                   Sector 1, Noida      Noida   \n",
       "210     ID_7594                                    Mumbai Central     Mumbai   \n",
       "248     ID_7266  Laxman Vihar Industrial Area, Sector 3A, Gurgoan    Gurgoan   \n",
       "345      ID_911  Laxman Vihar Industrial Area, Sector 3A, Gurgoan    Gurgoan   \n",
       "456     ID_7170               FTI College, Law College Road, Pune       Pune   \n",
       "483     ID_4691                                  Sector 14, Noida      Noida   \n",
       "570     ID_2065        Mico Layout, Stage 2, BTM Layout,Bangalore  Bangalore   \n",
       "590     ID_1023                                  Sector 14, Noida      Noida   \n",
       "607     ID_7633                                   Sector 1, Noida      Noida   \n",
       "806     ID_4847                                   Sector 1, Noida      Noida   \n",
       "867      ID_986                                          Majestic  Bangalore   \n",
       "941     ID_6899  Laxman Vihar Industrial Area, Sector 3A, Gurgoan    Gurgoan   \n",
       "1163     ID_480                   Sandhurst Road, Mumbai CST Area     Mumbai   \n",
       "1197    ID_2238  Laxman Vihar Industrial Area, Sector 3A, Gurgoan    Gurgoan   \n",
       "1350    ID_3667                         D-Block, Sector 63, Noida      Noida   \n",
       "1375    ID_3060                      Delhi High Court, India Gate      Delhi   \n",
       "1414    ID_4993  Laxman Vihar Industrial Area, Sector 3A, Gurgoan    Gurgoan   \n",
       "1415    ID_1083                                  Sector 14, Noida      Noida   \n",
       "1423      ID_84                                Sector 63A,Gurgaon    Gurgoan   \n",
       "1599     ID_684                                          Majestic  Bangalore   \n",
       "1725    ID_7785              Delhi Administration Flats, Timarpur      Delhi   \n",
       "1811    ID_4051                                      Delhi Cantt.      Delhi   \n",
       "1837    ID_4847                                  Sector 14, Noida      Noida   \n",
       "1868    ID_5939                Rmz Centennial, I Gate, Whitefield  Bangalore   \n",
       "1990    ID_6625                        Delhi University-GTB Nagar      Delhi   \n",
       "2077    ID_8480           Tejas Nagar Colony, Wadala West, Mumbai     Mumbai   \n",
       "2138    ID_8502                                      Delhi Cantt.      Delhi   \n",
       "2492    ID_6223        Mico Layout, Stage 2, BTM Layout,Bangalore  Bangalore   \n",
       "2497    ID_5071                                    Mumbai Central     Mumbai   \n",
       "2503    ID_1913               FTI College, Law College Road, Pune       Pune   \n",
       "2591    ID_5903                                   Sector 1, Noida      Noida   \n",
       "2669    ID_4675                         D-Block, Sector 63, Noida      Noida   \n",
       "2739    ID_2843              Delhi Administration Flats, Timarpur      Delhi   \n",
       "2865    ID_2283        Mico Layout, Stage 2, BTM Layout,Bangalore  Bangalore   \n",
       "2904    ID_3984                                   Sector 1, Noida      Noida   \n",
       "2931    ID_3515                                  Sector 14, Noida      Noida   \n",
       "2988    ID_3588  Laxman Vihar Industrial Area, Sector 3A, Gurgoan    Gurgoan   \n",
       "3095    ID_2700                        Babarpur, New Delhi, Delhi      Delhi   \n",
       "3119    ID_6940                         D-Block, Sector 63, Noida      Noida   \n",
       "3130    ID_7411                        Delhi University-GTB Nagar      Delhi   \n",
       "3136     ID_659        Gora Bazar, Rajbari, North Dumdum, Kolkata    Kolkata   \n",
       "3231    ID_7723                         D-Block, Sector 63, Noida      Noida   \n",
       "3255    ID_7520                                  Sector 14, Noida      Noida   \n",
       "3268    ID_5688                                      Delhi Cantt.      Delhi   \n",
       "3364    ID_8032                                          Majestic  Bangalore   \n",
       "3445    ID_3242                        Delhi University-GTB Nagar      Delhi   \n",
       "\n",
       "       Zone                                           Cuisines  \\\n",
       "47    South                                            Chinese   \n",
       "85    North                              North Indian, Chinese   \n",
       "93    South                   Continental, Beverages, Desserts   \n",
       "106   South  North Indian, South Indian, Assamese, Maharash...   \n",
       "159   North                                     Cafe, Desserts   \n",
       "210   South                                             Burger   \n",
       "248   North                   North Indian, Fast Food, Chinese   \n",
       "345   North                                            Biryani   \n",
       "456   South                European, Italian, Pizza, Fast Food   \n",
       "483   North                              North Indian, Chinese   \n",
       "570   South            North Indian, Chinese, Arabian, Mughlai   \n",
       "590   North                                            Bengali   \n",
       "607   North                                            Chinese   \n",
       "806   North      Biryani, Mughlai, Kebab, Rolls, Roast Chicken   \n",
       "867   South                        Coffee, Beverages, Sandwich   \n",
       "941   North                       Coffee, Fast Food, Beverages   \n",
       "1163  South                North Indian, Chinese, South Indian   \n",
       "1197  North                 Healthy Food, Fast Food, Beverages   \n",
       "1350  North                                            Chinese   \n",
       "1375  North                              North Indian, Chinese   \n",
       "1414  North                            North Indian, Fast Food   \n",
       "1415  North                              North Indian, Chinese   \n",
       "1423  North                   Fast Food, Chinese, North Indian   \n",
       "1599  South                      Arabian, Chinese, Continental   \n",
       "1725  North                                 Fast Food, Chinese   \n",
       "1811  North                                North Indian, Rolls   \n",
       "1837  North      Biryani, Mughlai, Kebab, Rolls, Roast Chicken   \n",
       "1868  South                     Fast Food, Desserts, Beverages   \n",
       "1990  North    Fast Food, Chinese, Italian, Seafood, Beverages   \n",
       "2077  South                                            Chinese   \n",
       "2138  North                                North Indian, Rolls   \n",
       "2492  South                                Rolls, North Indian   \n",
       "2497  South                    North Indian, Chinese, Lebanese   \n",
       "2503  South                                             Bakery   \n",
       "2591  North                                       North Indian   \n",
       "2669  North                     Mughlai, North Indian, Biryani   \n",
       "2739  North                                       North Indian   \n",
       "2865  South                     North Indian, Chinese, Seafood   \n",
       "2904  North                                            Mughlai   \n",
       "2931  North                                   Biryani, Mughlai   \n",
       "2988  North                                       North Indian   \n",
       "3095  North                                     Pizza, Chinese   \n",
       "3119  North                                       North Indian   \n",
       "3130  North                       North Indian, Chinese, Rolls   \n",
       "3136  North                                            Bengali   \n",
       "3231  North                     North Indian, Mughlai, Chinese   \n",
       "3255  North                              North Indian, Chinese   \n",
       "3268  North                                 Italian, Fast Food   \n",
       "3364  South                                Desserts, Beverages   \n",
       "3445  North                              North Indian, Chinese   \n",
       "\n",
       "      No.of Cuisines Average_Cost Minimum_Order Rating Votes Reviews  \\\n",
       "47                 1          200            50    NEW     -       -   \n",
       "85                 2          200            50    NEW     -       -   \n",
       "93                 3          200            50    NEW     -       -   \n",
       "106                5          200            50    NEW     -       -   \n",
       "159                2          200            50    NEW     -       -   \n",
       "210                1          200            50    NEW     -       -   \n",
       "248                3          200            50    NEW     -       -   \n",
       "345                1          200            50    NEW     -       -   \n",
       "456                4          200            50    NEW     -       -   \n",
       "483                2          200            50    NEW     -       -   \n",
       "570                4          200            50    NEW     -       -   \n",
       "590                1          200            50    NEW     -       -   \n",
       "607                1          200            50    NEW     -       -   \n",
       "806                5          200            50    NEW     -       -   \n",
       "867                3          200            50    NEW     -       -   \n",
       "941                3          200            50    NEW     -       -   \n",
       "1163               3          200            50    NEW     -       -   \n",
       "1197               3          200            50    NEW     -       -   \n",
       "1350               1          200            50    NEW     -       -   \n",
       "1375               2          200            50    NEW     -       -   \n",
       "1414               2          200            50    NEW     -       -   \n",
       "1415               2          200            50    NEW     -       -   \n",
       "1423               3          200            50    NEW     -       -   \n",
       "1599               3          200            50    NEW     -       -   \n",
       "1725               2          200            50    NEW     -       -   \n",
       "1811               2          200            50    NEW     -       -   \n",
       "1837               5          200            50    NEW     -       -   \n",
       "1868               3          200            50    NEW     -       -   \n",
       "1990               5          200            50    NEW     -       -   \n",
       "2077               1          200            50    NEW     -       -   \n",
       "2138               2          200            50    NEW     -       -   \n",
       "2492               2          200            50    NEW     -       -   \n",
       "2497               3          200            50    NEW     -       -   \n",
       "2503               1          200            50    NEW     -       -   \n",
       "2591               1          200            50    NEW     -       -   \n",
       "2669               3          200            50    NEW     -       -   \n",
       "2739               1          200            50    NEW     -       -   \n",
       "2865               3          200            50    NEW     -       -   \n",
       "2904               1          200            50    NEW     -       -   \n",
       "2931               2          200            50    NEW     -       -   \n",
       "2988               1          200            50    NEW     -       -   \n",
       "3095               2          200            50    NEW     -       -   \n",
       "3119               1          200            50    NEW     -       -   \n",
       "3130               3          200            50    NEW     -       -   \n",
       "3136               1          200            50    NEW     -       -   \n",
       "3231               3          200            50    NEW     -       -   \n",
       "3255               2          200            50    NEW     -       -   \n",
       "3268               2          200            50    NEW     -       -   \n",
       "3364               2          200            50    NEW     -       -   \n",
       "3445               2          200            50    NEW     -       -   \n",
       "\n",
       "          mean  median       std  min  max Delivery_Time  target_encoding  \n",
       "47    1.619003       1  0.934412    1    6    30 minutes              1.0  \n",
       "85    1.626558       1  0.968593    1    7    45 minutes              3.0  \n",
       "93    1.619003       1  0.934412    1    6    30 minutes              1.0  \n",
       "106   1.728234       1  1.036480    1    7    30 minutes              1.0  \n",
       "159   1.626558       1  0.968593    1    7    30 minutes              1.0  \n",
       "210   1.728234       1  1.036480    1    7    30 minutes              1.0  \n",
       "248   1.589641       1  0.990781    1    7    30 minutes              1.0  \n",
       "345   1.589641       1  0.990781    1    7    30 minutes              1.0  \n",
       "456   1.576428       1  0.927440    1    7    30 minutes              1.0  \n",
       "483   1.626558       1  0.968593    1    7    30 minutes              1.0  \n",
       "570   1.619003       1  0.934412    1    6    30 minutes              1.0  \n",
       "590   1.626558       1  0.968593    1    7    30 minutes              1.0  \n",
       "607   1.626558       1  0.968593    1    7    30 minutes              1.0  \n",
       "806   1.626558       1  0.968593    1    7    30 minutes              1.0  \n",
       "867   1.619003       1  0.934412    1    6    30 minutes              1.0  \n",
       "941   1.589641       1  0.990781    1    7    45 minutes              3.0  \n",
       "1163  1.728234       1  1.036480    1    7    30 minutes              1.0  \n",
       "1197  1.589641       1  0.990781    1    7    45 minutes              3.0  \n",
       "1350  1.626558       1  0.968593    1    7    30 minutes              1.0  \n",
       "1375  1.546169       1  0.877975    1    6    30 minutes              1.0  \n",
       "1414  1.589641       1  0.990781    1    7    30 minutes              1.0  \n",
       "1415  1.626558       1  0.968593    1    7    30 minutes              1.0  \n",
       "1423  1.589641       1  0.990781    1    7    30 minutes              1.0  \n",
       "1599  1.619003       1  0.934412    1    6    30 minutes              1.0  \n",
       "1725  1.546169       1  0.877975    1    6    30 minutes              1.0  \n",
       "1811  1.546169       1  0.877975    1    6    30 minutes              1.0  \n",
       "1837  1.626558       1  0.968593    1    7    30 minutes              1.0  \n",
       "1868  1.619003       1  0.934412    1    6    30 minutes              1.0  \n",
       "1990  1.546169       1  0.877975    1    6    30 minutes              1.0  \n",
       "2077  1.728234       1  1.036480    1    7    30 minutes              1.0  \n",
       "2138  1.546169       1  0.877975    1    6    30 minutes              1.0  \n",
       "2492  1.619003       1  0.934412    1    6    30 minutes              1.0  \n",
       "2497  1.728234       1  1.036480    1    7    30 minutes              1.0  \n",
       "2503  1.576428       1  0.927440    1    7    30 minutes              1.0  \n",
       "2591  1.626558       1  0.968593    1    7    30 minutes              1.0  \n",
       "2669  1.626558       1  0.968593    1    7    30 minutes              1.0  \n",
       "2739  1.546169       1  0.877975    1    6    45 minutes              3.0  \n",
       "2865  1.619003       1  0.934412    1    6    30 minutes              1.0  \n",
       "2904  1.626558       1  0.968593    1    7    30 minutes              1.0  \n",
       "2931  1.626558       1  0.968593    1    7    30 minutes              1.0  \n",
       "2988  1.589641       1  0.990781    1    7    30 minutes              1.0  \n",
       "3095  1.546169       1  0.877975    1    6    30 minutes              1.0  \n",
       "3119  1.626558       1  0.968593    1    7    30 minutes              1.0  \n",
       "3130  1.546169       1  0.877975    1    6    30 minutes              1.0  \n",
       "3136  1.653846       1  0.949724    1    6    30 minutes              1.0  \n",
       "3231  1.626558       1  0.968593    1    7    30 minutes              1.0  \n",
       "3255  1.626558       1  0.968593    1    7    45 minutes              3.0  \n",
       "3268  1.546169       1  0.877975    1    6    30 minutes              1.0  \n",
       "3364  1.619003       1  0.934412    1    6    30 minutes              1.0  \n",
       "3445  1.546169       1  0.877975    1    6    30 minutes              1.0  "
      ]
     },
     "execution_count": 39,
     "metadata": {},
     "output_type": "execute_result"
    }
   ],
   "source": [
    "dfc[(dfc['Minimum_Order'] == '50') & (dfc['Average_Cost'] == '200') & (dfc['Rating'] =='NEW')].head(50)"
   ]
  },
  {
   "cell_type": "code",
   "execution_count": 64,
   "metadata": {
    "hidden": true
   },
   "outputs": [],
   "source": [
    "# dfc['Average_Cost'].unique()\n",
    "\n",
    "dfc[dfc['Average_Cost'] =='for']\n",
    "dfc['Average_Cost'] = dfc['Average_Cost'].str.replace(r',','')\n",
    "# by looking the data, replaced with \"200\"\n",
    "dfc.loc[dfc['Average_Cost'] == 'for','Average_Cost'] = '200'\n",
    "# dfc.loc[dfc['Average_Cost'] == 'for','Average_Cost'] = pd.to_numeric(dfc[(dfc['Minimum_Order'] == '50') & (dfc['Average_Cost'] != 'for')]['Average_Cost']).mean()\n",
    "dfc['Average_Cost'] = pd.to_numeric(dfc['Average_Cost'])"
   ]
  },
  {
   "cell_type": "code",
   "execution_count": 65,
   "metadata": {
    "hidden": true
   },
   "outputs": [],
   "source": [
    "dfc['Minimum_Order'].unique()\n",
    "\n",
    "dfc[dfc['Minimum_Order'] == '0']\n",
    "\n",
    "dfc['Minimum_Order'].unique()\n",
    "dfc.loc[dfc['Minimum_Order'] =='0','Minimum_Order'] = '50'\n",
    "dfc['Minimum_Order'] = pd.to_numeric(dfc['Minimum_Order'])"
   ]
  },
  {
   "cell_type": "code",
   "execution_count": 325,
   "metadata": {
    "hidden": true
   },
   "outputs": [
    {
     "data": {
      "text/plain": [
       "dtype('int64')"
      ]
     },
     "execution_count": 325,
     "metadata": {},
     "output_type": "execute_result"
    }
   ],
   "source": [
    "# dfc['Minimum_Order'].dtypes"
   ]
  },
  {
   "cell_type": "code",
   "execution_count": 66,
   "metadata": {
    "hidden": true
   },
   "outputs": [],
   "source": [
    "dfc['Rating'].unique()\n",
    "\n",
    "# checking for '-' value\n",
    "dfc[dfc['Rating'] == '-']['Minimum_Order'].value_counts()\n",
    "# substituting '-' with median value of Minimum_order of 50 \n",
    "dfc.loc[((dfc['Rating'] == '-') & (dfc['Minimum_Order'] == 50)), 'Rating'] = str(pd.to_numeric(dfc[(dfc['Minimum_Order'] == 50) & (~dfc['Rating'].isin(['-','NEW','Opening Soon','Temporarily Closed']))]['Rating']).median())\n",
    "# substituting '-' with median value of Minimum_order of 99 and 299\n",
    "dfc.loc[((dfc['Rating'] == '-') & (dfc['Minimum_Order'].isin([99,299]))), 'Rating'] = str(pd.to_numeric(dfc[(dfc['Minimum_Order'].isin([99,299])) & (~dfc['Rating'].isin(['-','NEW','Opening Soon','Temporarily Closed']))]['Rating']).median())\n",
    "\n",
    "# checking for \"NEW\" value\n",
    "dfc[dfc['Rating'] == 'NEW']['Minimum_Order'].value_counts()\n",
    "# substituting \"NEW\" with median value of Minimum_Order of 50\n",
    "dfc.loc[((dfc['Rating'] == 'NEW') & (dfc['Minimum_Order'] == 50)), 'Rating'] = str(dfc[(dfc['Minimum_Order'] == 50) & (~dfc['Rating'].isin(['NEW','Opening Soon','Temporarily Closed']))]['Rating'].median())\n",
    "\n",
    "# checking for \"Temporarily Closed\" and 'Opening Soon'\n",
    "dfc[dfc['Rating'].isin(['Temporarily Closed','Opening Soon'])]['Minimum_Order'].value_counts()\n",
    "# substituting \"Temporarily Closed\" and 'Opening Soon' with median value of Minimum order of 50\n",
    "dfc.loc[((dfc['Rating'].isin(['Temporarily Closed','Opening Soon'])) & (dfc['Minimum_Order'] == 50)),'Rating']= str(dfc[((dfc['Minimum_Order'] == 50) & (~dfc['Rating'].isin(['Temporarily Closed','Opening Soon'])))]['Rating'].median())\n",
    "\n",
    "# Old Approach\n",
    "# dfc['Rating'].unique()\n",
    "# mean_value = pd.to_numeric(dfc.loc[~dfc['Rating'].isin(['Temporarily Closed','Opening Soon','NEW','-'])]['Rating']).mean()\n",
    "\n",
    "# dfc.loc[dfc['Rating'].isin(['Temporarily Closed','NEW','-']), 'Rating'] = round(mean_value, 2)\n",
    "\n",
    "# dfc.loc[dfc['Rating'] == 'Opening Soon', 'Rating'] = 2.5\n",
    "\n",
    "dfc['Rating'] = pd.to_numeric(dfc['Rating'])"
   ]
  },
  {
   "cell_type": "code",
   "execution_count": 74,
   "metadata": {
    "hidden": true
   },
   "outputs": [
    {
     "data": {
      "text/plain": [
       "(array([  11.,  102.,  552., 1538., 1731., 5590., 2748., 1215.,  315.,\n",
       "          66.]),\n",
       " array([2.1 , 2.38, 2.66, 2.94, 3.22, 3.5 , 3.78, 4.06, 4.34, 4.62, 4.9 ]),\n",
       " <a list of 10 Patch objects>)"
      ]
     },
     "execution_count": 74,
     "metadata": {},
     "output_type": "execute_result"
    },
    {
     "data": {
      "image/png": "[encoded data removed]",
      "text/plain": [
       "<Figure size 432x288 with 1 Axes>"
      ]
     },
     "metadata": {
      "needs_background": "light"
     },
     "output_type": "display_data"
    }
   ],
   "source": [
    "plt.hist(dfc['Rating'])"
   ]
  },
  {
   "cell_type": "code",
   "execution_count": 67,
   "metadata": {
    "hidden": true
   },
   "outputs": [],
   "source": [
    "dfc['Votes'].unique()\n",
    "\n",
    "for i in list(dict(dfc[dfc['Votes'] == '-']['Rating'].value_counts()).keys()):\n",
    "    dfc.loc[((dfc['Votes'] =='-') & (dfc['Rating'] == i)), 'Votes']= str(int((pd.to_numeric(dfc[(dfc['Rating'] == i) & (dfc['Votes']!='-')]['Votes'])).mean()))\n",
    "\n",
    "# old Approcah\n",
    "# dfc['Votes'] = dfc['Votes'].str.replace(r'-','0')\n",
    "\n",
    "dfc['Votes'] = pd.to_numeric(dfc['Votes'])"
   ]
  },
  {
   "cell_type": "code",
   "execution_count": 68,
   "metadata": {
    "hidden": true
   },
   "outputs": [],
   "source": [
    "dfc['Reviews'].unique()\n",
    "dfc['Reviews'].value_counts()\n",
    "\n",
    "for i in list(dict(dfc[dfc['Reviews'] == '-']['Rating'].value_counts()).keys()):\n",
    "    dfc.loc[((dfc['Reviews'] == '-') & (dfc['Rating']==i)), 'Reviews'] = str(int(pd.to_numeric(dfc[(dfc['Rating'] ==3.6) & (dfc['Reviews'] != '-')]['Reviews']).mean()))\n",
    "\n",
    "# Old Approach\n",
    "# dfc['Reviews'] = dfc['Reviews'].str.replace(r'-','0')\n",
    "\n",
    "dfc['Reviews'] = pd.to_numeric(dfc['Reviews'])"
   ]
  },
  {
   "cell_type": "code",
   "execution_count": 205,
   "metadata": {
    "hidden": true
   },
   "outputs": [],
   "source": [
    "# dfc.dtypes"
   ]
  },
  {
   "cell_type": "markdown",
   "metadata": {},
   "source": [
    "## creating new features"
   ]
  },
  {
   "cell_type": "code",
   "execution_count": 210,
   "metadata": {},
   "outputs": [
    {
     "data": {
      "text/html": [
       "<div>\n",
       "<style scoped>\n",
       "    .dataframe tbody tr th:only-of-type {\n",
       "        vertical-align: middle;\n",
       "    }\n",
       "\n",
       "    .dataframe tbody tr th {\n",
       "        vertical-align: top;\n",
       "    }\n",
       "\n",
       "    .dataframe thead th {\n",
       "        text-align: right;\n",
       "    }\n",
       "</style>\n",
       "<table border=\"1\" class=\"dataframe\">\n",
       "  <thead>\n",
       "    <tr style=\"text-align: right;\">\n",
       "      <th></th>\n",
       "      <th>Restaurant</th>\n",
       "      <th>Location</th>\n",
       "      <th>City_Name</th>\n",
       "      <th>Zone</th>\n",
       "      <th>Cuisines</th>\n",
       "      <th>No.of Cuisines</th>\n",
       "      <th>Average_Cost</th>\n",
       "      <th>Minimum_Order</th>\n",
       "      <th>Rating</th>\n",
       "      <th>Votes</th>\n",
       "      <th>Reviews</th>\n",
       "      <th>mean</th>\n",
       "      <th>median</th>\n",
       "      <th>std</th>\n",
       "      <th>min</th>\n",
       "      <th>max</th>\n",
       "      <th>Delivery_Time</th>\n",
       "      <th>target_encoding</th>\n",
       "    </tr>\n",
       "  </thead>\n",
       "  <tbody>\n",
       "    <tr>\n",
       "      <th>0</th>\n",
       "      <td>ID_6321</td>\n",
       "      <td>FTI College, Law College Road, Pune</td>\n",
       "      <td>Pune</td>\n",
       "      <td>South</td>\n",
       "      <td>Fast Food, Rolls, Burger, Salad, Wraps</td>\n",
       "      <td>5</td>\n",
       "      <td>200</td>\n",
       "      <td>50</td>\n",
       "      <td>3.5</td>\n",
       "      <td>12</td>\n",
       "      <td>4</td>\n",
       "      <td>1.576428</td>\n",
       "      <td>1</td>\n",
       "      <td>0.927440</td>\n",
       "      <td>1</td>\n",
       "      <td>7</td>\n",
       "      <td>30 minutes</td>\n",
       "      <td>1.0</td>\n",
       "    </tr>\n",
       "    <tr>\n",
       "      <th>1</th>\n",
       "      <td>ID_2882</td>\n",
       "      <td>Sector 3, Marathalli</td>\n",
       "      <td>Bangalore</td>\n",
       "      <td>South</td>\n",
       "      <td>Ice Cream, Desserts</td>\n",
       "      <td>2</td>\n",
       "      <td>100</td>\n",
       "      <td>50</td>\n",
       "      <td>3.5</td>\n",
       "      <td>11</td>\n",
       "      <td>4</td>\n",
       "      <td>1.619003</td>\n",
       "      <td>1</td>\n",
       "      <td>0.934412</td>\n",
       "      <td>1</td>\n",
       "      <td>6</td>\n",
       "      <td>30 minutes</td>\n",
       "      <td>1.0</td>\n",
       "    </tr>\n",
       "  </tbody>\n",
       "</table>\n",
       "</div>"
      ],
      "text/plain": [
       "  Restaurant                             Location  City_Name   Zone  \\\n",
       "0    ID_6321  FTI College, Law College Road, Pune       Pune  South   \n",
       "1    ID_2882                 Sector 3, Marathalli  Bangalore  South   \n",
       "\n",
       "                                 Cuisines  No.of Cuisines  Average_Cost  \\\n",
       "0  Fast Food, Rolls, Burger, Salad, Wraps               5           200   \n",
       "1                     Ice Cream, Desserts               2           100   \n",
       "\n",
       "   Minimum_Order  Rating  Votes  Reviews      mean  median       std  min  \\\n",
       "0             50     3.5     12        4  1.576428       1  0.927440    1   \n",
       "1             50     3.5     11        4  1.619003       1  0.934412    1   \n",
       "\n",
       "   max Delivery_Time  target_encoding  \n",
       "0    7    30 minutes              1.0  \n",
       "1    6    30 minutes              1.0  "
      ]
     },
     "execution_count": 210,
     "metadata": {},
     "output_type": "execute_result"
    }
   ],
   "source": [
    "dfc.head(2)"
   ]
  },
  {
   "cell_type": "code",
   "execution_count": 47,
   "metadata": {},
   "outputs": [],
   "source": [
    "# dfc.iloc[:,5:10].values"
   ]
  },
  {
   "cell_type": "code",
   "execution_count": null,
   "metadata": {},
   "outputs": [],
   "source": [
    "# ss_df = copy.copy(dfc.iloc[:,5:])"
   ]
  },
  {
   "cell_type": "code",
   "execution_count": 69,
   "metadata": {},
   "outputs": [
    {
     "data": {
      "text/html": [
       "<div>\n",
       "<style scoped>\n",
       "    .dataframe tbody tr th:only-of-type {\n",
       "        vertical-align: middle;\n",
       "    }\n",
       "\n",
       "    .dataframe tbody tr th {\n",
       "        vertical-align: top;\n",
       "    }\n",
       "\n",
       "    .dataframe thead th {\n",
       "        text-align: right;\n",
       "    }\n",
       "</style>\n",
       "<table border=\"1\" class=\"dataframe\">\n",
       "  <thead>\n",
       "    <tr style=\"text-align: right;\">\n",
       "      <th></th>\n",
       "      <th>Average_Cost</th>\n",
       "      <th>Minimum_Order</th>\n",
       "      <th>Rating</th>\n",
       "      <th>Votes</th>\n",
       "      <th>Reviews</th>\n",
       "    </tr>\n",
       "  </thead>\n",
       "  <tbody>\n",
       "    <tr>\n",
       "      <th>0</th>\n",
       "      <td>200</td>\n",
       "      <td>50</td>\n",
       "      <td>3.5</td>\n",
       "      <td>12</td>\n",
       "      <td>4</td>\n",
       "    </tr>\n",
       "    <tr>\n",
       "      <th>1</th>\n",
       "      <td>100</td>\n",
       "      <td>50</td>\n",
       "      <td>3.5</td>\n",
       "      <td>11</td>\n",
       "      <td>4</td>\n",
       "    </tr>\n",
       "    <tr>\n",
       "      <th>2</th>\n",
       "      <td>150</td>\n",
       "      <td>50</td>\n",
       "      <td>3.6</td>\n",
       "      <td>99</td>\n",
       "      <td>30</td>\n",
       "    </tr>\n",
       "    <tr>\n",
       "      <th>3</th>\n",
       "      <td>250</td>\n",
       "      <td>99</td>\n",
       "      <td>3.7</td>\n",
       "      <td>176</td>\n",
       "      <td>95</td>\n",
       "    </tr>\n",
       "    <tr>\n",
       "      <th>4</th>\n",
       "      <td>200</td>\n",
       "      <td>99</td>\n",
       "      <td>3.2</td>\n",
       "      <td>521</td>\n",
       "      <td>235</td>\n",
       "    </tr>\n",
       "    <tr>\n",
       "      <th>...</th>\n",
       "      <td>...</td>\n",
       "      <td>...</td>\n",
       "      <td>...</td>\n",
       "      <td>...</td>\n",
       "      <td>...</td>\n",
       "    </tr>\n",
       "    <tr>\n",
       "      <th>2769</th>\n",
       "      <td>100</td>\n",
       "      <td>50</td>\n",
       "      <td>3.6</td>\n",
       "      <td>93</td>\n",
       "      <td>36</td>\n",
       "    </tr>\n",
       "    <tr>\n",
       "      <th>2770</th>\n",
       "      <td>250</td>\n",
       "      <td>50</td>\n",
       "      <td>3.1</td>\n",
       "      <td>5</td>\n",
       "      <td>1</td>\n",
       "    </tr>\n",
       "    <tr>\n",
       "      <th>2771</th>\n",
       "      <td>150</td>\n",
       "      <td>50</td>\n",
       "      <td>3.0</td>\n",
       "      <td>16</td>\n",
       "      <td>1</td>\n",
       "    </tr>\n",
       "    <tr>\n",
       "      <th>2772</th>\n",
       "      <td>100</td>\n",
       "      <td>99</td>\n",
       "      <td>3.0</td>\n",
       "      <td>7</td>\n",
       "      <td>2</td>\n",
       "    </tr>\n",
       "    <tr>\n",
       "      <th>2773</th>\n",
       "      <td>150</td>\n",
       "      <td>50</td>\n",
       "      <td>3.6</td>\n",
       "      <td>99</td>\n",
       "      <td>30</td>\n",
       "    </tr>\n",
       "  </tbody>\n",
       "</table>\n",
       "<p>13868 rows × 5 columns</p>\n",
       "</div>"
      ],
      "text/plain": [
       "      Average_Cost  Minimum_Order  Rating  Votes  Reviews\n",
       "0              200             50     3.5     12        4\n",
       "1              100             50     3.5     11        4\n",
       "2              150             50     3.6     99       30\n",
       "3              250             99     3.7    176       95\n",
       "4              200             99     3.2    521      235\n",
       "...            ...            ...     ...    ...      ...\n",
       "2769           100             50     3.6     93       36\n",
       "2770           250             50     3.1      5        1\n",
       "2771           150             50     3.0     16        1\n",
       "2772           100             99     3.0      7        2\n",
       "2773           150             50     3.6     99       30\n",
       "\n",
       "[13868 rows x 5 columns]"
      ]
     },
     "execution_count": 69,
     "metadata": {},
     "output_type": "execute_result"
    }
   ],
   "source": [
    "dfc.iloc[:,6:11]"
   ]
  },
  {
   "cell_type": "code",
   "execution_count": 70,
   "metadata": {},
   "outputs": [],
   "source": [
    "# Normalizing the feature from Average_cost to Reviews\n",
    "ss = StandardScaler()\n",
    "dfc.iloc[:,6:11] = ss.fit_transform(dfc.iloc[:,6:11].values)"
   ]
  },
  {
   "cell_type": "code",
   "execution_count": 21,
   "metadata": {},
   "outputs": [],
   "source": [
    "# from sklearn.preprocessing import MinMaxScaler\n",
    "# scaler = MinMaxScaler(feature_range = (0,1))\n",
    "# dfc.iloc[:,5:10] = scaler.fit_transform(dfc.iloc[:,5:10].values)"
   ]
  },
  {
   "cell_type": "code",
   "execution_count": 45,
   "metadata": {},
   "outputs": [],
   "source": [
    "# dfc.head()"
   ]
  },
  {
   "cell_type": "code",
   "execution_count": 71,
   "metadata": {},
   "outputs": [],
   "source": [
    "# labelencoder for restaurant feature\n",
    "le = LabelEncoder()\n",
    "dfc['Restaurant'] = le.fit_transform(dfc['Restaurant'])"
   ]
  },
  {
   "cell_type": "code",
   "execution_count": 215,
   "metadata": {},
   "outputs": [
    {
     "data": {
      "text/html": [
       "<div>\n",
       "<style scoped>\n",
       "    .dataframe tbody tr th:only-of-type {\n",
       "        vertical-align: middle;\n",
       "    }\n",
       "\n",
       "    .dataframe tbody tr th {\n",
       "        vertical-align: top;\n",
       "    }\n",
       "\n",
       "    .dataframe thead th {\n",
       "        text-align: right;\n",
       "    }\n",
       "</style>\n",
       "<table border=\"1\" class=\"dataframe\">\n",
       "  <thead>\n",
       "    <tr style=\"text-align: right;\">\n",
       "      <th></th>\n",
       "      <th>Restaurant</th>\n",
       "      <th>Location</th>\n",
       "      <th>City_Name</th>\n",
       "      <th>Zone</th>\n",
       "      <th>Cuisines</th>\n",
       "      <th>No.of Cuisines</th>\n",
       "      <th>Average_Cost</th>\n",
       "      <th>Minimum_Order</th>\n",
       "      <th>Rating</th>\n",
       "      <th>Votes</th>\n",
       "      <th>Reviews</th>\n",
       "      <th>mean</th>\n",
       "      <th>median</th>\n",
       "      <th>std</th>\n",
       "      <th>min</th>\n",
       "      <th>max</th>\n",
       "      <th>Delivery_Time</th>\n",
       "      <th>target_encoding</th>\n",
       "    </tr>\n",
       "  </thead>\n",
       "  <tbody>\n",
       "    <tr>\n",
       "      <th>0</th>\n",
       "      <td>5915</td>\n",
       "      <td>FTI College, Law College Road, Pune</td>\n",
       "      <td>Pune</td>\n",
       "      <td>South</td>\n",
       "      <td>Fast Food, Rolls, Burger, Salad, Wraps</td>\n",
       "      <td>5</td>\n",
       "      <td>200</td>\n",
       "      <td>50</td>\n",
       "      <td>3.5</td>\n",
       "      <td>12</td>\n",
       "      <td>4</td>\n",
       "      <td>1.576428</td>\n",
       "      <td>1</td>\n",
       "      <td>0.92744</td>\n",
       "      <td>1</td>\n",
       "      <td>7</td>\n",
       "      <td>30 minutes</td>\n",
       "      <td>1.0</td>\n",
       "    </tr>\n",
       "  </tbody>\n",
       "</table>\n",
       "</div>"
      ],
      "text/plain": [
       "   Restaurant                             Location City_Name   Zone  \\\n",
       "0        5915  FTI College, Law College Road, Pune      Pune  South   \n",
       "\n",
       "                                 Cuisines  No.of Cuisines  Average_Cost  \\\n",
       "0  Fast Food, Rolls, Burger, Salad, Wraps               5           200   \n",
       "\n",
       "   Minimum_Order  Rating  Votes  Reviews      mean  median      std  min  max  \\\n",
       "0             50     3.5     12        4  1.576428       1  0.92744    1    7   \n",
       "\n",
       "  Delivery_Time  target_encoding  \n",
       "0    30 minutes              1.0  "
      ]
     },
     "execution_count": 215,
     "metadata": {},
     "output_type": "execute_result"
    }
   ],
   "source": [
    "dfc.head(1)"
   ]
  },
  {
   "cell_type": "code",
   "execution_count": 222,
   "metadata": {},
   "outputs": [
    {
     "data": {
      "text/html": [
       "<div>\n",
       "<style scoped>\n",
       "    .dataframe tbody tr th:only-of-type {\n",
       "        vertical-align: middle;\n",
       "    }\n",
       "\n",
       "    .dataframe tbody tr th {\n",
       "        vertical-align: top;\n",
       "    }\n",
       "\n",
       "    .dataframe thead th {\n",
       "        text-align: right;\n",
       "    }\n",
       "</style>\n",
       "<table border=\"1\" class=\"dataframe\">\n",
       "  <thead>\n",
       "    <tr style=\"text-align: right;\">\n",
       "      <th></th>\n",
       "      <th>Location_BTM Layout 1, Electronic City</th>\n",
       "      <th>Location_Babarpur, New Delhi, Delhi</th>\n",
       "      <th>Location_Chandni Chowk, Kolkata</th>\n",
       "      <th>Location_Chatta Bazaar, Malakpet, Hyderabad</th>\n",
       "      <th>Location_D-Block, Sector 63, Noida</th>\n",
       "      <th>Location_Delhi Administration Flats, Timarpur</th>\n",
       "      <th>Location_Delhi Cantt.</th>\n",
       "      <th>Location_Delhi High Court, India Gate</th>\n",
       "      <th>Location_Delhi University-GTB Nagar</th>\n",
       "      <th>Location_Dockyard Road, Mumbai CST Area</th>\n",
       "      <th>...</th>\n",
       "      <th>City_Name_Bangalore</th>\n",
       "      <th>City_Name_Delhi</th>\n",
       "      <th>City_Name_Gurgoan</th>\n",
       "      <th>City_Name_Hyderabad</th>\n",
       "      <th>City_Name_Kolkata</th>\n",
       "      <th>City_Name_Mumbai</th>\n",
       "      <th>City_Name_Noida</th>\n",
       "      <th>City_Name_Pune</th>\n",
       "      <th>Zone_North</th>\n",
       "      <th>Zone_South</th>\n",
       "    </tr>\n",
       "  </thead>\n",
       "  <tbody>\n",
       "    <tr>\n",
       "      <th>0</th>\n",
       "      <td>0</td>\n",
       "      <td>0</td>\n",
       "      <td>0</td>\n",
       "      <td>0</td>\n",
       "      <td>0</td>\n",
       "      <td>0</td>\n",
       "      <td>0</td>\n",
       "      <td>0</td>\n",
       "      <td>0</td>\n",
       "      <td>0</td>\n",
       "      <td>...</td>\n",
       "      <td>0</td>\n",
       "      <td>0</td>\n",
       "      <td>0</td>\n",
       "      <td>0</td>\n",
       "      <td>0</td>\n",
       "      <td>0</td>\n",
       "      <td>0</td>\n",
       "      <td>1</td>\n",
       "      <td>0</td>\n",
       "      <td>1</td>\n",
       "    </tr>\n",
       "    <tr>\n",
       "      <th>1</th>\n",
       "      <td>0</td>\n",
       "      <td>0</td>\n",
       "      <td>0</td>\n",
       "      <td>0</td>\n",
       "      <td>0</td>\n",
       "      <td>0</td>\n",
       "      <td>0</td>\n",
       "      <td>0</td>\n",
       "      <td>0</td>\n",
       "      <td>0</td>\n",
       "      <td>...</td>\n",
       "      <td>1</td>\n",
       "      <td>0</td>\n",
       "      <td>0</td>\n",
       "      <td>0</td>\n",
       "      <td>0</td>\n",
       "      <td>0</td>\n",
       "      <td>0</td>\n",
       "      <td>0</td>\n",
       "      <td>0</td>\n",
       "      <td>1</td>\n",
       "    </tr>\n",
       "    <tr>\n",
       "      <th>2</th>\n",
       "      <td>0</td>\n",
       "      <td>0</td>\n",
       "      <td>0</td>\n",
       "      <td>0</td>\n",
       "      <td>0</td>\n",
       "      <td>0</td>\n",
       "      <td>0</td>\n",
       "      <td>0</td>\n",
       "      <td>0</td>\n",
       "      <td>0</td>\n",
       "      <td>...</td>\n",
       "      <td>0</td>\n",
       "      <td>0</td>\n",
       "      <td>0</td>\n",
       "      <td>0</td>\n",
       "      <td>0</td>\n",
       "      <td>1</td>\n",
       "      <td>0</td>\n",
       "      <td>0</td>\n",
       "      <td>0</td>\n",
       "      <td>1</td>\n",
       "    </tr>\n",
       "    <tr>\n",
       "      <th>3</th>\n",
       "      <td>0</td>\n",
       "      <td>0</td>\n",
       "      <td>0</td>\n",
       "      <td>0</td>\n",
       "      <td>0</td>\n",
       "      <td>0</td>\n",
       "      <td>0</td>\n",
       "      <td>0</td>\n",
       "      <td>0</td>\n",
       "      <td>0</td>\n",
       "      <td>...</td>\n",
       "      <td>0</td>\n",
       "      <td>0</td>\n",
       "      <td>0</td>\n",
       "      <td>0</td>\n",
       "      <td>0</td>\n",
       "      <td>0</td>\n",
       "      <td>1</td>\n",
       "      <td>0</td>\n",
       "      <td>1</td>\n",
       "      <td>0</td>\n",
       "    </tr>\n",
       "    <tr>\n",
       "      <th>4</th>\n",
       "      <td>0</td>\n",
       "      <td>0</td>\n",
       "      <td>0</td>\n",
       "      <td>0</td>\n",
       "      <td>0</td>\n",
       "      <td>0</td>\n",
       "      <td>0</td>\n",
       "      <td>0</td>\n",
       "      <td>0</td>\n",
       "      <td>0</td>\n",
       "      <td>...</td>\n",
       "      <td>1</td>\n",
       "      <td>0</td>\n",
       "      <td>0</td>\n",
       "      <td>0</td>\n",
       "      <td>0</td>\n",
       "      <td>0</td>\n",
       "      <td>0</td>\n",
       "      <td>0</td>\n",
       "      <td>0</td>\n",
       "      <td>1</td>\n",
       "    </tr>\n",
       "    <tr>\n",
       "      <th>...</th>\n",
       "      <td>...</td>\n",
       "      <td>...</td>\n",
       "      <td>...</td>\n",
       "      <td>...</td>\n",
       "      <td>...</td>\n",
       "      <td>...</td>\n",
       "      <td>...</td>\n",
       "      <td>...</td>\n",
       "      <td>...</td>\n",
       "      <td>...</td>\n",
       "      <td>...</td>\n",
       "      <td>...</td>\n",
       "      <td>...</td>\n",
       "      <td>...</td>\n",
       "      <td>...</td>\n",
       "      <td>...</td>\n",
       "      <td>...</td>\n",
       "      <td>...</td>\n",
       "      <td>...</td>\n",
       "      <td>...</td>\n",
       "      <td>...</td>\n",
       "    </tr>\n",
       "    <tr>\n",
       "      <th>2769</th>\n",
       "      <td>0</td>\n",
       "      <td>0</td>\n",
       "      <td>0</td>\n",
       "      <td>0</td>\n",
       "      <td>0</td>\n",
       "      <td>0</td>\n",
       "      <td>0</td>\n",
       "      <td>0</td>\n",
       "      <td>1</td>\n",
       "      <td>0</td>\n",
       "      <td>...</td>\n",
       "      <td>0</td>\n",
       "      <td>1</td>\n",
       "      <td>0</td>\n",
       "      <td>0</td>\n",
       "      <td>0</td>\n",
       "      <td>0</td>\n",
       "      <td>0</td>\n",
       "      <td>0</td>\n",
       "      <td>1</td>\n",
       "      <td>0</td>\n",
       "    </tr>\n",
       "    <tr>\n",
       "      <th>2770</th>\n",
       "      <td>0</td>\n",
       "      <td>0</td>\n",
       "      <td>0</td>\n",
       "      <td>0</td>\n",
       "      <td>0</td>\n",
       "      <td>0</td>\n",
       "      <td>0</td>\n",
       "      <td>0</td>\n",
       "      <td>0</td>\n",
       "      <td>0</td>\n",
       "      <td>...</td>\n",
       "      <td>1</td>\n",
       "      <td>0</td>\n",
       "      <td>0</td>\n",
       "      <td>0</td>\n",
       "      <td>0</td>\n",
       "      <td>0</td>\n",
       "      <td>0</td>\n",
       "      <td>0</td>\n",
       "      <td>0</td>\n",
       "      <td>1</td>\n",
       "    </tr>\n",
       "    <tr>\n",
       "      <th>2771</th>\n",
       "      <td>0</td>\n",
       "      <td>0</td>\n",
       "      <td>0</td>\n",
       "      <td>0</td>\n",
       "      <td>0</td>\n",
       "      <td>0</td>\n",
       "      <td>0</td>\n",
       "      <td>0</td>\n",
       "      <td>0</td>\n",
       "      <td>0</td>\n",
       "      <td>...</td>\n",
       "      <td>0</td>\n",
       "      <td>0</td>\n",
       "      <td>0</td>\n",
       "      <td>1</td>\n",
       "      <td>0</td>\n",
       "      <td>0</td>\n",
       "      <td>0</td>\n",
       "      <td>0</td>\n",
       "      <td>0</td>\n",
       "      <td>1</td>\n",
       "    </tr>\n",
       "    <tr>\n",
       "      <th>2772</th>\n",
       "      <td>0</td>\n",
       "      <td>0</td>\n",
       "      <td>0</td>\n",
       "      <td>0</td>\n",
       "      <td>1</td>\n",
       "      <td>0</td>\n",
       "      <td>0</td>\n",
       "      <td>0</td>\n",
       "      <td>0</td>\n",
       "      <td>0</td>\n",
       "      <td>...</td>\n",
       "      <td>0</td>\n",
       "      <td>0</td>\n",
       "      <td>0</td>\n",
       "      <td>0</td>\n",
       "      <td>0</td>\n",
       "      <td>0</td>\n",
       "      <td>1</td>\n",
       "      <td>0</td>\n",
       "      <td>1</td>\n",
       "      <td>0</td>\n",
       "    </tr>\n",
       "    <tr>\n",
       "      <th>2773</th>\n",
       "      <td>0</td>\n",
       "      <td>0</td>\n",
       "      <td>0</td>\n",
       "      <td>0</td>\n",
       "      <td>0</td>\n",
       "      <td>0</td>\n",
       "      <td>0</td>\n",
       "      <td>0</td>\n",
       "      <td>0</td>\n",
       "      <td>1</td>\n",
       "      <td>...</td>\n",
       "      <td>0</td>\n",
       "      <td>0</td>\n",
       "      <td>0</td>\n",
       "      <td>0</td>\n",
       "      <td>0</td>\n",
       "      <td>1</td>\n",
       "      <td>0</td>\n",
       "      <td>0</td>\n",
       "      <td>0</td>\n",
       "      <td>1</td>\n",
       "    </tr>\n",
       "  </tbody>\n",
       "</table>\n",
       "<p>13868 rows × 45 columns</p>\n",
       "</div>"
      ],
      "text/plain": [
       "      Location_BTM Layout 1, Electronic City  \\\n",
       "0                                          0   \n",
       "1                                          0   \n",
       "2                                          0   \n",
       "3                                          0   \n",
       "4                                          0   \n",
       "...                                      ...   \n",
       "2769                                       0   \n",
       "2770                                       0   \n",
       "2771                                       0   \n",
       "2772                                       0   \n",
       "2773                                       0   \n",
       "\n",
       "      Location_Babarpur, New Delhi, Delhi  Location_Chandni Chowk, Kolkata  \\\n",
       "0                                       0                                0   \n",
       "1                                       0                                0   \n",
       "2                                       0                                0   \n",
       "3                                       0                                0   \n",
       "4                                       0                                0   \n",
       "...                                   ...                              ...   \n",
       "2769                                    0                                0   \n",
       "2770                                    0                                0   \n",
       "2771                                    0                                0   \n",
       "2772                                    0                                0   \n",
       "2773                                    0                                0   \n",
       "\n",
       "      Location_Chatta Bazaar, Malakpet, Hyderabad  \\\n",
       "0                                               0   \n",
       "1                                               0   \n",
       "2                                               0   \n",
       "3                                               0   \n",
       "4                                               0   \n",
       "...                                           ...   \n",
       "2769                                            0   \n",
       "2770                                            0   \n",
       "2771                                            0   \n",
       "2772                                            0   \n",
       "2773                                            0   \n",
       "\n",
       "      Location_D-Block, Sector 63, Noida  \\\n",
       "0                                      0   \n",
       "1                                      0   \n",
       "2                                      0   \n",
       "3                                      0   \n",
       "4                                      0   \n",
       "...                                  ...   \n",
       "2769                                   0   \n",
       "2770                                   0   \n",
       "2771                                   0   \n",
       "2772                                   1   \n",
       "2773                                   0   \n",
       "\n",
       "      Location_Delhi Administration Flats, Timarpur  Location_Delhi Cantt.  \\\n",
       "0                                                 0                      0   \n",
       "1                                                 0                      0   \n",
       "2                                                 0                      0   \n",
       "3                                                 0                      0   \n",
       "4                                                 0                      0   \n",
       "...                                             ...                    ...   \n",
       "2769                                              0                      0   \n",
       "2770                                              0                      0   \n",
       "2771                                              0                      0   \n",
       "2772                                              0                      0   \n",
       "2773                                              0                      0   \n",
       "\n",
       "      Location_Delhi High Court, India Gate  \\\n",
       "0                                         0   \n",
       "1                                         0   \n",
       "2                                         0   \n",
       "3                                         0   \n",
       "4                                         0   \n",
       "...                                     ...   \n",
       "2769                                      0   \n",
       "2770                                      0   \n",
       "2771                                      0   \n",
       "2772                                      0   \n",
       "2773                                      0   \n",
       "\n",
       "      Location_Delhi University-GTB Nagar  \\\n",
       "0                                       0   \n",
       "1                                       0   \n",
       "2                                       0   \n",
       "3                                       0   \n",
       "4                                       0   \n",
       "...                                   ...   \n",
       "2769                                    1   \n",
       "2770                                    0   \n",
       "2771                                    0   \n",
       "2772                                    0   \n",
       "2773                                    0   \n",
       "\n",
       "      Location_Dockyard Road, Mumbai CST Area  ...  City_Name_Bangalore  \\\n",
       "0                                           0  ...                    0   \n",
       "1                                           0  ...                    1   \n",
       "2                                           0  ...                    0   \n",
       "3                                           0  ...                    0   \n",
       "4                                           0  ...                    1   \n",
       "...                                       ...  ...                  ...   \n",
       "2769                                        0  ...                    0   \n",
       "2770                                        0  ...                    1   \n",
       "2771                                        0  ...                    0   \n",
       "2772                                        0  ...                    0   \n",
       "2773                                        1  ...                    0   \n",
       "\n",
       "      City_Name_Delhi  City_Name_Gurgoan  City_Name_Hyderabad  \\\n",
       "0                   0                  0                    0   \n",
       "1                   0                  0                    0   \n",
       "2                   0                  0                    0   \n",
       "3                   0                  0                    0   \n",
       "4                   0                  0                    0   \n",
       "...               ...                ...                  ...   \n",
       "2769                1                  0                    0   \n",
       "2770                0                  0                    0   \n",
       "2771                0                  0                    1   \n",
       "2772                0                  0                    0   \n",
       "2773                0                  0                    0   \n",
       "\n",
       "      City_Name_Kolkata  City_Name_Mumbai  City_Name_Noida  City_Name_Pune  \\\n",
       "0                     0                 0                0               1   \n",
       "1                     0                 0                0               0   \n",
       "2                     0                 1                0               0   \n",
       "3                     0                 0                1               0   \n",
       "4                     0                 0                0               0   \n",
       "...                 ...               ...              ...             ...   \n",
       "2769                  0                 0                0               0   \n",
       "2770                  0                 0                0               0   \n",
       "2771                  0                 0                0               0   \n",
       "2772                  0                 0                1               0   \n",
       "2773                  0                 1                0               0   \n",
       "\n",
       "      Zone_North  Zone_South  \n",
       "0              0           1  \n",
       "1              0           1  \n",
       "2              0           1  \n",
       "3              1           0  \n",
       "4              0           1  \n",
       "...          ...         ...  \n",
       "2769           1           0  \n",
       "2770           0           1  \n",
       "2771           0           1  \n",
       "2772           1           0  \n",
       "2773           0           1  \n",
       "\n",
       "[13868 rows x 45 columns]"
      ]
     },
     "execution_count": 222,
     "metadata": {},
     "output_type": "execute_result"
    }
   ],
   "source": [
    "pd.get_dummies(dfc.iloc[:,1:4],dtype=int)"
   ]
  },
  {
   "cell_type": "code",
   "execution_count": 72,
   "metadata": {},
   "outputs": [
    {
     "data": {
      "text/html": [
       "<div>\n",
       "<style scoped>\n",
       "    .dataframe tbody tr th:only-of-type {\n",
       "        vertical-align: middle;\n",
       "    }\n",
       "\n",
       "    .dataframe tbody tr th {\n",
       "        vertical-align: top;\n",
       "    }\n",
       "\n",
       "    .dataframe thead th {\n",
       "        text-align: right;\n",
       "    }\n",
       "</style>\n",
       "<table border=\"1\" class=\"dataframe\">\n",
       "  <thead>\n",
       "    <tr style=\"text-align: right;\">\n",
       "      <th></th>\n",
       "      <th>Restaurant</th>\n",
       "      <th>Cuisines</th>\n",
       "      <th>No.of Cuisines</th>\n",
       "      <th>Average_Cost</th>\n",
       "      <th>Minimum_Order</th>\n",
       "      <th>Rating</th>\n",
       "      <th>Votes</th>\n",
       "      <th>Reviews</th>\n",
       "      <th>mean</th>\n",
       "      <th>median</th>\n",
       "      <th>std</th>\n",
       "      <th>min</th>\n",
       "      <th>max</th>\n",
       "      <th>Delivery_Time</th>\n",
       "      <th>target_encoding</th>\n",
       "    </tr>\n",
       "  </thead>\n",
       "  <tbody>\n",
       "    <tr>\n",
       "      <th>0</th>\n",
       "      <td>5915</td>\n",
       "      <td>Fast Food, Rolls, Burger, Salad, Wraps</td>\n",
       "      <td>5</td>\n",
       "      <td>-0.009799</td>\n",
       "      <td>-0.229534</td>\n",
       "      <td>-0.292028</td>\n",
       "      <td>-0.407021</td>\n",
       "      <td>-0.35058</td>\n",
       "      <td>1.576428</td>\n",
       "      <td>1</td>\n",
       "      <td>0.927440</td>\n",
       "      <td>1</td>\n",
       "      <td>7</td>\n",
       "      <td>30 minutes</td>\n",
       "      <td>1.0</td>\n",
       "    </tr>\n",
       "    <tr>\n",
       "      <th>1</th>\n",
       "      <td>2093</td>\n",
       "      <td>Ice Cream, Desserts</td>\n",
       "      <td>2</td>\n",
       "      <td>-0.797563</td>\n",
       "      <td>-0.229534</td>\n",
       "      <td>-0.292028</td>\n",
       "      <td>-0.409026</td>\n",
       "      <td>-0.35058</td>\n",
       "      <td>1.619003</td>\n",
       "      <td>1</td>\n",
       "      <td>0.934412</td>\n",
       "      <td>1</td>\n",
       "      <td>6</td>\n",
       "      <td>30 minutes</td>\n",
       "      <td>1.0</td>\n",
       "    </tr>\n",
       "  </tbody>\n",
       "</table>\n",
       "</div>"
      ],
      "text/plain": [
       "   Restaurant                                Cuisines  No.of Cuisines  \\\n",
       "0        5915  Fast Food, Rolls, Burger, Salad, Wraps               5   \n",
       "1        2093                     Ice Cream, Desserts               2   \n",
       "\n",
       "   Average_Cost  Minimum_Order    Rating     Votes  Reviews      mean  median  \\\n",
       "0     -0.009799      -0.229534 -0.292028 -0.407021 -0.35058  1.576428       1   \n",
       "1     -0.797563      -0.229534 -0.292028 -0.409026 -0.35058  1.619003       1   \n",
       "\n",
       "        std  min  max Delivery_Time  target_encoding  \n",
       "0  0.927440    1    7    30 minutes              1.0  \n",
       "1  0.934412    1    6    30 minutes              1.0  "
      ]
     },
     "execution_count": 72,
     "metadata": {},
     "output_type": "execute_result"
    }
   ],
   "source": [
    "# using Location columns generating new features\n",
    "place_df = pd.get_dummies(dfc.iloc[:,1:4],dtype=int)\n",
    "# # Old Approach\n",
    "# loc_df = pd.get_dummies(dfc['Location'],dtype=int)\n",
    "# city_df = pd.get_dummies(dfc['City_Name'],dtype=int)\n",
    "# loc_city_df = pd.concat([loc_df,city_df],axis =1,sort=False)\n",
    "# loc_city_df.shape\n",
    "dfc.drop(['Location','City_Name','Zone'],axis = 1,inplace = True)\n",
    "dfc.head(2)"
   ]
  },
  {
   "cell_type": "code",
   "execution_count": null,
   "metadata": {},
   "outputs": [],
   "source": []
  },
  {
   "cell_type": "code",
   "execution_count": 56,
   "metadata": {},
   "outputs": [],
   "source": [
    "# loc_city_df"
   ]
  },
  {
   "cell_type": "code",
   "execution_count": 73,
   "metadata": {},
   "outputs": [
    {
     "name": "stdout",
     "output_type": "stream",
     "text": [
      "CPU times: user 5 µs, sys: 0 ns, total: 5 µs\n",
      "Wall time: 7.87 µs\n"
     ]
    },
    {
     "data": {
      "text/html": [
       "<div>\n",
       "<style scoped>\n",
       "    .dataframe tbody tr th:only-of-type {\n",
       "        vertical-align: middle;\n",
       "    }\n",
       "\n",
       "    .dataframe tbody tr th {\n",
       "        vertical-align: top;\n",
       "    }\n",
       "\n",
       "    .dataframe thead th {\n",
       "        text-align: right;\n",
       "    }\n",
       "</style>\n",
       "<table border=\"1\" class=\"dataframe\">\n",
       "  <thead>\n",
       "    <tr style=\"text-align: right;\">\n",
       "      <th></th>\n",
       "      <th>Ice Cream</th>\n",
       "      <th>Bihari</th>\n",
       "      <th>BBQ</th>\n",
       "      <th>North Eastern</th>\n",
       "      <th>Momos</th>\n",
       "      <th>Beverages</th>\n",
       "      <th>Iranian</th>\n",
       "      <th>Vietnamese</th>\n",
       "      <th>Tibetan</th>\n",
       "      <th>Thai</th>\n",
       "      <th>...</th>\n",
       "      <th>Spanish</th>\n",
       "      <th>North Indian</th>\n",
       "      <th>Naga</th>\n",
       "      <th>Cantonese</th>\n",
       "      <th>Chinese</th>\n",
       "      <th>Kerala</th>\n",
       "      <th>Brazilian</th>\n",
       "      <th>Mishti</th>\n",
       "      <th>American</th>\n",
       "      <th>Mithai</th>\n",
       "    </tr>\n",
       "  </thead>\n",
       "  <tbody>\n",
       "    <tr>\n",
       "      <th>0</th>\n",
       "      <td>0</td>\n",
       "      <td>0</td>\n",
       "      <td>0</td>\n",
       "      <td>0</td>\n",
       "      <td>0</td>\n",
       "      <td>0</td>\n",
       "      <td>0</td>\n",
       "      <td>0</td>\n",
       "      <td>0</td>\n",
       "      <td>0</td>\n",
       "      <td>...</td>\n",
       "      <td>0</td>\n",
       "      <td>0</td>\n",
       "      <td>0</td>\n",
       "      <td>0</td>\n",
       "      <td>0</td>\n",
       "      <td>0</td>\n",
       "      <td>0</td>\n",
       "      <td>0</td>\n",
       "      <td>0</td>\n",
       "      <td>0</td>\n",
       "    </tr>\n",
       "    <tr>\n",
       "      <th>1</th>\n",
       "      <td>1</td>\n",
       "      <td>0</td>\n",
       "      <td>0</td>\n",
       "      <td>0</td>\n",
       "      <td>0</td>\n",
       "      <td>0</td>\n",
       "      <td>0</td>\n",
       "      <td>0</td>\n",
       "      <td>0</td>\n",
       "      <td>0</td>\n",
       "      <td>...</td>\n",
       "      <td>0</td>\n",
       "      <td>0</td>\n",
       "      <td>0</td>\n",
       "      <td>0</td>\n",
       "      <td>0</td>\n",
       "      <td>0</td>\n",
       "      <td>0</td>\n",
       "      <td>0</td>\n",
       "      <td>0</td>\n",
       "      <td>0</td>\n",
       "    </tr>\n",
       "    <tr>\n",
       "      <th>2</th>\n",
       "      <td>0</td>\n",
       "      <td>0</td>\n",
       "      <td>0</td>\n",
       "      <td>0</td>\n",
       "      <td>0</td>\n",
       "      <td>0</td>\n",
       "      <td>0</td>\n",
       "      <td>0</td>\n",
       "      <td>0</td>\n",
       "      <td>0</td>\n",
       "      <td>...</td>\n",
       "      <td>0</td>\n",
       "      <td>0</td>\n",
       "      <td>0</td>\n",
       "      <td>0</td>\n",
       "      <td>0</td>\n",
       "      <td>0</td>\n",
       "      <td>0</td>\n",
       "      <td>0</td>\n",
       "      <td>0</td>\n",
       "      <td>0</td>\n",
       "    </tr>\n",
       "    <tr>\n",
       "      <th>3</th>\n",
       "      <td>0</td>\n",
       "      <td>0</td>\n",
       "      <td>0</td>\n",
       "      <td>0</td>\n",
       "      <td>0</td>\n",
       "      <td>0</td>\n",
       "      <td>0</td>\n",
       "      <td>0</td>\n",
       "      <td>0</td>\n",
       "      <td>0</td>\n",
       "      <td>...</td>\n",
       "      <td>0</td>\n",
       "      <td>1</td>\n",
       "      <td>0</td>\n",
       "      <td>0</td>\n",
       "      <td>1</td>\n",
       "      <td>0</td>\n",
       "      <td>0</td>\n",
       "      <td>0</td>\n",
       "      <td>0</td>\n",
       "      <td>0</td>\n",
       "    </tr>\n",
       "    <tr>\n",
       "      <th>4</th>\n",
       "      <td>0</td>\n",
       "      <td>0</td>\n",
       "      <td>0</td>\n",
       "      <td>0</td>\n",
       "      <td>0</td>\n",
       "      <td>1</td>\n",
       "      <td>0</td>\n",
       "      <td>0</td>\n",
       "      <td>0</td>\n",
       "      <td>0</td>\n",
       "      <td>...</td>\n",
       "      <td>0</td>\n",
       "      <td>0</td>\n",
       "      <td>0</td>\n",
       "      <td>0</td>\n",
       "      <td>0</td>\n",
       "      <td>0</td>\n",
       "      <td>0</td>\n",
       "      <td>0</td>\n",
       "      <td>0</td>\n",
       "      <td>0</td>\n",
       "    </tr>\n",
       "  </tbody>\n",
       "</table>\n",
       "<p>5 rows × 101 columns</p>\n",
       "</div>"
      ],
      "text/plain": [
       "   Ice Cream  Bihari  BBQ  North Eastern  Momos  Beverages  Iranian  \\\n",
       "0          0       0    0              0      0          0        0   \n",
       "1          1       0    0              0      0          0        0   \n",
       "2          0       0    0              0      0          0        0   \n",
       "3          0       0    0              0      0          0        0   \n",
       "4          0       0    0              0      0          1        0   \n",
       "\n",
       "   Vietnamese  Tibetan  Thai  ...  Spanish  North Indian  Naga  Cantonese  \\\n",
       "0           0        0     0  ...        0             0     0          0   \n",
       "1           0        0     0  ...        0             0     0          0   \n",
       "2           0        0     0  ...        0             0     0          0   \n",
       "3           0        0     0  ...        0             1     0          0   \n",
       "4           0        0     0  ...        0             0     0          0   \n",
       "\n",
       "   Chinese  Kerala  Brazilian  Mishti  American  Mithai  \n",
       "0        0       0          0       0         0       0  \n",
       "1        0       0          0       0         0       0  \n",
       "2        0       0          0       0         0       0  \n",
       "3        1       0          0       0         0       0  \n",
       "4        0       0          0       0         0       0  \n",
       "\n",
       "[5 rows x 101 columns]"
      ]
     },
     "execution_count": 73,
     "metadata": {},
     "output_type": "execute_result"
    }
   ],
   "source": [
    "# transforming Cuisines into features\n",
    "%time\n",
    "new_df = pd.DataFrame(index = dfc.index,columns = list(set([elem.lstrip() for elem in list(set(sum(dfc['Cuisines'].str.split(',').tolist(),[])))])))\n",
    "l = new_df.columns.tolist()\n",
    "for index,rows in enumerate(dfc['Cuisines']):\n",
    "    len_of_each_rows = len(rows.split(','))\n",
    "    count = 0\n",
    "    for elem in rows.split(','):\n",
    "        elem = elem.lstrip()\n",
    "        if elem in l:\n",
    "            new_df[elem].iloc[index] = 1\n",
    "            count +=1\n",
    "            if count == len_of_each_rows:\n",
    "                break\n",
    "new_df.fillna(0,inplace = True)\n",
    "new_df.head()"
   ]
  },
  {
   "cell_type": "code",
   "execution_count": 59,
   "metadata": {},
   "outputs": [],
   "source": [
    "# new_df.dtypes"
   ]
  },
  {
   "cell_type": "code",
   "execution_count": 75,
   "metadata": {},
   "outputs": [
    {
     "data": {
      "text/plain": [
       "(13868, 101)"
      ]
     },
     "execution_count": 75,
     "metadata": {},
     "output_type": "execute_result"
    }
   ],
   "source": [
    "new_df.shape"
   ]
  },
  {
   "cell_type": "code",
   "execution_count": 74,
   "metadata": {},
   "outputs": [
    {
     "data": {
      "text/plain": [
       "(13868, 45)"
      ]
     },
     "execution_count": 74,
     "metadata": {},
     "output_type": "execute_result"
    }
   ],
   "source": [
    "place_df.shape"
   ]
  },
  {
   "cell_type": "code",
   "execution_count": 76,
   "metadata": {},
   "outputs": [
    {
     "data": {
      "text/plain": [
       "(13868, 15)"
      ]
     },
     "execution_count": 76,
     "metadata": {},
     "output_type": "execute_result"
    }
   ],
   "source": [
    "dfc.shape"
   ]
  },
  {
   "cell_type": "code",
   "execution_count": 77,
   "metadata": {},
   "outputs": [],
   "source": [
    "loc_city_cui_df = pd.concat([place_df,new_df],axis =1,sort = False)"
   ]
  },
  {
   "cell_type": "code",
   "execution_count": 78,
   "metadata": {},
   "outputs": [
    {
     "data": {
      "text/plain": [
       "(13868, 146)"
      ]
     },
     "execution_count": 78,
     "metadata": {},
     "output_type": "execute_result"
    }
   ],
   "source": [
    "loc_city_cui_df.shape"
   ]
  },
  {
   "cell_type": "code",
   "execution_count": null,
   "metadata": {},
   "outputs": [],
   "source": [
    "dfc.head()"
   ]
  },
  {
   "cell_type": "code",
   "execution_count": 79,
   "metadata": {},
   "outputs": [],
   "source": [
    "loc_city_cui_df.insert(loc = 0, column='Restaurant',value=dfc.iloc[:,0:1],allow_duplicates=False)"
   ]
  },
  {
   "cell_type": "code",
   "execution_count": 80,
   "metadata": {},
   "outputs": [
    {
     "data": {
      "text/plain": [
       "(13868, 147)"
      ]
     },
     "execution_count": 80,
     "metadata": {},
     "output_type": "execute_result"
    }
   ],
   "source": [
    "loc_city_cui_df.shape"
   ]
  },
  {
   "cell_type": "code",
   "execution_count": 238,
   "metadata": {},
   "outputs": [],
   "source": [
    "# loc_city_cui_df.head(1)"
   ]
  },
  {
   "cell_type": "code",
   "execution_count": 243,
   "metadata": {},
   "outputs": [],
   "source": [
    "# dfc.head(1)"
   ]
  },
  {
   "cell_type": "code",
   "execution_count": 81,
   "metadata": {},
   "outputs": [],
   "source": [
    "final_df = pd.concat([loc_city_cui_df,dfc.iloc[:,2:]],axis = 1,sort = False)"
   ]
  },
  {
   "cell_type": "code",
   "execution_count": 82,
   "metadata": {},
   "outputs": [
    {
     "data": {
      "text/plain": [
       "(13868, 160)"
      ]
     },
     "execution_count": 82,
     "metadata": {},
     "output_type": "execute_result"
    }
   ],
   "source": [
    "final_df.shape"
   ]
  },
  {
   "cell_type": "code",
   "execution_count": 83,
   "metadata": {},
   "outputs": [],
   "source": [
    "final_df.drop('target_encoding',axis=1,inplace = True)"
   ]
  },
  {
   "cell_type": "code",
   "execution_count": 247,
   "metadata": {},
   "outputs": [],
   "source": [
    "# list(final_df.isnull().sum())"
   ]
  },
  {
   "cell_type": "code",
   "execution_count": 84,
   "metadata": {},
   "outputs": [],
   "source": [
    "final_df.to_csv('final_df.csv',index = True)"
   ]
  },
  {
   "cell_type": "code",
   "execution_count": 2,
   "metadata": {
    "ExecuteTime": {
     "end_time": "2019-12-09T06:46:09.773300Z",
     "start_time": "2019-12-09T06:46:08.925813Z"
    }
   },
   "outputs": [],
   "source": [
    "import pandas as pd"
   ]
  },
  {
   "cell_type": "code",
   "execution_count": 11,
   "metadata": {
    "ExecuteTime": {
     "end_time": "2019-12-09T12:10:43.880227Z",
     "start_time": "2019-12-09T12:10:43.691779Z"
    }
   },
   "outputs": [
    {
     "name": "stderr",
     "output_type": "stream",
     "text": [
      "/home/vishal.s@idexcel.internal/anaconda3/envs/hack/lib/python3.7/site-packages/IPython/core/interactiveshell.py:3051: DtypeWarning: Columns (159) have mixed types. Specify dtype option on import or set low_memory=False.\n",
      "  interactivity=interactivity, compiler=compiler, result=result)\n"
     ]
    }
   ],
   "source": [
    "final_df = pd.read_csv('final_df.csv',index_col=0)"
   ]
  },
  {
   "cell_type": "markdown",
   "metadata": {},
   "source": [
    "## Spliting the data"
   ]
  },
  {
   "cell_type": "code",
   "execution_count": null,
   "metadata": {},
   "outputs": [],
   "source": [
    "# spliting the data into three part:- train,valid,test"
   ]
  },
  {
   "cell_type": "code",
   "execution_count": 4,
   "metadata": {
    "ExecuteTime": {
     "end_time": "2019-12-09T06:46:13.633964Z",
     "start_time": "2019-12-09T06:46:13.624307Z"
    }
   },
   "outputs": [
    {
     "data": {
      "text/plain": [
       "(13868, 159)"
      ]
     },
     "execution_count": 4,
     "metadata": {},
     "output_type": "execute_result"
    }
   ],
   "source": [
    "final_df.shape"
   ]
  },
  {
   "cell_type": "code",
   "execution_count": 12,
   "metadata": {
    "ExecuteTime": {
     "end_time": "2019-12-09T12:10:46.270045Z",
     "start_time": "2019-12-09T12:10:46.258974Z"
    }
   },
   "outputs": [
    {
     "data": {
      "text/plain": [
       "((11094, 159), (2774, 159))"
      ]
     },
     "execution_count": 12,
     "metadata": {},
     "output_type": "execute_result"
    }
   ],
   "source": [
    "train_df = final_df.iloc[:11094,:]\n",
    "test_df = final_df.iloc[11094:,:]\n",
    "train_df.shape, test_df.shape"
   ]
  },
  {
   "cell_type": "code",
   "execution_count": null,
   "metadata": {},
   "outputs": [],
   "source": []
  },
  {
   "cell_type": "code",
   "execution_count": 15,
   "metadata": {
    "ExecuteTime": {
     "end_time": "2019-12-09T12:10:59.340619Z",
     "start_time": "2019-12-09T12:10:59.209488Z"
    }
   },
   "outputs": [],
   "source": [
    "X_train, X_test, y_train, y_test = train_test_split(\n",
    "                                     train_df.iloc[:,:-1],\n",
    "                                     train_df.iloc[:,-1:],\n",
    "                                     test_size=0.2,\n",
    "                                     random_state=100,\n",
    "                                     stratify=train_df.iloc[:,-1:])"
   ]
  },
  {
   "cell_type": "code",
   "execution_count": 16,
   "metadata": {
    "ExecuteTime": {
     "end_time": "2019-12-09T12:10:59.891390Z",
     "start_time": "2019-12-09T12:10:59.881671Z"
    }
   },
   "outputs": [
    {
     "data": {
      "text/plain": [
       "((8875, 158), (8875, 1), (2219, 158), (2219, 1))"
      ]
     },
     "execution_count": 16,
     "metadata": {},
     "output_type": "execute_result"
    }
   ],
   "source": [
    "X_train.shape, y_train.shape, X_test.shape, y_test.shape"
   ]
  },
  {
   "cell_type": "code",
   "execution_count": null,
   "metadata": {},
   "outputs": [],
   "source": []
  },
  {
   "cell_type": "markdown",
   "metadata": {},
   "source": [
    "# Training the model "
   ]
  },
  {
   "cell_type": "markdown",
   "metadata": {
    "heading_collapsed": true
   },
   "source": [
    "## Random Forest Classifier"
   ]
  },
  {
   "cell_type": "code",
   "execution_count": null,
   "metadata": {
    "hidden": true
   },
   "outputs": [],
   "source": []
  },
  {
   "cell_type": "code",
   "execution_count": 91,
   "metadata": {
    "hidden": true
   },
   "outputs": [
    {
     "name": "stderr",
     "output_type": "stream",
     "text": [
      "/home/vishal.s@idexcel.internal/anaconda3/envs/hack/lib/python3.7/site-packages/ipykernel_launcher.py:1: DataConversionWarning: A column-vector y was passed when a 1d array was expected. Please change the shape of y to (n_samples,), for example using ravel().\n",
      "  \"\"\"Entry point for launching an IPython kernel.\n"
     ]
    },
    {
     "name": "stdout",
     "output_type": "stream",
     "text": [
      "CPU times: user 51.7 s, sys: 47.4 ms, total: 51.7 s\n",
      "Wall time: 51.7 s\n"
     ]
    },
    {
     "data": {
      "text/plain": [
       "0.8197386210004507"
      ]
     },
     "execution_count": 91,
     "metadata": {},
     "output_type": "execute_result"
    }
   ],
   "source": [
    "clf = RandomForestClassifier(n_estimators = 1500, max_features=49 )\n",
    "%time clf.fit(X_train,y_train)\n",
    "accuracy_score(y_test,clf.predict(X_test))"
   ]
  },
  {
   "cell_type": "code",
   "execution_count": 96,
   "metadata": {
    "hidden": true
   },
   "outputs": [
    {
     "name": "stderr",
     "output_type": "stream",
     "text": [
      "/home/vishal.s@idexcel.internal/anaconda3/envs/hack/lib/python3.7/site-packages/ipykernel_launcher.py:1: DataConversionWarning: A column-vector y was passed when a 1d array was expected. Please change the shape of y to (n_samples,), for example using ravel().\n",
      "  \"\"\"Entry point for launching an IPython kernel.\n"
     ]
    },
    {
     "name": "stdout",
     "output_type": "stream",
     "text": [
      "CPU times: user 1min 28s, sys: 223 ms, total: 1min 28s\n",
      "Wall time: 1min 28s\n"
     ]
    },
    {
     "data": {
      "text/plain": [
       "0.8260477692654349"
      ]
     },
     "execution_count": 96,
     "metadata": {},
     "output_type": "execute_result"
    }
   ],
   "source": [
    "clf = RandomForestClassifier(n_estimators=2000,min_samples_leaf=1,max_features=40, bootstrap =False)\n",
    "%time clf.fit(X_train,y_train)\n",
    "accuracy_score(y_test,clf.predict(X_test))"
   ]
  },
  {
   "cell_type": "code",
   "execution_count": 37,
   "metadata": {
    "hidden": true
   },
   "outputs": [
    {
     "name": "stderr",
     "output_type": "stream",
     "text": [
      "/home/vishal.s@idexcel.internal/anaconda3/envs/hack/lib/python3.7/site-packages/ipykernel_launcher.py:2: DataConversionWarning: A column-vector y was passed when a 1d array was expected. Please change the shape of y to (n_samples,), for example using ravel().\n",
      "  \n"
     ]
    },
    {
     "data": {
      "text/plain": [
       "RandomForestClassifier(bootstrap=True, class_weight=None, criterion='gini',\n",
       "                       max_depth=None, max_features=35, max_leaf_nodes=None,\n",
       "                       min_impurity_decrease=0.0, min_impurity_split=None,\n",
       "                       min_samples_leaf=1, min_samples_split=2,\n",
       "                       min_weight_fraction_leaf=0.0, n_estimators=1000,\n",
       "                       n_jobs=4, oob_score=False, random_state=None, verbose=0,\n",
       "                       warm_start=False)"
      ]
     },
     "execution_count": 37,
     "metadata": {},
     "output_type": "execute_result"
    }
   ],
   "source": [
    "# without splitting the data\n",
    "# clf.fit(train_df.iloc[:,:-1],train_df.iloc[:,-1:])"
   ]
  },
  {
   "cell_type": "markdown",
   "metadata": {
    "heading_collapsed": true
   },
   "source": [
    "## Extra "
   ]
  },
  {
   "cell_type": "code",
   "execution_count": 35,
   "metadata": {
    "hidden": true
   },
   "outputs": [],
   "source": [
    "from sklearn.ensemble import ExtraTreesClassifier"
   ]
  },
  {
   "cell_type": "code",
   "execution_count": 53,
   "metadata": {
    "hidden": true
   },
   "outputs": [
    {
     "name": "stderr",
     "output_type": "stream",
     "text": [
      "/home/vishal.s@idexcel.internal/anaconda3/envs/hack/lib/python3.7/site-packages/ipykernel_launcher.py:2: DataConversionWarning: A column-vector y was passed when a 1d array was expected. Please change the shape of y to (n_samples,), for example using ravel().\n",
      "  \n"
     ]
    },
    {
     "data": {
      "text/plain": [
       "0.8107255520504731"
      ]
     },
     "execution_count": 53,
     "metadata": {},
     "output_type": "execute_result"
    }
   ],
   "source": [
    "elf = ExtraTreesClassifier(n_estimators=1300, max_features=50,min_samples_split=2,random_state=0)\n",
    "elf.fit(X_train, y_train)\n",
    "accuracy_score(y_test,elf.predict(X_test))"
   ]
  },
  {
   "cell_type": "code",
   "execution_count": 56,
   "metadata": {
    "hidden": true
   },
   "outputs": [
    {
     "data": {
      "text/plain": [
       "array(['65 minutes65 minutes', '30 minutes30 minutes',\n",
       "       '45 minutes30 minutes', ..., '30 minutes30 minutes',\n",
       "       '30 minutes30 minutes', '30 minutes30 minutes'], dtype=object)"
      ]
     },
     "execution_count": 56,
     "metadata": {},
     "output_type": "execute_result"
    }
   ],
   "source": [
    "(clf.predict(X_test)+elf.predict(X_test))"
   ]
  },
  {
   "cell_type": "markdown",
   "metadata": {},
   "source": [
    "## LightGBM"
   ]
  },
  {
   "cell_type": "code",
   "execution_count": 13,
   "metadata": {
    "ExecuteTime": {
     "end_time": "2019-12-09T12:10:50.221743Z",
     "start_time": "2019-12-09T12:10:50.139823Z"
    }
   },
   "outputs": [],
   "source": [
    "import lightgbm as lgb"
   ]
  },
  {
   "cell_type": "code",
   "execution_count": 74,
   "metadata": {
    "ExecuteTime": {
     "end_time": "2019-12-09T12:29:43.827472Z",
     "start_time": "2019-12-09T12:29:43.817441Z"
    }
   },
   "outputs": [],
   "source": [
    "x = X_train.values"
   ]
  },
  {
   "cell_type": "code",
   "execution_count": 75,
   "metadata": {
    "ExecuteTime": {
     "end_time": "2019-12-09T12:29:45.113753Z",
     "start_time": "2019-12-09T12:29:45.101500Z"
    }
   },
   "outputs": [],
   "source": [
    "y = y_train['Delivery_Time'].str.split(' ').str[0].values"
   ]
  },
  {
   "cell_type": "code",
   "execution_count": 77,
   "metadata": {
    "ExecuteTime": {
     "end_time": "2019-12-09T12:29:48.725225Z",
     "start_time": "2019-12-09T12:29:48.715602Z"
    }
   },
   "outputs": [
    {
     "data": {
      "text/plain": [
       "8875"
      ]
     },
     "execution_count": 77,
     "metadata": {},
     "output_type": "execute_result"
    }
   ],
   "source": [
    "len(y)"
   ]
  },
  {
   "cell_type": "code",
   "execution_count": 18,
   "metadata": {
    "ExecuteTime": {
     "end_time": "2019-12-09T12:11:05.372206Z",
     "start_time": "2019-12-09T12:11:05.367393Z"
    }
   },
   "outputs": [],
   "source": [
    "# y = y_train.values"
   ]
  },
  {
   "cell_type": "code",
   "execution_count": 78,
   "metadata": {
    "ExecuteTime": {
     "end_time": "2019-12-09T12:30:22.138254Z",
     "start_time": "2019-12-09T12:30:22.112686Z"
    }
   },
   "outputs": [],
   "source": [
    "x_trainl, x_testl, y_trainl, y_testl = train_test_split(x, y, test_size=0.2, random_state=42, stratify=y)\n"
   ]
  },
  {
   "cell_type": "code",
   "execution_count": null,
   "metadata": {
    "ExecuteTime": {
     "end_time": "2019-12-09T12:22:25.535505Z",
     "start_time": "2019-12-09T12:22:25.518366Z"
    }
   },
   "outputs": [],
   "source": []
  },
  {
   "cell_type": "code",
   "execution_count": 81,
   "metadata": {
    "ExecuteTime": {
     "end_time": "2019-12-09T12:31:18.361682Z",
     "start_time": "2019-12-09T12:31:18.357544Z"
    }
   },
   "outputs": [],
   "source": [
    "d_train = lgb.Dataset(x_trainl, label=y_trainl)\n",
    "params = {}\n",
    "params['learning_rate'] = 0.003\n",
    "params['boosting_type'] = 'gbdt'\n",
    "params['objective'] = 'multiclass'\n",
    "params['metric'] = 'multi_logloss'\n",
    "params['num_class'] = 6\n",
    "params['sub_feature'] = 0.5\n",
    "params['num_leaves'] = 10\n",
    "params['min_data'] = 50\n",
    "params['max_depth'] = 10"
   ]
  },
  {
   "cell_type": "code",
   "execution_count": 82,
   "metadata": {
    "ExecuteTime": {
     "end_time": "2019-12-09T12:31:19.144385Z",
     "start_time": "2019-12-09T12:31:19.096762Z"
    }
   },
   "outputs": [
    {
     "ename": "LightGBMError",
     "evalue": "Label must be in [0, 6), but found 30 in label",
     "output_type": "error",
     "traceback": [
      "\u001b[0;31m---------------------------------------------------------------------------\u001b[0m",
      "\u001b[0;31mLightGBMError\u001b[0m                             Traceback (most recent call last)",
      "\u001b[0;32m<ipython-input-82-8eeabe9280b8>\u001b[0m in \u001b[0;36m<module>\u001b[0;34m\u001b[0m\n\u001b[0;32m----> 1\u001b[0;31m \u001b[0mllf\u001b[0m \u001b[0;34m=\u001b[0m \u001b[0mlgb\u001b[0m\u001b[0;34m.\u001b[0m\u001b[0mtrain\u001b[0m\u001b[0;34m(\u001b[0m\u001b[0mparams\u001b[0m\u001b[0;34m,\u001b[0m \u001b[0md_train\u001b[0m\u001b[0;34m,\u001b[0m \u001b[0;36m100\u001b[0m\u001b[0;34m)\u001b[0m\u001b[0;34m\u001b[0m\u001b[0;34m\u001b[0m\u001b[0m\n\u001b[0m",
      "\u001b[0;32m~/anaconda3/envs/hack/lib/python3.7/site-packages/lightgbm/engine.py\u001b[0m in \u001b[0;36mtrain\u001b[0;34m(params, train_set, num_boost_round, valid_sets, valid_names, fobj, feval, init_model, feature_name, categorical_feature, early_stopping_rounds, evals_result, verbose_eval, learning_rates, keep_training_booster, callbacks)\u001b[0m\n\u001b[1;32m    226\u001b[0m     \u001b[0;31m# construct booster\u001b[0m\u001b[0;34m\u001b[0m\u001b[0;34m\u001b[0m\u001b[0;34m\u001b[0m\u001b[0m\n\u001b[1;32m    227\u001b[0m     \u001b[0;32mtry\u001b[0m\u001b[0;34m:\u001b[0m\u001b[0;34m\u001b[0m\u001b[0;34m\u001b[0m\u001b[0m\n\u001b[0;32m--> 228\u001b[0;31m         \u001b[0mbooster\u001b[0m \u001b[0;34m=\u001b[0m \u001b[0mBooster\u001b[0m\u001b[0;34m(\u001b[0m\u001b[0mparams\u001b[0m\u001b[0;34m=\u001b[0m\u001b[0mparams\u001b[0m\u001b[0;34m,\u001b[0m \u001b[0mtrain_set\u001b[0m\u001b[0;34m=\u001b[0m\u001b[0mtrain_set\u001b[0m\u001b[0;34m)\u001b[0m\u001b[0;34m\u001b[0m\u001b[0;34m\u001b[0m\u001b[0m\n\u001b[0m\u001b[1;32m    229\u001b[0m         \u001b[0;32mif\u001b[0m \u001b[0mis_valid_contain_train\u001b[0m\u001b[0;34m:\u001b[0m\u001b[0;34m\u001b[0m\u001b[0;34m\u001b[0m\u001b[0m\n\u001b[1;32m    230\u001b[0m             \u001b[0mbooster\u001b[0m\u001b[0;34m.\u001b[0m\u001b[0mset_train_data_name\u001b[0m\u001b[0;34m(\u001b[0m\u001b[0mtrain_data_name\u001b[0m\u001b[0;34m)\u001b[0m\u001b[0;34m\u001b[0m\u001b[0;34m\u001b[0m\u001b[0m\n",
      "\u001b[0;32m~/anaconda3/envs/hack/lib/python3.7/site-packages/lightgbm/basic.py\u001b[0m in \u001b[0;36m__init__\u001b[0;34m(self, params, train_set, model_file, model_str, silent)\u001b[0m\n\u001b[1;32m   1664\u001b[0m                 \u001b[0mtrain_set\u001b[0m\u001b[0;34m.\u001b[0m\u001b[0mconstruct\u001b[0m\u001b[0;34m(\u001b[0m\u001b[0;34m)\u001b[0m\u001b[0;34m.\u001b[0m\u001b[0mhandle\u001b[0m\u001b[0;34m,\u001b[0m\u001b[0;34m\u001b[0m\u001b[0;34m\u001b[0m\u001b[0m\n\u001b[1;32m   1665\u001b[0m                 \u001b[0mc_str\u001b[0m\u001b[0;34m(\u001b[0m\u001b[0mparams_str\u001b[0m\u001b[0;34m)\u001b[0m\u001b[0;34m,\u001b[0m\u001b[0;34m\u001b[0m\u001b[0;34m\u001b[0m\u001b[0m\n\u001b[0;32m-> 1666\u001b[0;31m                 ctypes.byref(self.handle)))\n\u001b[0m\u001b[1;32m   1667\u001b[0m             \u001b[0;31m# save reference to data\u001b[0m\u001b[0;34m\u001b[0m\u001b[0;34m\u001b[0m\u001b[0;34m\u001b[0m\u001b[0m\n\u001b[1;32m   1668\u001b[0m             \u001b[0mself\u001b[0m\u001b[0;34m.\u001b[0m\u001b[0mtrain_set\u001b[0m \u001b[0;34m=\u001b[0m \u001b[0mtrain_set\u001b[0m\u001b[0;34m\u001b[0m\u001b[0;34m\u001b[0m\u001b[0m\n",
      "\u001b[0;32m~/anaconda3/envs/hack/lib/python3.7/site-packages/lightgbm/basic.py\u001b[0m in \u001b[0;36m_safe_call\u001b[0;34m(ret)\u001b[0m\n\u001b[1;32m     45\u001b[0m     \"\"\"\n\u001b[1;32m     46\u001b[0m     \u001b[0;32mif\u001b[0m \u001b[0mret\u001b[0m \u001b[0;34m!=\u001b[0m \u001b[0;36m0\u001b[0m\u001b[0;34m:\u001b[0m\u001b[0;34m\u001b[0m\u001b[0;34m\u001b[0m\u001b[0m\n\u001b[0;32m---> 47\u001b[0;31m         \u001b[0;32mraise\u001b[0m \u001b[0mLightGBMError\u001b[0m\u001b[0;34m(\u001b[0m\u001b[0mdecode_string\u001b[0m\u001b[0;34m(\u001b[0m\u001b[0m_LIB\u001b[0m\u001b[0;34m.\u001b[0m\u001b[0mLGBM_GetLastError\u001b[0m\u001b[0;34m(\u001b[0m\u001b[0;34m)\u001b[0m\u001b[0;34m)\u001b[0m\u001b[0;34m)\u001b[0m\u001b[0;34m\u001b[0m\u001b[0;34m\u001b[0m\u001b[0m\n\u001b[0m\u001b[1;32m     48\u001b[0m \u001b[0;34m\u001b[0m\u001b[0m\n\u001b[1;32m     49\u001b[0m \u001b[0;34m\u001b[0m\u001b[0m\n",
      "\u001b[0;31mLightGBMError\u001b[0m: Label must be in [0, 6), but found 30 in label"
     ]
    }
   ],
   "source": [
    "llf = lgb.train(params, d_train, 100)"
   ]
  },
  {
   "cell_type": "code",
   "execution_count": 67,
   "metadata": {
    "ExecuteTime": {
     "end_time": "2019-12-09T12:28:26.235957Z",
     "start_time": "2019-12-09T12:28:26.228160Z"
    }
   },
   "outputs": [
    {
     "data": {
      "text/plain": [
       "(array(['10', '120', '20', '30', '45', '65', '80'], dtype=object),\n",
       " array([   2,   40,   13, 4740, 1706,  590,    9]))"
      ]
     },
     "execution_count": 67,
     "metadata": {},
     "output_type": "execute_result"
    }
   ],
   "source": [
    "np.unique(y,return_counts = True)"
   ]
  },
  {
   "cell_type": "code",
   "execution_count": null,
   "metadata": {},
   "outputs": [],
   "source": []
  },
  {
   "cell_type": "code",
   "execution_count": 20,
   "metadata": {},
   "outputs": [],
   "source": [
    "categorical_features = [c for c, col in enumerate(X_train.columns) if 'cat' in col]"
   ]
  },
  {
   "cell_type": "code",
   "execution_count": 23,
   "metadata": {},
   "outputs": [
    {
     "name": "stdout",
     "output_type": "stream",
     "text": [
      "1 Location_BTM Layout 1, Electronic City\n"
     ]
    }
   ],
   "source": [
    "for c,col in enumerate(X_train.columns):\n",
    "    if 'cat' in col:\n",
    "        print(c, col)\n",
    "        break\n",
    "    "
   ]
  },
  {
   "cell_type": "code",
   "execution_count": 28,
   "metadata": {},
   "outputs": [],
   "source": [
    "train_data = lgb.Dataset(x, label=y)\n",
    "test_data = lgb.Dataset(x_test, label=y_test)"
   ]
  },
  {
   "cell_type": "code",
   "execution_count": 29,
   "metadata": {},
   "outputs": [],
   "source": [
    "parameters = {\n",
    "    'application': 'multiclass',\n",
    "    \n",
    "    'metric': 'auc',\n",
    "    'is_unbalance': 'true',\n",
    "    'boosting': 'gbdt',\n",
    "    'num_leaves': 31,\n",
    "    'feature_fraction': 0.5,\n",
    "    'bagging_fraction': 0.5,\n",
    "    'bagging_freq': 20,\n",
    "    'learning_rate': 0.05,\n",
    "    'verbose': 0\n",
    "}"
   ]
  },
  {
   "cell_type": "code",
   "execution_count": 33,
   "metadata": {},
   "outputs": [
    {
     "data": {
      "text/plain": [
       "30 minutes     7406\n",
       "45 minutes     2665\n",
       "65 minutes      923\n",
       "120 minutes      62\n",
       "20 minutes       20\n",
       "80 minutes       14\n",
       "10 minutes        4\n",
       "Name: Delivery_Time, dtype: int64"
      ]
     },
     "execution_count": 33,
     "metadata": {},
     "output_type": "execute_result"
    }
   ],
   "source": [
    "train_df['Delivery_Time'].value_counts()"
   ]
  },
  {
   "cell_type": "code",
   "execution_count": 34,
   "metadata": {},
   "outputs": [
    {
     "ename": "TypeError",
     "evalue": "train() got an unexpected keyword argument 'num_class'",
     "output_type": "error",
     "traceback": [
      "\u001b[0;31m---------------------------------------------------------------------------\u001b[0m",
      "\u001b[0;31mTypeError\u001b[0m                                 Traceback (most recent call last)",
      "\u001b[0;32m<ipython-input-34-18c6b56cbe5d>\u001b[0m in \u001b[0;36m<module>\u001b[0;34m\u001b[0m\n\u001b[1;32m      4\u001b[0m                        \u001b[0mnum_boost_round\u001b[0m\u001b[0;34m=\u001b[0m\u001b[0;36m5000\u001b[0m\u001b[0;34m,\u001b[0m\u001b[0;34m\u001b[0m\u001b[0;34m\u001b[0m\u001b[0m\n\u001b[1;32m      5\u001b[0m                        \u001b[0mearly_stopping_rounds\u001b[0m\u001b[0;34m=\u001b[0m\u001b[0;36m100\u001b[0m\u001b[0;34m,\u001b[0m\u001b[0;34m\u001b[0m\u001b[0;34m\u001b[0m\u001b[0m\n\u001b[0;32m----> 6\u001b[0;31m                        num_class= 7)\n\u001b[0m",
      "\u001b[0;31mTypeError\u001b[0m: train() got an unexpected keyword argument 'num_class'"
     ]
    }
   ],
   "source": [
    "model = lgb.train(parameters,\n",
    "                       train_data,\n",
    "                       valid_sets=test_data,\n",
    "                       num_boost_round=5000,\n",
    "                       early_stopping_rounds=100,\n",
    "                       num_class= 7)"
   ]
  },
  {
   "cell_type": "code",
   "execution_count": null,
   "metadata": {},
   "outputs": [],
   "source": []
  },
  {
   "cell_type": "code",
   "execution_count": null,
   "metadata": {},
   "outputs": [],
   "source": []
  },
  {
   "cell_type": "code",
   "execution_count": null,
   "metadata": {},
   "outputs": [],
   "source": []
  },
  {
   "cell_type": "markdown",
   "metadata": {},
   "source": [
    "## xgboost "
   ]
  },
  {
   "cell_type": "code",
   "execution_count": 11,
   "metadata": {
    "ExecuteTime": {
     "end_time": "2019-12-09T06:48:25.243738Z",
     "start_time": "2019-12-09T06:48:25.211332Z"
    }
   },
   "outputs": [
    {
     "data": {
      "text/html": [
       "<div>\n",
       "<style scoped>\n",
       "    .dataframe tbody tr th:only-of-type {\n",
       "        vertical-align: middle;\n",
       "    }\n",
       "\n",
       "    .dataframe tbody tr th {\n",
       "        vertical-align: top;\n",
       "    }\n",
       "\n",
       "    .dataframe thead th {\n",
       "        text-align: right;\n",
       "    }\n",
       "</style>\n",
       "<table border=\"1\" class=\"dataframe\">\n",
       "  <thead>\n",
       "    <tr style=\"text-align: right;\">\n",
       "      <th></th>\n",
       "      <th>Restaurant</th>\n",
       "      <th>Location_BTM Layout 1, Electronic City</th>\n",
       "      <th>Location_Babarpur, New Delhi, Delhi</th>\n",
       "      <th>Location_Chandni Chowk, Kolkata</th>\n",
       "      <th>Location_Chatta Bazaar, Malakpet, Hyderabad</th>\n",
       "      <th>Location_D-Block, Sector 63, Noida</th>\n",
       "      <th>Location_Delhi Administration Flats, Timarpur</th>\n",
       "      <th>Location_Delhi Cantt.</th>\n",
       "      <th>Location_Delhi High Court, India Gate</th>\n",
       "      <th>Location_Delhi University-GTB Nagar</th>\n",
       "      <th>...</th>\n",
       "      <th>Average_Cost</th>\n",
       "      <th>Minimum_Order</th>\n",
       "      <th>Rating</th>\n",
       "      <th>Votes</th>\n",
       "      <th>Reviews</th>\n",
       "      <th>mean</th>\n",
       "      <th>median</th>\n",
       "      <th>std</th>\n",
       "      <th>min</th>\n",
       "      <th>max</th>\n",
       "    </tr>\n",
       "  </thead>\n",
       "  <tbody>\n",
       "    <tr>\n",
       "      <th>0</th>\n",
       "      <td>5915</td>\n",
       "      <td>0</td>\n",
       "      <td>0</td>\n",
       "      <td>0</td>\n",
       "      <td>0</td>\n",
       "      <td>0</td>\n",
       "      <td>0</td>\n",
       "      <td>0</td>\n",
       "      <td>0</td>\n",
       "      <td>0</td>\n",
       "      <td>...</td>\n",
       "      <td>-0.009799</td>\n",
       "      <td>-0.229534</td>\n",
       "      <td>-0.292028</td>\n",
       "      <td>-0.407021</td>\n",
       "      <td>-0.350580</td>\n",
       "      <td>1.576428</td>\n",
       "      <td>1</td>\n",
       "      <td>0.927440</td>\n",
       "      <td>1</td>\n",
       "      <td>7</td>\n",
       "    </tr>\n",
       "    <tr>\n",
       "      <th>1</th>\n",
       "      <td>2093</td>\n",
       "      <td>0</td>\n",
       "      <td>0</td>\n",
       "      <td>0</td>\n",
       "      <td>0</td>\n",
       "      <td>0</td>\n",
       "      <td>0</td>\n",
       "      <td>0</td>\n",
       "      <td>0</td>\n",
       "      <td>0</td>\n",
       "      <td>...</td>\n",
       "      <td>-0.797563</td>\n",
       "      <td>-0.229534</td>\n",
       "      <td>-0.292028</td>\n",
       "      <td>-0.409026</td>\n",
       "      <td>-0.350580</td>\n",
       "      <td>1.619003</td>\n",
       "      <td>1</td>\n",
       "      <td>0.934412</td>\n",
       "      <td>1</td>\n",
       "      <td>6</td>\n",
       "    </tr>\n",
       "    <tr>\n",
       "      <th>2</th>\n",
       "      <td>663</td>\n",
       "      <td>0</td>\n",
       "      <td>0</td>\n",
       "      <td>0</td>\n",
       "      <td>0</td>\n",
       "      <td>0</td>\n",
       "      <td>0</td>\n",
       "      <td>0</td>\n",
       "      <td>0</td>\n",
       "      <td>0</td>\n",
       "      <td>...</td>\n",
       "      <td>-0.403681</td>\n",
       "      <td>-0.229534</td>\n",
       "      <td>-0.025380</td>\n",
       "      <td>-0.232642</td>\n",
       "      <td>-0.258610</td>\n",
       "      <td>1.728234</td>\n",
       "      <td>1</td>\n",
       "      <td>1.036480</td>\n",
       "      <td>1</td>\n",
       "      <td>7</td>\n",
       "    </tr>\n",
       "    <tr>\n",
       "      <th>3</th>\n",
       "      <td>5478</td>\n",
       "      <td>0</td>\n",
       "      <td>0</td>\n",
       "      <td>0</td>\n",
       "      <td>0</td>\n",
       "      <td>0</td>\n",
       "      <td>0</td>\n",
       "      <td>0</td>\n",
       "      <td>0</td>\n",
       "      <td>0</td>\n",
       "      <td>...</td>\n",
       "      <td>0.384083</td>\n",
       "      <td>2.572816</td>\n",
       "      <td>0.241267</td>\n",
       "      <td>-0.078306</td>\n",
       "      <td>-0.028687</td>\n",
       "      <td>1.626558</td>\n",
       "      <td>1</td>\n",
       "      <td>0.968593</td>\n",
       "      <td>1</td>\n",
       "      <td>7</td>\n",
       "    </tr>\n",
       "    <tr>\n",
       "      <th>4</th>\n",
       "      <td>5695</td>\n",
       "      <td>0</td>\n",
       "      <td>0</td>\n",
       "      <td>0</td>\n",
       "      <td>0</td>\n",
       "      <td>0</td>\n",
       "      <td>0</td>\n",
       "      <td>0</td>\n",
       "      <td>0</td>\n",
       "      <td>0</td>\n",
       "      <td>...</td>\n",
       "      <td>-0.009799</td>\n",
       "      <td>2.572816</td>\n",
       "      <td>-1.091972</td>\n",
       "      <td>0.613198</td>\n",
       "      <td>0.466531</td>\n",
       "      <td>1.619003</td>\n",
       "      <td>1</td>\n",
       "      <td>0.934412</td>\n",
       "      <td>1</td>\n",
       "      <td>6</td>\n",
       "    </tr>\n",
       "    <tr>\n",
       "      <th>...</th>\n",
       "      <td>...</td>\n",
       "      <td>...</td>\n",
       "      <td>...</td>\n",
       "      <td>...</td>\n",
       "      <td>...</td>\n",
       "      <td>...</td>\n",
       "      <td>...</td>\n",
       "      <td>...</td>\n",
       "      <td>...</td>\n",
       "      <td>...</td>\n",
       "      <td>...</td>\n",
       "      <td>...</td>\n",
       "      <td>...</td>\n",
       "      <td>...</td>\n",
       "      <td>...</td>\n",
       "      <td>...</td>\n",
       "      <td>...</td>\n",
       "      <td>...</td>\n",
       "      <td>...</td>\n",
       "      <td>...</td>\n",
       "      <td>...</td>\n",
       "    </tr>\n",
       "    <tr>\n",
       "      <th>11089</th>\n",
       "      <td>7854</td>\n",
       "      <td>1</td>\n",
       "      <td>0</td>\n",
       "      <td>0</td>\n",
       "      <td>0</td>\n",
       "      <td>0</td>\n",
       "      <td>0</td>\n",
       "      <td>0</td>\n",
       "      <td>0</td>\n",
       "      <td>0</td>\n",
       "      <td>...</td>\n",
       "      <td>0.384083</td>\n",
       "      <td>-0.229534</td>\n",
       "      <td>1.574506</td>\n",
       "      <td>0.222348</td>\n",
       "      <td>0.303816</td>\n",
       "      <td>1.619003</td>\n",
       "      <td>1</td>\n",
       "      <td>0.934412</td>\n",
       "      <td>1</td>\n",
       "      <td>6</td>\n",
       "    </tr>\n",
       "    <tr>\n",
       "      <th>11090</th>\n",
       "      <td>4025</td>\n",
       "      <td>0</td>\n",
       "      <td>0</td>\n",
       "      <td>0</td>\n",
       "      <td>0</td>\n",
       "      <td>0</td>\n",
       "      <td>0</td>\n",
       "      <td>0</td>\n",
       "      <td>0</td>\n",
       "      <td>0</td>\n",
       "      <td>...</td>\n",
       "      <td>-0.797563</td>\n",
       "      <td>-0.229534</td>\n",
       "      <td>-0.025380</td>\n",
       "      <td>-0.358917</td>\n",
       "      <td>-0.308132</td>\n",
       "      <td>1.626558</td>\n",
       "      <td>1</td>\n",
       "      <td>0.968593</td>\n",
       "      <td>1</td>\n",
       "      <td>7</td>\n",
       "    </tr>\n",
       "    <tr>\n",
       "      <th>11091</th>\n",
       "      <td>2660</td>\n",
       "      <td>0</td>\n",
       "      <td>0</td>\n",
       "      <td>0</td>\n",
       "      <td>0</td>\n",
       "      <td>0</td>\n",
       "      <td>0</td>\n",
       "      <td>0</td>\n",
       "      <td>0</td>\n",
       "      <td>0</td>\n",
       "      <td>...</td>\n",
       "      <td>-0.797563</td>\n",
       "      <td>-0.229534</td>\n",
       "      <td>-0.292028</td>\n",
       "      <td>-0.340877</td>\n",
       "      <td>-0.301058</td>\n",
       "      <td>1.619003</td>\n",
       "      <td>1</td>\n",
       "      <td>0.934412</td>\n",
       "      <td>1</td>\n",
       "      <td>6</td>\n",
       "    </tr>\n",
       "    <tr>\n",
       "      <th>11092</th>\n",
       "      <td>3464</td>\n",
       "      <td>0</td>\n",
       "      <td>0</td>\n",
       "      <td>0</td>\n",
       "      <td>0</td>\n",
       "      <td>0</td>\n",
       "      <td>0</td>\n",
       "      <td>0</td>\n",
       "      <td>0</td>\n",
       "      <td>0</td>\n",
       "      <td>...</td>\n",
       "      <td>-0.797563</td>\n",
       "      <td>-0.229534</td>\n",
       "      <td>-1.358619</td>\n",
       "      <td>-0.382969</td>\n",
       "      <td>-0.332893</td>\n",
       "      <td>1.619003</td>\n",
       "      <td>1</td>\n",
       "      <td>0.934412</td>\n",
       "      <td>1</td>\n",
       "      <td>6</td>\n",
       "    </tr>\n",
       "    <tr>\n",
       "      <th>11093</th>\n",
       "      <td>3799</td>\n",
       "      <td>0</td>\n",
       "      <td>0</td>\n",
       "      <td>0</td>\n",
       "      <td>0</td>\n",
       "      <td>0</td>\n",
       "      <td>0</td>\n",
       "      <td>0</td>\n",
       "      <td>0</td>\n",
       "      <td>0</td>\n",
       "      <td>...</td>\n",
       "      <td>-0.797563</td>\n",
       "      <td>-0.229534</td>\n",
       "      <td>-0.025380</td>\n",
       "      <td>-0.244668</td>\n",
       "      <td>-0.237387</td>\n",
       "      <td>1.589641</td>\n",
       "      <td>1</td>\n",
       "      <td>0.990781</td>\n",
       "      <td>1</td>\n",
       "      <td>7</td>\n",
       "    </tr>\n",
       "  </tbody>\n",
       "</table>\n",
       "<p>11094 rows × 158 columns</p>\n",
       "</div>"
      ],
      "text/plain": [
       "       Restaurant  Location_BTM Layout 1, Electronic City  \\\n",
       "0            5915                                       0   \n",
       "1            2093                                       0   \n",
       "2             663                                       0   \n",
       "3            5478                                       0   \n",
       "4            5695                                       0   \n",
       "...           ...                                     ...   \n",
       "11089        7854                                       1   \n",
       "11090        4025                                       0   \n",
       "11091        2660                                       0   \n",
       "11092        3464                                       0   \n",
       "11093        3799                                       0   \n",
       "\n",
       "       Location_Babarpur, New Delhi, Delhi  Location_Chandni Chowk, Kolkata  \\\n",
       "0                                        0                                0   \n",
       "1                                        0                                0   \n",
       "2                                        0                                0   \n",
       "3                                        0                                0   \n",
       "4                                        0                                0   \n",
       "...                                    ...                              ...   \n",
       "11089                                    0                                0   \n",
       "11090                                    0                                0   \n",
       "11091                                    0                                0   \n",
       "11092                                    0                                0   \n",
       "11093                                    0                                0   \n",
       "\n",
       "       Location_Chatta Bazaar, Malakpet, Hyderabad  \\\n",
       "0                                                0   \n",
       "1                                                0   \n",
       "2                                                0   \n",
       "3                                                0   \n",
       "4                                                0   \n",
       "...                                            ...   \n",
       "11089                                            0   \n",
       "11090                                            0   \n",
       "11091                                            0   \n",
       "11092                                            0   \n",
       "11093                                            0   \n",
       "\n",
       "       Location_D-Block, Sector 63, Noida  \\\n",
       "0                                       0   \n",
       "1                                       0   \n",
       "2                                       0   \n",
       "3                                       0   \n",
       "4                                       0   \n",
       "...                                   ...   \n",
       "11089                                   0   \n",
       "11090                                   0   \n",
       "11091                                   0   \n",
       "11092                                   0   \n",
       "11093                                   0   \n",
       "\n",
       "       Location_Delhi Administration Flats, Timarpur  Location_Delhi Cantt.  \\\n",
       "0                                                  0                      0   \n",
       "1                                                  0                      0   \n",
       "2                                                  0                      0   \n",
       "3                                                  0                      0   \n",
       "4                                                  0                      0   \n",
       "...                                              ...                    ...   \n",
       "11089                                              0                      0   \n",
       "11090                                              0                      0   \n",
       "11091                                              0                      0   \n",
       "11092                                              0                      0   \n",
       "11093                                              0                      0   \n",
       "\n",
       "       Location_Delhi High Court, India Gate  \\\n",
       "0                                          0   \n",
       "1                                          0   \n",
       "2                                          0   \n",
       "3                                          0   \n",
       "4                                          0   \n",
       "...                                      ...   \n",
       "11089                                      0   \n",
       "11090                                      0   \n",
       "11091                                      0   \n",
       "11092                                      0   \n",
       "11093                                      0   \n",
       "\n",
       "       Location_Delhi University-GTB Nagar  ...  Average_Cost  Minimum_Order  \\\n",
       "0                                        0  ...     -0.009799      -0.229534   \n",
       "1                                        0  ...     -0.797563      -0.229534   \n",
       "2                                        0  ...     -0.403681      -0.229534   \n",
       "3                                        0  ...      0.384083       2.572816   \n",
       "4                                        0  ...     -0.009799       2.572816   \n",
       "...                                    ...  ...           ...            ...   \n",
       "11089                                    0  ...      0.384083      -0.229534   \n",
       "11090                                    0  ...     -0.797563      -0.229534   \n",
       "11091                                    0  ...     -0.797563      -0.229534   \n",
       "11092                                    0  ...     -0.797563      -0.229534   \n",
       "11093                                    0  ...     -0.797563      -0.229534   \n",
       "\n",
       "         Rating     Votes   Reviews      mean  median       std  min  max  \n",
       "0     -0.292028 -0.407021 -0.350580  1.576428       1  0.927440    1    7  \n",
       "1     -0.292028 -0.409026 -0.350580  1.619003       1  0.934412    1    6  \n",
       "2     -0.025380 -0.232642 -0.258610  1.728234       1  1.036480    1    7  \n",
       "3      0.241267 -0.078306 -0.028687  1.626558       1  0.968593    1    7  \n",
       "4     -1.091972  0.613198  0.466531  1.619003       1  0.934412    1    6  \n",
       "...         ...       ...       ...       ...     ...       ...  ...  ...  \n",
       "11089  1.574506  0.222348  0.303816  1.619003       1  0.934412    1    6  \n",
       "11090 -0.025380 -0.358917 -0.308132  1.626558       1  0.968593    1    7  \n",
       "11091 -0.292028 -0.340877 -0.301058  1.619003       1  0.934412    1    6  \n",
       "11092 -1.358619 -0.382969 -0.332893  1.619003       1  0.934412    1    6  \n",
       "11093 -0.025380 -0.244668 -0.237387  1.589641       1  0.990781    1    7  \n",
       "\n",
       "[11094 rows x 158 columns]"
      ]
     },
     "execution_count": 11,
     "metadata": {},
     "output_type": "execute_result"
    }
   ],
   "source": [
    "train_df.iloc[:,:-1].values"
   ]
  },
  {
   "cell_type": "code",
   "execution_count": 12,
   "metadata": {
    "ExecuteTime": {
     "end_time": "2019-12-09T06:48:52.905837Z",
     "start_time": "2019-12-09T06:48:52.890557Z"
    }
   },
   "outputs": [],
   "source": [
    "X = train_df.iloc[:,:-1].values\n",
    "y = train_df.iloc[:,-1:].values"
   ]
  },
  {
   "cell_type": "code",
   "execution_count": 14,
   "metadata": {
    "ExecuteTime": {
     "end_time": "2019-12-09T06:50:53.989528Z",
     "start_time": "2019-12-09T06:50:53.969860Z"
    }
   },
   "outputs": [],
   "source": [
    "X_train, X_test, y_train, y_test = train_test_split(X, y, test_size=0.2, random_state=100)"
   ]
  },
  {
   "cell_type": "code",
   "execution_count": 15,
   "metadata": {
    "ExecuteTime": {
     "end_time": "2019-12-09T06:51:13.635491Z",
     "start_time": "2019-12-09T06:51:13.615633Z"
    }
   },
   "outputs": [],
   "source": [
    "import xgboost as xgb"
   ]
  },
  {
   "cell_type": "code",
   "execution_count": 29,
   "metadata": {
    "ExecuteTime": {
     "end_time": "2019-12-09T07:16:31.967424Z",
     "start_time": "2019-12-09T07:16:22.830565Z"
    }
   },
   "outputs": [
    {
     "name": "stdout",
     "output_type": "stream",
     "text": [
      "XGBClassifier(base_score=0.5, booster='gbtree', colsample_bylevel=1,\n",
      "              colsample_bynode=1, colsample_bytree=1, gamma=0,\n",
      "              learning_rate=0.01, max_delta_step=0, max_depth=4,\n",
      "              min_child_weight=1, missing=None, n_estimators=100, n_jobs=4,\n",
      "              nthread=None, objective='multi:softprob', random_state=0,\n",
      "              reg_alpha=0, reg_lambda=1, scale_pos_weight=1, seed=None,\n",
      "              silent=None, subsample=1, verbosity=1)\n"
     ]
    }
   ],
   "source": [
    "model = xgb.XGBClassifier(n_estimators=100,learning_rate=0.01,max_depth=4,n_jobs = 4, min_child_weight = 1,scale_pos_weight=1)\n",
    "model.fit(X_train, y_train)\n",
    "print(model)"
   ]
  },
  {
   "cell_type": "code",
   "execution_count": 30,
   "metadata": {
    "ExecuteTime": {
     "end_time": "2019-12-09T07:16:34.713959Z",
     "start_time": "2019-12-09T07:16:34.682348Z"
    }
   },
   "outputs": [
    {
     "data": {
      "text/plain": [
       "0.7210455159981974"
      ]
     },
     "execution_count": 30,
     "metadata": {},
     "output_type": "execute_result"
    }
   ],
   "source": [
    "# %time model.fit(X_train,y_train)\n",
    "accuracy_score(y_test,model.predict(X_test))"
   ]
  },
  {
   "cell_type": "code",
   "execution_count": null,
   "metadata": {},
   "outputs": [],
   "source": []
  },
  {
   "cell_type": "code",
   "execution_count": null,
   "metadata": {},
   "outputs": [],
   "source": [
    "import xgboost as xgb\n",
    "# read in data\n",
    "dtrain = xgb.DMatrix('demo/data/agaricus.txt.train')\n",
    "dtest = xgb.DMatrix('demo/data/agaricus.txt.test')\n",
    "# specify parameters via map\n",
    "param = {'max_depth':2, 'eta':1, 'objective':'binary:logistic' }\n",
    "num_round = 2\n",
    "bst = xgb.train(param, dtrain, num_round)\n",
    "# make prediction\n",
    "preds = bst.predict(dtest)\n",
    "\n",
    "from sklearn.cross_validation import train_test_split\n",
    "X_train, X_test, y_train, y_test = train_test_split(X, y, test_size=0.2, random_state=42, stratify=y)\n",
    "\n",
    "import xgboost as xgb\n",
    "dtrain = xgb.DMatrix(X_train, label=y_train)\n",
    "dtest = xgb.DMatrix(X_test, label=y_test)"
   ]
  },
  {
   "cell_type": "code",
   "execution_count": null,
   "metadata": {},
   "outputs": [],
   "source": [
    "import xgboost as xgb"
   ]
  },
  {
   "cell_type": "code",
   "execution_count": null,
   "metadata": {},
   "outputs": [],
   "source": [
    "dtrain = xgb.DMatrix(X_train, label=y_train)\n",
    "dtest = xgb.DMatrix(X_test, label=y_test)"
   ]
  },
  {
   "cell_type": "code",
   "execution_count": null,
   "metadata": {},
   "outputs": [],
   "source": [
    "from sklearn.datasets import dump_svmlight_file\n",
    "dump_svmlight_file(X_train, y_train, 'dtrain.svm', zero_based=True)\n",
    "dump_svmlight_file(X_test, y_test, 'dtest.svm', zero_based=True)\n",
    "dtrain_svm = xgb.DMatrix('dtrain.svm')\n",
    "dtest_svm = xgb.DMatrix('dtest.svm')"
   ]
  },
  {
   "cell_type": "code",
   "execution_count": null,
   "metadata": {},
   "outputs": [],
   "source": [
    "param = {\n",
    "    'max_depth': 3,  # the maximum depth of each tree\n",
    "    'eta': 0.3,  # the training step for each iteration\n",
    "    'silent': 1,  # logging mode - quiet\n",
    "    'objective': 'multi:softprob',  # error evaluation for multiclass training\n",
    "    'num_class': 3}  # the number of classes that exist in this datset\n",
    "num_round = 20  # the number of training iterations\n"
   ]
  },
  {
   "cell_type": "code",
   "execution_count": null,
   "metadata": {},
   "outputs": [],
   "source": [
    "bst = xgb.train(param, dtrain, num_round)\n",
    "preds = bst.predict(dtest)"
   ]
  },
  {
   "cell_type": "code",
   "execution_count": null,
   "metadata": {},
   "outputs": [],
   "source": []
  },
  {
   "cell_type": "markdown",
   "metadata": {},
   "source": [
    "## Predicting the accuracy"
   ]
  },
  {
   "cell_type": "code",
   "execution_count": 51,
   "metadata": {},
   "outputs": [
    {
     "data": {
      "text/plain": [
       "0.8116268589454709"
      ]
     },
     "execution_count": 51,
     "metadata": {},
     "output_type": "execute_result"
    }
   ],
   "source": [
    "# clf.predict(X_test)\n",
    "accuracy_score(y_test,clf.predict(X_test))"
   ]
  },
  {
   "cell_type": "code",
   "execution_count": 97,
   "metadata": {},
   "outputs": [
    {
     "data": {
      "text/plain": [
       "array(['30 minutes', '30 minutes', '30 minutes', ..., '45 minutes',\n",
       "       '30 minutes', '65 minutes'], dtype=object)"
      ]
     },
     "execution_count": 97,
     "metadata": {},
     "output_type": "execute_result"
    }
   ],
   "source": [
    "# without spliting the data\n",
    "test_pred_arr = clf.predict(test_df.iloc[:,:-1])\n",
    "test_pred_arr"
   ]
  },
  {
   "cell_type": "markdown",
   "metadata": {},
   "source": [
    "## Writing into excel sheet "
   ]
  },
  {
   "cell_type": "code",
   "execution_count": 98,
   "metadata": {},
   "outputs": [],
   "source": [
    "test_pred_df = pd.DataFrame(test_pred_arr,columns=['Delivery_Time'])"
   ]
  },
  {
   "cell_type": "code",
   "execution_count": 99,
   "metadata": {},
   "outputs": [],
   "source": [
    "test_pred_df.to_excel('Submission.xlsx',index= False)"
   ]
  },
  {
   "cell_type": "markdown",
   "metadata": {
    "heading_collapsed": true
   },
   "source": [
    "# Hypertuning the model "
   ]
  },
  {
   "cell_type": "code",
   "execution_count": null,
   "metadata": {
    "hidden": true
   },
   "outputs": [],
   "source": []
  }
 ],
 "metadata": {
  "kernelspec": {
   "display_name": "Python 3",
   "language": "python",
   "name": "python3"
  },
  "language_info": {
   "codemirror_mode": {
    "name": "ipython",
    "version": 3
   },
   "file_extension": ".py",
   "mimetype": "text/x-python",
   "name": "python",
   "nbconvert_exporter": "python",
   "pygments_lexer": "ipython3",
   "version": "3.7.5"
  },
  "toc": {
   "base_numbering": 1,
   "nav_menu": {},
   "number_sections": true,
   "sideBar": true,
   "skip_h1_title": false,
   "title_cell": "Table of Contents",
   "title_sidebar": "Contents",
   "toc_cell": false,
   "toc_position": {},
   "toc_section_display": true,
   "toc_window_display": false
  }
 },
 "nbformat": 4,
 "nbformat_minor": 2
}
